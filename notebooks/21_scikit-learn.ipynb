{
 "cells": [
  {
   "cell_type": "markdown",
   "metadata": {},
   "source": [
    "# Machine Learning with scikit-learn\n",
    "\n",
    "> [scikit-learn](http://scikit-learn.org/) or *sklearn* is a Machine Learning library in Python. It is fully interoperable with *numpy* and *scipy*.\n",
    "\n",
    "Scikit-learn is the largest and best supported ML library in python. Its structure resembles how *scipy* is organized, i.e. in subpackages, the main of which are:\n",
    "\n",
    "- `sklearn.datasets`: Contains functions for downloading and loading several known datasets, as well as tools for creating artificial ones.\n",
    "- `sklearn`.**model_family**: All models (supervised and unsupervised) are grouped into categories or families. For example: \n",
    "    - `sklearn.dummy`: *Dummy* classifiers and regressors used for benchmarking (e.g. `DummyClassifier`, `DummyRegressor`) .\n",
    "    - `sklearn.linear_model`: Family of linear models (e.g. `LinearRegression`, `LogisticRegression`, `Lasso`, `Ridge`).\n",
    "    - `sklearn.tree`: Tree-based algorithms (e.g. `DecisionTreeClassifier`, `DecisionTreeRegressor`).\n",
    "    - `sklearn.ensemble`: Ensemble methods (e.g. `RandomForestClassifier`, `GradientBoostingClassifier`).\n",
    "    - `sklearn.naive_bayes`: Naive Bayes algorithms (e.g. `GaussianNB`).\n",
    "    - `sklearn.neighbors`: k-Nearest Neighbors implementations (e.g. `KNeighborsClassifier`, `KNeighborsRegressor`).\n",
    "    - `sklearn.neural_network`: Neural Network based algorithms (e.g. `MLPClassifier`, `MLPRegressor`).\n",
    "    - `sklearn.cluster`: Collection of clustering algorithms (e.g. `KMeans`, `DBSCAN`, `SpectralClustering`).\n",
    "- `sklearn.preprocessing`: Sub-module including multiple preprocessing options (e.g. *scaling*, *normalization*).\n",
    "- `sklearn.impute`: Classes that handle imputing missing values. \n",
    "- `sklearn.feature_selection`: Techniques for selecting or discarding features based on certain criteria.\n",
    "- `sklearn.feature_extraction`: Feature extraction algorithms.\n",
    "- `sklearn.metrics`: Implementations of a large number of performance metrics both for supervised and unsupervised learning.\n",
    "- `sklearn.model_selection`: Contains functions for splitting the data and evaluating models. \n",
    "- `sklearn.pipeline`: The *Pipeline* class which incorporates multiple steps of the ML workflow into a single object. \n",
    "- `sklearn.utils`: Includes various utilities.\n",
    "\n",
    "Through this tutorial we will get acquainted with the main functionality of scikit-learn. To do this, we'll load one of scikit-learn's datasets (which are already processed to a great extent), split it into a training and test set, train ML models on them and compare them to see which one performed the best."
   ]
  },
  {
   "cell_type": "code",
   "execution_count": 1,
   "metadata": {},
   "outputs": [],
   "source": [
    "from __future__ import print_function\n",
    "import numpy as np\n",
    "import pandas as pd\n",
    "import matplotlib.pyplot as plt\n",
    "import seaborn as sns\n",
    "%matplotlib inline"
   ]
  },
  {
   "cell_type": "markdown",
   "metadata": {},
   "source": [
    "## Datasets\n",
    "\n",
    "The first thing we'll do is to load a dataset. Scikit-learn has a submodule called `datasets` which contains many popular datasets we can use. For this tutorial we'll work with the [iris dataset](https://archive.ics.uci.edu/ml/datasets/iris). \n",
    "\n",
    "![](https://s3.amazonaws.com/assets.datacamp.com/blog_assets/Machine+Learning+R/iris-machinelearning.png)\n",
    "\n",
    "This dataset depicts a **classification** problem with $150$ samples, each having $4$ features (i.e. sepal length, sepal width, petal length and petal width). Each sample belongs to one of 3 classes (i.e. *Iris Versicolor*, *Iris Setosa* and *Iris Virginica*)."
   ]
  },
  {
   "cell_type": "code",
   "execution_count": 2,
   "metadata": {},
   "outputs": [
    {
     "name": "stdout",
     "output_type": "stream",
     "text": [
      "dict_keys(['data', 'target', 'target_names', 'DESCR', 'feature_names', 'filename'])\n"
     ]
    }
   ],
   "source": [
    "from sklearn import datasets\n",
    "iris = datasets.load_iris()  # downloads and loads the dataset into memory in the form of a dictionary\n",
    "print(iris.keys())"
   ]
  },
  {
   "cell_type": "markdown",
   "metadata": {},
   "source": [
    "Each scikit-learn dataset (including `iris`) contains 5 things:\n",
    "- `data` a numpy array containing of the dataset's training examples.\n",
    "- `feature_names` is a list containing the names of each feature.\n",
    "- `target` is an array containing the labels (or targets) for all the examples.\n",
    "- `target_names` is an array containing the names of the three target classes.\n",
    "- `DESCR` is a string containing the description of the dataset."
   ]
  },
  {
   "cell_type": "code",
   "execution_count": 3,
   "metadata": {},
   "outputs": [
    {
     "name": "stdout",
     "output_type": "stream",
     "text": [
      ".. _iris_dataset:\n",
      "\n",
      "Iris plants dataset\n",
      "--------------------\n",
      "\n",
      "**Data Set Characteristics:**\n",
      "\n",
      "    :Number of Instances: 150 (50 in each of three classes)\n",
      "    :Number of Attributes: 4 numeric, predictive attributes and the class\n",
      "    :Attribute Information:\n",
      "        - sepal length in cm\n",
      "        - sepal width in cm\n",
      "        - petal length in cm\n",
      "        - petal width in cm\n",
      "        - class:\n",
      "                - Iris-Setosa\n",
      "                - Iris-Versicolour\n",
      "                - Iris-Virginica\n",
      "                \n",
      "    :Summary Statistics:\n",
      "\n",
      "    ============== ==== ==== ======= ===== ====================\n",
      "                    Min  Max   Mean    SD   Class Correlation\n",
      "    ============== ==== ==== ======= ===== ====================\n",
      "    sepal length:   4.3  7.9   5.84   0.83    0.7826\n",
      "    sepal width:    2.0  4.4   3.05   0.43   -0.4194\n",
      "    petal length:   1.0  6.9   3.76   1.76    0.9490  (high!)\n",
      "    petal width:    0.1  2.5   1.20   0.76    0.9565  (high!)\n",
      "    ============== ==== ==== ======= ===== ====================\n",
      "\n",
      "    :Missing Attribute Values: None\n",
      "    :Class Distribution: 33.3% for each of 3 classes.\n",
      "    :Creator: R.A. Fisher\n",
      "    :Donor: Michael Marshall (MARSHALL%PLU@io.arc.nasa.gov)\n",
      "    :Date: July, 1988\n",
      "\n",
      "The famous Iris database, first used by Sir R.A. Fisher. The dataset is taken\n",
      "from Fisher's paper. Note that it's the same as in R, but not as in the UCI\n",
      "Machine Learning Repository, which has two wrong data points.\n",
      "\n",
      "This is perhaps the best known database to be found in the\n",
      "pattern recognition literature.  Fisher's paper is a classic in the field and\n",
      "is referenced frequently to this day.  (See Duda & Hart, for example.)  The\n",
      "data set contains 3 classes of 50 instances each, where each class refers to a\n",
      "type of iris plant.  One class is linearly separable from the other 2; the\n",
      "latter are NOT linearly separable from each other.\n",
      "\n",
      ".. topic:: References\n",
      "\n",
      "   - Fisher, R.A. \"The use of multiple measurements in taxonomic problems\"\n",
      "     Annual Eugenics, 7, Part II, 179-188 (1936); also in \"Contributions to\n",
      "     Mathematical Statistics\" (John Wiley, NY, 1950).\n",
      "   - Duda, R.O., & Hart, P.E. (1973) Pattern Classification and Scene Analysis.\n",
      "     (Q327.D83) John Wiley & Sons.  ISBN 0-471-22361-1.  See page 218.\n",
      "   - Dasarathy, B.V. (1980) \"Nosing Around the Neighborhood: A New System\n",
      "     Structure and Classification Rule for Recognition in Partially Exposed\n",
      "     Environments\".  IEEE Transactions on Pattern Analysis and Machine\n",
      "     Intelligence, Vol. PAMI-2, No. 1, 67-71.\n",
      "   - Gates, G.W. (1972) \"The Reduced Nearest Neighbor Rule\".  IEEE Transactions\n",
      "     on Information Theory, May 1972, 431-433.\n",
      "   - See also: 1988 MLC Proceedings, 54-64.  Cheeseman et al\"s AUTOCLASS II\n",
      "     conceptual clustering system finds 3 classes in the data.\n",
      "   - Many, many more ...\n"
     ]
    }
   ],
   "source": [
    "print(iris['DESCR'])"
   ]
  },
  {
   "cell_type": "code",
   "execution_count": 4,
   "metadata": {},
   "outputs": [
    {
     "name": "stdout",
     "output_type": "stream",
     "text": [
      "Features: (150, 4)\n",
      "Labels: (150,)\n",
      "Classes: ['setosa' 'versicolor' 'virginica']\n"
     ]
    }
   ],
   "source": [
    "print('Features:', iris['data'].shape)\n",
    "print('Labels:', iris['target'].shape)\n",
    "print('Classes:', iris['target_names'])"
   ]
  },
  {
   "cell_type": "markdown",
   "metadata": {},
   "source": [
    "More information on the datasets scikit-learn provides can he found [here](http://scikit-learn.org/stable/datasets/index.html#datasets).\n",
    "\n",
    "## train/test split\n",
    "\n",
    "The first thing we want to do is to **shuffle** the dataset along its rows and **split** it into two parts. The first will be used to train the classifier; we'll call this the **training set**. The second will be used to evaluate the classifier's performance on and will be referred to as the **test set**. \n",
    "\n",
    "It is crucial **not** to evaluate the classifier's performance on the training set, as they usually suffer from a problem called *overfitting*, which we will investigate later on. It is also important to first shuffle the data before splitting it, so that the test set's distribution matches the training set's.\n",
    "\n",
    "The whole procedure is depicted in the following figures. First, we shuffle and split the data (the percentages are arbitrary):\n",
    "\n",
    "![train test split](https://i.imgur.com/ZDjKu8l.png)\n",
    "\n",
    "Then we use the training set to train the model:\n",
    "\n",
    "![training phase](https://i.imgur.com/cHlSuBC.png)\n",
    "\n",
    "Finally, we evaluate the model's performance on the test set:\n",
    "\n",
    "![evaluation](https://i.imgur.com/RrrDeh3.png)\n",
    "\n",
    "Scikit-learn has a function to help us with the splitting:"
   ]
  },
  {
   "cell_type": "code",
   "execution_count": 5,
   "metadata": {},
   "outputs": [
    {
     "name": "stdout",
     "output_type": "stream",
     "text": [
      "Full data size:\n",
      "(150, 4) (150,)\n",
      "\n",
      "Training data size:\n",
      "(90, 4) (90,)\n",
      "\n",
      "Test data size:\n",
      "(60, 4) (60,)\n"
     ]
    }
   ],
   "source": [
    "from sklearn.model_selection import train_test_split\n",
    "\n",
    "seed = 13  # random seed for reproducibility\n",
    "\n",
    "# This function handles both shuffling and splitting\n",
    "train, test, train_labels, test_labels = train_test_split(iris['data'], iris['target'], test_size=0.4, random_state=seed)\n",
    "print('Full data size:')\n",
    "print(iris['data'].shape, iris['target'].shape)\n",
    "print('\\nTraining data size:')\n",
    "print(train.shape, train_labels.shape)\n",
    "print('\\nTest data size:')\n",
    "print(test.shape, test_labels.shape)"
   ]
  },
  {
   "cell_type": "markdown",
   "metadata": {},
   "source": [
    "So, we just shuffled and split our 150 samples into a training set (90 samples) and a test set (60 samples). Note that the labels were shuffle-split **accordingly**.\n",
    "\n",
    "## Training classifiers\n",
    "\n",
    "It's time to create a classifier. The first one we will use is [Logistic Regression](http://scikit-learn.org/stable/modules/generated/sklearn.linear_model.LogisticRegression.html). In scikit-learn all models are instances of a class called an *estimator*. This helps us a lot because most estimators share the same methods.\n",
    "\n",
    "The usual way of handling estimators in python is:\n",
    "\n",
    "```python\n",
    "from sklearn.model_family import model  # model_family is the family of classifiers that model belongs to\n",
    "\n",
    "my_model = model(...)  # as arguments we pass the values of any hyperparameters we wish to control\n",
    "\n",
    "my_model.fit(X_train, y_train)  # X_train: training data, y_train: training labels\n",
    "                                # this line handles the complete training phase\n",
    "\n",
    "preds = my_model.predict(X_test)  #  to generate predictions on the test set\n",
    "```"
   ]
  },
  {
   "cell_type": "code",
   "execution_count": 6,
   "metadata": {},
   "outputs": [
    {
     "name": "stderr",
     "output_type": "stream",
     "text": [
      "c:\\users\\thano\\appdata\\local\\programs\\python\\python36\\lib\\site-packages\\sklearn\\linear_model\\logistic.py:432: FutureWarning: Default solver will be changed to 'lbfgs' in 0.22. Specify a solver to silence this warning.\n",
      "  FutureWarning)\n",
      "c:\\users\\thano\\appdata\\local\\programs\\python\\python36\\lib\\site-packages\\sklearn\\linear_model\\logistic.py:459: FutureWarning: Default multi_class will be changed to 'auto' in 0.22. Specify the multi_class option to silence this warning.\n",
      "  \"this warning.\", FutureWarning)\n"
     ]
    },
    {
     "data": {
      "text/plain": [
       "LogisticRegression(C=1.0, class_weight=None, dual=False, fit_intercept=True,\n",
       "          intercept_scaling=1, max_iter=100, multi_class='warn',\n",
       "          n_jobs=None, penalty='l2', random_state=None, solver='warn',\n",
       "          tol=0.0001, verbose=0, warm_start=False)"
      ]
     },
     "execution_count": 6,
     "metadata": {},
     "output_type": "execute_result"
    }
   ],
   "source": [
    "from sklearn.linear_model import LogisticRegression  # LogisticRegression belongs to the family of linear_models\n",
    "\n",
    "clf = LogisticRegression()  # we will use the default hyperparameter settings\n",
    "\n",
    "clf.fit(train, train_labels)  # train the model. this might take a minute..."
   ]
  },
  {
   "cell_type": "markdown",
   "metadata": {},
   "source": [
    "## Model evaluation\n",
    "\n",
    "OK, we've trained the model. Now we have to see how well it performs. In order to do this we must first define a **metric** (i.e. a function that evaluates the performance of our model). The simplest metric we can use in classification is **accuracy** (i.e. the number of correct predictions, over the number of total predictions). A full guide on scikit-learn metrics can be found [here](http://scikit-learn.org/stable/modules/model_evaluation.html#model-evaluation).\n",
    "\n",
    "Most metrics are scikit-learn functions that accept two arguments: `y_test` (the test set labels) and `y_pred` (the model's predictions on the test set).\n",
    "\n",
    "```python\n",
    "from sklearn.metrics import desired_metric  # import the desired metric\n",
    "\n",
    "y_pred = my_model.predict(X_test)  # generate predictions\n",
    "\n",
    "print(desired_metric(y_test, y_pred))  # print the model's score \n",
    "```"
   ]
  },
  {
   "cell_type": "code",
   "execution_count": 7,
   "metadata": {},
   "outputs": [
    {
     "name": "stdout",
     "output_type": "stream",
     "text": [
      "0.95\n"
     ]
    }
   ],
   "source": [
    "from sklearn.metrics import accuracy_score\n",
    "\n",
    "preds = clf.predict(test)\n",
    "\n",
    "print(accuracy_score(test_labels, preds))"
   ]
  },
  {
   "cell_type": "markdown",
   "metadata": {},
   "source": [
    "So we scored 95% on the test set. While that might appear a good enough result, let's see if we can do better with other ML algorithms. Because of the way scikit-learn organizes its *estimators*, we need to know which family each *estimator* belongs to import it.\n",
    "\n",
    "Another important observation is that we can interact with each model the same way, **regardless** of how it works."
   ]
  },
  {
   "cell_type": "code",
   "execution_count": 8,
   "metadata": {},
   "outputs": [
    {
     "name": "stdout",
     "output_type": "stream",
     "text": [
      "mlp: 0.9833333333333333\n",
      "knn: 0.95\n",
      "dtc: 0.9333333333333333\n",
      "svc: 0.9833333333333333\n"
     ]
    },
    {
     "name": "stderr",
     "output_type": "stream",
     "text": [
      "c:\\users\\thano\\appdata\\local\\programs\\python\\python36\\lib\\site-packages\\sklearn\\neural_network\\multilayer_perceptron.py:562: ConvergenceWarning: Stochastic Optimizer: Maximum iterations (200) reached and the optimization hasn't converged yet.\n",
      "  % self.max_iter, ConvergenceWarning)\n",
      "c:\\users\\thano\\appdata\\local\\programs\\python\\python36\\lib\\site-packages\\sklearn\\svm\\base.py:196: FutureWarning: The default value of gamma will change from 'auto' to 'scale' in version 0.22 to account better for unscaled features. Set gamma explicitly to 'auto' or 'scale' to avoid this warning.\n",
      "  \"avoid this warning.\", FutureWarning)\n"
     ]
    }
   ],
   "source": [
    "from sklearn.neural_network import MLPClassifier\n",
    "from sklearn.neighbors import KNeighborsClassifier\n",
    "from sklearn.tree import DecisionTreeClassifier\n",
    "from sklearn.svm import SVC\n",
    "\n",
    "# We will use the default arguments for all classifiers\n",
    "mlp = MLPClassifier()\n",
    "knn = KNeighborsClassifier()\n",
    "dtc = DecisionTreeClassifier()\n",
    "svc = SVC()\n",
    "\n",
    "# Train the four classifiers\n",
    "mlp.fit(train, train_labels)\n",
    "knn.fit(train, train_labels)\n",
    "dtc.fit(train, train_labels)\n",
    "svc.fit(train, train_labels)\n",
    "\n",
    "# Evaluate the classifiers\n",
    "preds = mlp.predict(test)\n",
    "print('mlp:', accuracy_score(test_labels, preds))\n",
    "preds = knn.predict(test)\n",
    "print('knn:', accuracy_score(test_labels, preds))\n",
    "preds = dtc.predict(test)\n",
    "print('dtc:', accuracy_score(test_labels, preds))\n",
    "preds = svc.predict(test)\n",
    "print('svc:', accuracy_score(test_labels, preds))"
   ]
  },
  {
   "cell_type": "markdown",
   "metadata": {},
   "source": [
    "## Hyperparameters\n",
    "\n",
    "Complex classifiers usually have several **hyperparameters**; parameters that affect the behaviour of the classifier, which we must select in order to achieve the best results. The classifiers we trained above were initialized with default values for their hyperparameters, so their performance was probably **unoptimized**. The selection of hyperparameters can either be **empirical** or through **trial and error**.\n",
    "\n",
    "We'll start by trying to optimize the kNN classifier by choosing the best value of $k$. The most intuitive way of doing so is through a for loop."
   ]
  },
  {
   "cell_type": "code",
   "execution_count": 9,
   "metadata": {},
   "outputs": [
    {
     "name": "stdout",
     "output_type": "stream",
     "text": [
      "Best accuracy 96.67% for k=1\n"
     ]
    },
    {
     "data": {
      "image/png": "[encoded data removed]",
      "text/plain": [
       "<Figure size 504x360 with 1 Axes>"
      ]
     },
     "metadata": {},
     "output_type": "display_data"
    }
   ],
   "source": [
    "knn_accuracies = []\n",
    "for k in range(1, 22, 2):\n",
    "    knn = KNeighborsClassifier(n_neighbors=k)\n",
    "    knn.fit(train, train_labels)\n",
    "    knn_accuracies.append(accuracy_score(test_labels, knn.predict(test)))\n",
    "\n",
    "# Create figure\n",
    "fig = plt.figure(figsize=(7, 5))\n",
    "ax = plt.subplot(111)\n",
    "\n",
    "# Draw figure\n",
    "ax.plot(range(1, 22, 2), knn_accuracies)\n",
    "\n",
    "# Aesthetic parameters\n",
    "ax.set_xticks(range(1, 22, 2))\n",
    "\n",
    "ax.set_xlabel('$k$')\n",
    "ax.set_ylabel('accuracy')\n",
    "\n",
    "ax.spines['right'].set_visible(False)\n",
    "ax.spines['top'].set_visible(False)\n",
    "\n",
    "ax.yaxis.set_ticks_position('left')\n",
    "ax.xaxis.set_ticks_position('bottom')\n",
    "\n",
    "ax.set_title('kNN accuracy on different values of k')\n",
    "\n",
    "print('Best accuracy {:.2f}% for k={}'.format(max(knn_accuracies)*100, list(range(1, 22, 2))[np.argmax(knn_accuracies)]))"
   ]
  },
  {
   "cell_type": "markdown",
   "metadata": {},
   "source": [
    "The procedure above is called **hyperparameter tuning** and can usually improve the performance of the classifier. This is even more important for more complex classifiers with multiple hyper-parameters. For example [Multi-Layer Perceptrons](https://scikit-learn.org/stable/modules/generated/sklearn.neural_network.MLPClassifier.html#sklearn.neural_network.MLPClassifier) have a plethora of hyper-parameters which we might want to tune. We'll try to select the best *hidden layer size* and *activation*."
   ]
  },
  {
   "cell_type": "code",
   "execution_count": 10,
   "metadata": {},
   "outputs": [
    {
     "name": "stdout",
     "output_type": "stream",
     "text": [
      "Best accuracy: 96.67%\n"
     ]
    }
   ],
   "source": [
    "import warnings\n",
    "warnings.filterwarnings('ignore')\n",
    "\n",
    "accuracies = []\n",
    "\n",
    "for hidden in [(10,), (20,), (50,), (100,), (200,)]:  # consider hidden layer sizes of 10, 20, 50, 100 and 200\n",
    "    for activation in ['logistic', 'relu', 'tanh']:  # consider 'logistic' (sigmoid), 'relu' and 'tanh' activation functions\n",
    "        mlp = MLPClassifier(hidden_layer_sizes=hidden, activation=activation)\n",
    "        mlp.fit(train, train_labels)\n",
    "        accuracies.append(accuracy_score(test_labels, mlp.predict(test)))\n",
    "\n",
    "print('Best accuracy: {:.2f}%'.format(max(accuracies)*100))"
   ]
  },
  {
   "cell_type": "markdown",
   "metadata": {},
   "source": [
    "Optimizing ML models through *for* loops isn't the most efficient way. The best parameters are hard to identify, the computer makes no use of parallelization and the code isn't as *elegant* as possible. \n",
    "\n",
    "## Grid search\n",
    "\n",
    "Scikit-learn offers an easier, scalable and more elegant way of performing hyperparameter optimization, called [GridSearchCV](http://scikit-learn.org/stable/modules/generated/sklearn.model_selection.GridSearchCV.html#sklearn.model_selection.GridSearchCV). This function takes two main arguments: an estimator (or pipeline) and a *grid* of parameters we want the grid search to consider. The grid could be one of two things:\n",
    "\n",
    "- A dictionary with the hyperparameter names as its keys and a list of values as the corresponding dictionary value:\n",
    "```python\n",
    "grid = {'name1': [val_1a, val_1b, val_1c], 'name2': [val_2a, val_2b]}\n",
    "```\n",
    "This will force the grid search to search for **all** possible combinations of parameter values. In this case:  \n",
    "```python\n",
    "(val_1a, val_1a), (val_1a, val_2b), (val_1b, val_2a), (val_1b, val_2b), (val_1c, val_2a), (val_1c, val_2b)\n",
    "```\n",
    "\n",
    "- A list of such dictionaries:\n",
    "```python\n",
    "grid = [{'name1': [val1, val2, val3], 'name2': [val4, val5], ...},\n",
    "        {'name1': [val1, val2, val3], 'name3': [val6, val7], ...}]\n",
    "```\n",
    "This will create a grid that contains combinations from both dictionaries.\n",
    "\n",
    "After creating such a grid:\n",
    "\n",
    "```python\n",
    "from sklearn.model_selection import GridSearchCV\n",
    "\n",
    "grid = {...}\n",
    "clf = GridSearchCV(estimator, grid)\n",
    "clf.fit(X_train, y_train)  # will search all possible combinations defined by the grid\n",
    "preds = clf.predict(X_test)  # will generate predictions based on the best configuration\n",
    "\n",
    "# In order to access the best model:\n",
    "clf.best_estimator_\n",
    "```\n",
    "\n",
    "We will reproduce the previous hyperparameter tuning we performed, through a grid search."
   ]
  },
  {
   "cell_type": "code",
   "execution_count": 11,
   "metadata": {},
   "outputs": [
    {
     "name": "stdout",
     "output_type": "stream",
     "text": [
      "Best accuracy: 98.33%\n",
      "MLPClassifier(activation='relu', alpha=0.0001, batch_size='auto', beta_1=0.9,\n",
      "       beta_2=0.999, early_stopping=False, epsilon=1e-08,\n",
      "       hidden_layer_sizes=(100,), learning_rate='constant',\n",
      "       learning_rate_init=0.001, max_iter=200, momentum=0.9,\n",
      "       n_iter_no_change=10, nesterovs_momentum=True, power_t=0.5,\n",
      "       random_state=None, shuffle=True, solver='adam', tol=0.0001,\n",
      "       validation_fraction=0.1, verbose=False, warm_start=False)\n"
     ]
    }
   ],
   "source": [
    "from sklearn.model_selection import GridSearchCV\n",
    "\n",
    "# configurations we searched previously\n",
    "grid = {'hidden_layer_sizes': [(10,), (20,), (50,), (100,), (200,)],\n",
    "        'activation': ['logistic', 'relu', 'tanh']}\n",
    "# the keys of the dictionary should have the same names as the arguments of the estimator\n",
    "\n",
    "clf = GridSearchCV(mlp, grid, cv=2) # the cv parameter will be explained in the next tutorial\n",
    "clf.fit(train, train_labels)\n",
    "print('Best accuracy: {:.2f}%'.format(accuracy_score(test_labels, clf.predict(test))*100))\n",
    "print(clf.best_estimator_)  # print the best configuration"
   ]
  }
 ],
 "metadata": {
  "kernelspec": {
   "display_name": "Python 3",
   "language": "python",
   "name": "python3"
  },
  "language_info": {
   "codemirror_mode": {
    "name": "ipython",
    "version": 3
   },
   "file_extension": ".py",
   "mimetype": "text/x-python",
   "name": "python",
   "nbconvert_exporter": "python",
   "pygments_lexer": "ipython3",
   "version": "3.8.6"
  }
 },
 "nbformat": 4,
 "nbformat_minor": 2
}
