{
 "cells": [
  {
   "cell_type": "markdown",
   "metadata": {},
   "source": [
    "# Directories and Paths\n",
    "\n",
    "Up till now we've seen how to use python to solve simple math problems, store data in lists etc. But what if we wanted to make something more practical? Something that would help us crate scripts that automate some mundane tasks, such as copying, moving, renaming or deleting files and folders.\n",
    "\n",
    "An important aspect of file organization in operating systems are **paths**. Paths are strings that tell us where a certain file or folder can be found inside a the OS's directory structure. These files are typically organized in a hierarchical tree structure.\n",
    "\n",
    "For example in **Windows** systems, in the root of a boot partition one can find the following folders:\n",
    "- `\\Program Files`: Is where the programs are installed\n",
    "- `\\ProgramData`: Contains program data that are expected to be accessed by computer programs regardless of the user account in the context of which they run.\n",
    "- `\\Users`: Is the user profile folder containing one subfolder for each user.\n",
    "- `\\Windows`: Windows is installed in this folder.\n",
    "- `\\System`: Is where the DLLs, that implement the core features of Windows are stored.  \n",
    "etc.\n",
    "\n",
    "A path in a windows like system looks like:\n",
    "<pre>C:\\Users\\Thanos\\Projects\\Python\\</pre>\n",
    "\n",
    "This means that my user name is *`Thanos`* and that I have a folder called *`Python`* in another folder called *`Projects`* in my user directory. The *`C:`* part in the beginning means that my root directory is the partition *`C`*.\n",
    "\n",
    "In **UNIX** based systems, have their own directory structure:\n",
    "\n",
    "- `/bin`: Contains the binaries for certain fundamental utilities.\n",
    "- `/boot`: Contains all the files needed for booting.\n",
    "- `/home`: Contains the a subfolder for each user (similar to window's *`\\Users`* folder).\n",
    "- `/lib`: Contains essential libraries needed for the programs in *`/bin`*.  \n",
    "etc.\n",
    "\n",
    "Unix type paths use regular slashes (`/`) to separate directories.  \n",
    "The equivalent path in Unix would be:\n",
    "<pre>/home/thanos/projects/python/</pre>\n",
    "\n",
    "The first slash in the beginning indicates the root directory.\n",
    "\n",
    "Paths are used extensively in computer science to represent the directory/file relationships common in modern operating systems, and are essential in the construction of Uniform Resource Locators (**URL**s). Resources can be represented by either **absolute** or **relative** paths.\n",
    "\n",
    "- An **absolute** or full path points to the same location in a file system, regardless of the current working directory. To do that, it must include start from root directory.\n",
    "- A **relative** path starts from some given working directory, avoiding the need to provide the full absolute path. A relative path **never** starts with a slash.\n",
    "\n",
    "From now on, we'll assume a UNIX based operating system.\n",
    "\n",
    "# OS\n",
    "\n",
    "Python's OS module in Python provides a way of using operating system dependent functionality. Let's dive in."
   ]
  },
  {
   "cell_type": "code",
   "execution_count": 1,
   "metadata": {},
   "outputs": [
    {
     "data": {
      "text/plain": [
       "'/home/thanos/Machine Learning/tutorial/notebooks'"
      ]
     },
     "execution_count": 1,
     "metadata": {},
     "output_type": "execute_result"
    }
   ],
   "source": [
    "from __future__ import print_function\n",
    "import os\n",
    "\n",
    "os.getcwd()"
   ]
  },
  {
   "cell_type": "markdown",
   "metadata": {},
   "source": [
    "This command returns the path of the current working directory (in this case the directory from which the notebook was launched).\n",
    "\n",
    "If we wanted to, say, get a list of all items inside our working directory?"
   ]
  },
  {
   "cell_type": "code",
   "execution_count": 2,
   "metadata": {},
   "outputs": [
    {
     "data": {
      "text/plain": [
       "['03_basic_string_operations.ipynb',\n",
       " 'scr_args.py',\n",
       " '12_exception_handling.ipynb',\n",
       " '06_logical_operations.ipynb',\n",
       " '15_numpy_scipy.ipynb',\n",
       " '08_input_output.ipynb',\n",
       " '10_classes.ipynb',\n",
       " '23_clustering_application_nlp.ipynb',\n",
       " '13_time_random_ordereddict.ipynb',\n",
       " '22_clustering.ipynb',\n",
       " '04_basic_list_operations.ipynb',\n",
       " '16_pandas.ipynb',\n",
       " '17_data_visualization_matplotlib.ipynb',\n",
       " '19_intro_to_machine_leaning.ipynb',\n",
       " '11_modules_and_packages.ipynb',\n",
       " 'custom_module.py',\n",
       " '01_basic_data_types.ipynb',\n",
       " '00_python_basics.ipynb',\n",
       " '07_iterations.ipynb',\n",
       " '02_basic_numerical_operations.ipynb',\n",
       " '21_advanced_ml_sklearn.ipynb',\n",
       " '09_functions.ipynb',\n",
       " '.ipynb_checkpoints',\n",
       " '05_basic_tuple_dict_operations.ipynb',\n",
       " '18_data_visualization_seaborn.ipynb',\n",
       " '14_os_sys_shutil.ipynb',\n",
       " '20_scikit-learn.ipynb']"
      ]
     },
     "execution_count": 2,
     "metadata": {},
     "output_type": "execute_result"
    }
   ],
   "source": [
    "os.listdir('.')"
   ]
  },
  {
   "cell_type": "markdown",
   "metadata": {},
   "source": [
    "The previous command needs a path as an argument: `os.listdir(path)`  \n",
    "To refer to the working directory we use the dot (`.`)\n",
    "\n",
    "Say we want to change the working directory to match the example above (`/home/thanos/projects/python/`)."
   ]
  },
  {
   "cell_type": "code",
   "execution_count": 3,
   "metadata": {},
   "outputs": [
    {
     "ename": "FileNotFoundError",
     "evalue": "[Errno 2] No such file or directory: '/home/thanos/projects/python/'",
     "output_type": "error",
     "traceback": [
      "\u001b[0;31m---------------------------------------------------------------------------\u001b[0m",
      "\u001b[0;31mFileNotFoundError\u001b[0m                         Traceback (most recent call last)",
      "\u001b[0;32m<ipython-input-3-080cc97ee557>\u001b[0m in \u001b[0;36m<module>\u001b[0;34m\u001b[0m\n\u001b[1;32m      1\u001b[0m \u001b[0mcwd\u001b[0m \u001b[0;34m=\u001b[0m \u001b[0mos\u001b[0m\u001b[0;34m.\u001b[0m\u001b[0mgetcwd\u001b[0m\u001b[0;34m(\u001b[0m\u001b[0;34m)\u001b[0m  \u001b[0;31m# store the previous WD so that we can return to it afterwards\u001b[0m\u001b[0;34m\u001b[0m\u001b[0;34m\u001b[0m\u001b[0m\n\u001b[0;32m----> 2\u001b[0;31m \u001b[0mos\u001b[0m\u001b[0;34m.\u001b[0m\u001b[0mchdir\u001b[0m\u001b[0;34m(\u001b[0m\u001b[0;34m'/home/thanos/projects/python/'\u001b[0m\u001b[0;34m)\u001b[0m\u001b[0;34m\u001b[0m\u001b[0;34m\u001b[0m\u001b[0m\n\u001b[0m",
      "\u001b[0;31mFileNotFoundError\u001b[0m: [Errno 2] No such file or directory: '/home/thanos/projects/python/'"
     ]
    }
   ],
   "source": [
    "cwd = os.getcwd()  # store the previous WD so that we can return to it afterwards\n",
    "os.chdir('/home/thanos/projects/python/')"
   ]
  },
  {
   "cell_type": "markdown",
   "metadata": {},
   "source": [
    "Oops... the directory doesn't exist. We'll need to create it.\n",
    "\n",
    "Let's change to a one we know exists."
   ]
  },
  {
   "cell_type": "code",
   "execution_count": 4,
   "metadata": {},
   "outputs": [
    {
     "data": {
      "text/plain": [
       "'/home/thanos'"
      ]
     },
     "execution_count": 4,
     "metadata": {},
     "output_type": "execute_result"
    }
   ],
   "source": [
    "os.chdir('/home/thanos/')  # change directory\n",
    "os.getcwd()                # to confirm\n",
    "# if you want to make this work on your pc you need to change /home/thanos to a valid path in your pc"
   ]
  },
  {
   "cell_type": "markdown",
   "metadata": {},
   "source": [
    "Now we need to create a directory named `projects` in our working directory."
   ]
  },
  {
   "cell_type": "code",
   "execution_count": 5,
   "metadata": {},
   "outputs": [
    {
     "data": {
      "text/plain": [
       "'/home/thanos/projects'"
      ]
     },
     "execution_count": 5,
     "metadata": {},
     "output_type": "execute_result"
    }
   ],
   "source": [
    "os.mkdir('projects')  # make directory\n",
    "os.chdir('projects')  # change directory\n",
    "os.getcwd()           # confirm"
   ]
  },
  {
   "cell_type": "markdown",
   "metadata": {},
   "source": [
    "Note that we are using relative paths! This means that we don't have to write the full path each time (`/home/thanos/projects`). \n",
    "\n",
    "In short there are two options when wanting to use paths:\n",
    "- Absolute paths: We instruct python to create a directory in `/home/thanos/projects`.\n",
    "- Relative paths: We tell python to create a directory called `projects`. Where? Where I currently am working from (`/home/thanos/`)\n",
    "\n",
    "The difference between the two is that absolute paths **always** start with a slash (`/`).\n",
    "\n",
    "Another choice we have is to use our operating system's own commands. We can do this easily:\n",
    "\n",
    "```python\n",
    "os.system(command)\n",
    "```\n",
    "where command is a string containing the command we want to give to our os. For instance in UNIX systems `mkdir /path/name` is the command used to make a directory."
   ]
  },
  {
   "cell_type": "code",
   "execution_count": 6,
   "metadata": {},
   "outputs": [
    {
     "data": {
      "text/plain": [
       "0"
      ]
     },
     "execution_count": 6,
     "metadata": {},
     "output_type": "execute_result"
    }
   ],
   "source": [
    "os.system('mkdir python')  # this should work in windows systems too"
   ]
  },
  {
   "cell_type": "markdown",
   "metadata": {},
   "source": [
    "If these worked correctrly we should have created a directory with the path: `/home/thanos/projects/python`. We can easily confirm this."
   ]
  },
  {
   "cell_type": "code",
   "execution_count": 7,
   "metadata": {},
   "outputs": [
    {
     "data": {
      "text/plain": [
       "'/home/thanos/projects/python'"
      ]
     },
     "execution_count": 7,
     "metadata": {},
     "output_type": "execute_result"
    }
   ],
   "source": [
    "os.chdir('python')\n",
    "os.getcwd()"
   ]
  },
  {
   "cell_type": "markdown",
   "metadata": {},
   "source": [
    "A last interesting function of the os module is `os.walk()`. This method generates the file names in a directory tree by walking the tree either top-down or bottom-up.\n",
    "```python\n",
    "os.walk(top[, topdown=True[, onerror=None[, followlinks=False]]])\n",
    "```\n",
    "- top: Each directory rooted at directory, yields 3-tuples, i.e., (dirpath, dirnames, filenames)\n",
    "- topdown: If optional argument topdown is True or not specified, directories are scanned from top-down. If topdown is set to False, directories are scanned from bottom-up.\n",
    "- onerror: This can show error to continue with the walk, or raise the exception to abort the walk.\n",
    "- followlinks: This visits directories pointed to by symlinks, if set to true."
   ]
  },
  {
   "cell_type": "code",
   "execution_count": 8,
   "metadata": {},
   "outputs": [
    {
     "name": "stdout",
     "output_type": "stream",
     "text": [
      "/home/thanos/projects/python\n"
     ]
    }
   ],
   "source": [
    "def recurrsive_listdir(path):\n",
    "    for root, dirs, files in os.walk(path, topdown=False):\n",
    "        for name in files:\n",
    "            print(os.path.join(root, name))\n",
    "        for name in dirs:\n",
    "            print(os.path.join(root, name))\n",
    "            \n",
    "p = '/home/thanos/projects'\n",
    "recurrsive_listdir(p)"
   ]
  },
  {
   "cell_type": "markdown",
   "metadata": {},
   "source": [
    "The above code will scan all the directories and subdirectories in `/home/thanos/projects/` bottom-to-up. If `topdown` was set to `True`, the code will scan the directories top-to-bottom.\n",
    "\n",
    "The OS module also offers a lot more functionality like renaming or removing files, manipulating users, groups, environmental variables, process id's etc.\n",
    "\n",
    "### Important! Don't use:  `from os import *`\n",
    "This will cause the `os.open()` function to override the built-in `open()` function which operates differently!\n",
    "\n",
    "## os.path\n",
    "This is the os module's submodule that contains functions on pathnames.\n",
    "\n",
    "In order to showcase some of this module's functionality we'll first create a file. Remember we're still working off of  `/home/thanos/projects/python`. "
   ]
  },
  {
   "cell_type": "code",
   "execution_count": 9,
   "metadata": {},
   "outputs": [],
   "source": [
    "with open('test', 'w') as f:\n",
    "    f.write('bla bla bla')"
   ]
  },
  {
   "cell_type": "markdown",
   "metadata": {},
   "source": [
    "Now let's confirm that actually created this file."
   ]
  },
  {
   "cell_type": "code",
   "execution_count": 10,
   "metadata": {},
   "outputs": [
    {
     "data": {
      "text/plain": [
       "['test']"
      ]
     },
     "execution_count": 10,
     "metadata": {},
     "output_type": "execute_result"
    }
   ],
   "source": [
    "os.listdir('.')"
   ]
  },
  {
   "cell_type": "markdown",
   "metadata": {},
   "source": [
    "Note that, we can't tell if this is a file, a directory or even a link. How can we make such a check?"
   ]
  },
  {
   "cell_type": "code",
   "execution_count": 11,
   "metadata": {},
   "outputs": [
    {
     "name": "stdout",
     "output_type": "stream",
     "text": [
      "file:        True\n",
      "directory:   False\n",
      "link:        False\n",
      "mount point: False\n"
     ]
    }
   ],
   "source": [
    "print('file:       ', os.path.isfile('test'))   # checks if 'test' is a file\n",
    "print('directory:  ', os.path.isdir('test'))    # checks if 'test' is a directory\n",
    "print('link:       ', os.path.islink('test'))   # checks if 'test' is a link\n",
    "print('mount point:', os.path.ismount('test'))  # checks if 'test' is a mount point"
   ]
  },
  {
   "cell_type": "markdown",
   "metadata": {},
   "source": [
    "We can learn other things about our file, such as it's size or the time from it's last modification:"
   ]
  },
  {
   "cell_type": "code",
   "execution_count": 12,
   "metadata": {},
   "outputs": [
    {
     "name": "stdout",
     "output_type": "stream",
     "text": [
      "last modified: 1553786881.7497778\n",
      "file size:     11\n"
     ]
    }
   ],
   "source": [
    "print('last modified:', os.path.getmtime('test'))\n",
    "print('file size:    ', os.path.getsize('test'))"
   ]
  },
  {
   "cell_type": "markdown",
   "metadata": {},
   "source": [
    "The first one returns the time of the last modification (in seconds) since the epoch. The second one is the filesize in bytes.\n",
    "\n",
    "We can also make a check if the path is an absolute path or not."
   ]
  },
  {
   "cell_type": "code",
   "execution_count": 13,
   "metadata": {},
   "outputs": [
    {
     "name": "stdout",
     "output_type": "stream",
     "text": [
      "True\n",
      "False\n"
     ]
    }
   ],
   "source": [
    "print(os.path.isabs('/absolute/path'))\n",
    "print(os.path.isabs('relative/path'))"
   ]
  },
  {
   "cell_type": "markdown",
   "metadata": {},
   "source": [
    "This, in UNIX systems, just checks if there is a slash in front of the path. It **doesn't ** check if this actual path is valid.\n",
    "\n",
    "For this, we use the `os.path.exists(path)` function."
   ]
  },
  {
   "cell_type": "code",
   "execution_count": 14,
   "metadata": {},
   "outputs": [
    {
     "name": "stdout",
     "output_type": "stream",
     "text": [
      "True\n",
      "False\n"
     ]
    }
   ],
   "source": [
    "print(os.path.exists('/home/thanos/projects/python/test'))\n",
    "print(os.path.exists('/home/thanos/projects/python/wrong'))"
   ]
  },
  {
   "cell_type": "markdown",
   "metadata": {},
   "source": [
    "We can also convert a relative to an absolute path."
   ]
  },
  {
   "cell_type": "code",
   "execution_count": 15,
   "metadata": {},
   "outputs": [
    {
     "name": "stdout",
     "output_type": "stream",
     "text": [
      "/home/thanos/projects/python/test\n"
     ]
    }
   ],
   "source": [
    "print(os.path.abspath('test'))"
   ]
  },
  {
   "cell_type": "markdown",
   "metadata": {},
   "source": [
    "This just joins the **working directory** to the relative path:\n",
    "\n",
    "<pre> absolute = cwd + relative </pre>\n",
    "\n",
    "Alternatively, if we know where a file is located, we can join that with the filename to create the absolute path."
   ]
  },
  {
   "cell_type": "code",
   "execution_count": 16,
   "metadata": {},
   "outputs": [
    {
     "data": {
      "text/plain": [
       "'/an/absolute/path/a_file'"
      ]
     },
     "execution_count": 16,
     "metadata": {},
     "output_type": "execute_result"
    }
   ],
   "source": [
    "file_location = '/an/absolute/path'\n",
    "filename = 'a_file'\n",
    "os.path.join(file_location, filename)"
   ]
  },
  {
   "cell_type": "markdown",
   "metadata": {},
   "source": [
    "Other functions of the `os.path` module can split paths into lists, join lists into paths etc.\n",
    "\n",
    "# pathlib\n",
    "\n",
    "While the `os` module provides most of the functionality we might need, some commands might get a bit overwhelming. For example to get a list of the *absolute* paths in everything under a certain path, probably the easiest way would be:\n",
    "\n",
    "```python\n",
    "path = '/a/path/to/list/its/contents'\n",
    "[os.path.join(path, x) for x in os.listdir(path)]\n",
    "```\n",
    "Ok, that's not so hard. But what if we wanted to list **only** the python scripts (the ones that end with *.py*) under that path.\n",
    "\n",
    "```python\n",
    "path = '/a/path/to/list/its/contents'\n",
    "[os.path.join(path, x) for x in os.listdir(path) if x.endswith('.py')]\n",
    "```\n",
    "How about searhing all directories one level below `path` for python scripts.\n",
    "\n",
    "```python\n",
    "scripts = []\n",
    "for s in [os.path.join(path, d) for d in os.listdir(path) if os.path.isdir(os.path.join(path, d))]:\n",
    "    scripts += [os.path.join(path, s, x) for x in os.listdir(s) if x.endswith('.py')]\n",
    "```\n",
    "\n",
    "Things get out of hand really quick. **Pathlib** creates an easy way to handle paths in python. Pathlib serves as a higher-level API to `os.path` and allows for an easier and more intuituve handling of paths in python."
   ]
  },
  {
   "cell_type": "code",
   "execution_count": 17,
   "metadata": {},
   "outputs": [
    {
     "data": {
      "text/plain": [
       "PosixPath('.')"
      ]
     },
     "execution_count": 17,
     "metadata": {},
     "output_type": "execute_result"
    }
   ],
   "source": [
    "from pathlib import Path\n",
    "\n",
    "p = Path()\n",
    "\n",
    "p"
   ]
  },
  {
   "cell_type": "markdown",
   "metadata": {},
   "source": [
    "Since we didn't initialize `p` with anything, it took the default value of the *cwd* (i.e. `'.'`). We can easily convert this to an absolute path if we wish."
   ]
  },
  {
   "cell_type": "code",
   "execution_count": 18,
   "metadata": {},
   "outputs": [
    {
     "data": {
      "text/plain": [
       "PosixPath('/home/thanos/projects/python')"
      ]
     },
     "execution_count": 18,
     "metadata": {},
     "output_type": "execute_result"
    }
   ],
   "source": [
    "p.absolute()"
   ]
  },
  {
   "cell_type": "markdown",
   "metadata": {},
   "source": [
    "To use these paths in other functions you might have to convert them to strgins. For example:\n",
    "\n",
    "```python\n",
    "str(p.absolute())\n",
    "```\n",
    "\n",
    "Pathlib allows us to join two or more paths very easily with the slash sign (`/`)."
   ]
  },
  {
   "cell_type": "code",
   "execution_count": 19,
   "metadata": {},
   "outputs": [
    {
     "data": {
      "text/plain": [
       "PosixPath('/home/thanos/projects/python/second/part/of/the/path/final/path/a_file.txt')"
      ]
     },
     "execution_count": 19,
     "metadata": {},
     "output_type": "execute_result"
    }
   ],
   "source": [
    "p2 = p.absolute() / 'second/part/of/the/path' / 'final/path' / 'a_file.txt'\n",
    "p2"
   ]
  },
  {
   "cell_type": "markdown",
   "metadata": {},
   "source": [
    "The equivalent if with `os.path` would be:\n",
    "\n",
    "```python\n",
    "p = '.'  # assuming p is the relative path to the CWD\n",
    "p2 = os.path.join(os.path.absolute(p), 'second/part/of/the/path', 'final/path', 'a_file.txt')\n",
    "```\n",
    "\n",
    "Joining a list of directories in to a path is also very easy:\n",
    "\n",
    "```python\n",
    "Path.home().joinpath(*['projects', 'python'])  # equivalent to the path we were before\n",
    "```\n",
    "\n",
    "Concerning a specific path we can easily useful parts from it, such as:"
   ]
  },
  {
   "cell_type": "code",
   "execution_count": 20,
   "metadata": {},
   "outputs": [
    {
     "name": "stdout",
     "output_type": "stream",
     "text": [
      "parent directory:  /home/thanos/projects/python/second/part/of/the/path/final/path\n",
      "file name:         a_file.txt\n",
      "file stem:         a_file\n",
      "file suffix:       .txt\n"
     ]
    }
   ],
   "source": [
    "# Parent directory:\n",
    "print('parent directory: ', p2.parent)\n",
    "\n",
    "# File name (compete name)\n",
    "print('file name:        ', p2.name)\n",
    "\n",
    "# File name without suffix\n",
    "print('file stem:        ', p2.stem)\n",
    "\n",
    "# File's suffix\n",
    "print('file suffix:      ', p2.suffix)"
   ]
  },
  {
   "cell_type": "markdown",
   "metadata": {},
   "source": [
    "*pathlib* also offers a generator for accessing a path's parents one by one:"
   ]
  },
  {
   "cell_type": "code",
   "execution_count": 21,
   "metadata": {},
   "outputs": [
    {
     "name": "stdout",
     "output_type": "stream",
     "text": [
      "/home/thanos/projects/python/second/part/of/the/path/final/path\n",
      "/home/thanos/projects/python/second/part/of/the/path/final\n",
      "/home/thanos/projects/python/second/part/of/the/path\n",
      "/home/thanos/projects/python/second/part/of/the\n",
      "/home/thanos/projects/python/second/part/of\n",
      "/home/thanos/projects/python/second/part\n",
      "/home/thanos/projects/python/second\n",
      "/home/thanos/projects/python\n",
      "/home/thanos/projects\n",
      "/home/thanos\n",
      "/home\n",
      "/\n"
     ]
    }
   ],
   "source": [
    "for parent in p2.parents:\n",
    "    print(parent)"
   ]
  },
  {
   "cell_type": "markdown",
   "metadata": {},
   "source": [
    "Obviously we could also use the above as a list if we wish:\n",
    "\n",
    "```python\n",
    "list(p2.parents)\n",
    "```\n",
    "\n",
    "We can also check for the same conditions like with `os.path`."
   ]
  },
  {
   "cell_type": "code",
   "execution_count": 22,
   "metadata": {},
   "outputs": [
    {
     "name": "stdout",
     "output_type": "stream",
     "text": [
      "checks performed on 'p3' (a file):\n",
      "Exists:  True\n",
      "Is dir:  False\n",
      "Is file: True\n",
      "\n",
      "checks performed on 'p2' (a non-existant file):\n",
      "Exists:  False\n",
      "Is dir:  False\n",
      "Is file: False\n",
      "\n",
      "checks performed on 'p' (the CWD):\n",
      "Exists:  True\n",
      "Is dir:  True\n",
      "Is file: False\n"
     ]
    }
   ],
   "source": [
    "p3 = p / 'test'\n",
    "\n",
    "print('checks performed on \\'p3\\' (a file):')\n",
    "print('Exists: ', p3.exists())\n",
    "print('Is dir: ', p3.is_dir())\n",
    "print('Is file:', p3.is_file())\n",
    "\n",
    "print('\\nchecks performed on \\'p2\\' (a non-existant file):')\n",
    "print('Exists: ', p2.exists())\n",
    "print('Is dir: ', p2.is_dir())\n",
    "print('Is file:', p2.is_file())\n",
    "\n",
    "print('\\nchecks performed on \\'p\\' (the CWD):')\n",
    "print('Exists: ', p.exists())\n",
    "print('Is dir: ', p.is_dir())\n",
    "print('Is file:', p.is_file())"
   ]
  },
  {
   "cell_type": "markdown",
   "metadata": {},
   "source": [
    "*pathlib* supports many more operations such as inspecting file **stats** (e.g. date & time modified/created, size) **renaming** files and many more.\n",
    "\n",
    "The most interesting functionality is the support of [glob patterns][1], which offer a series of **wildcard characters** that allow us to define filename patterns and list only files that match our description.\n",
    "\n",
    "  [1]: https://en.wikipedia.org/wiki/Glob_%28programming%29\n",
    "  \n",
    "We'll go back to the original directory, which has a few files we can play with. The most common wildcard character is `'*'` which allows for **any number of any characters**."
   ]
  },
  {
   "cell_type": "code",
   "execution_count": 23,
   "metadata": {},
   "outputs": [
    {
     "data": {
      "text/plain": [
       "[PosixPath('03_basic_string_operations.ipynb'),\n",
       " PosixPath('scr_args.py'),\n",
       " PosixPath('12_exception_handling.ipynb'),\n",
       " PosixPath('06_logical_operations.ipynb'),\n",
       " PosixPath('15_numpy_scipy.ipynb'),\n",
       " PosixPath('08_input_output.ipynb'),\n",
       " PosixPath('10_classes.ipynb'),\n",
       " PosixPath('23_clustering_application_nlp.ipynb'),\n",
       " PosixPath('13_time_random_ordereddict.ipynb'),\n",
       " PosixPath('22_clustering.ipynb'),\n",
       " PosixPath('04_basic_list_operations.ipynb'),\n",
       " PosixPath('16_pandas.ipynb'),\n",
       " PosixPath('17_data_visualization_matplotlib.ipynb'),\n",
       " PosixPath('19_intro_to_machine_leaning.ipynb'),\n",
       " PosixPath('11_modules_and_packages.ipynb'),\n",
       " PosixPath('custom_module.py'),\n",
       " PosixPath('01_basic_data_types.ipynb'),\n",
       " PosixPath('00_python_basics.ipynb'),\n",
       " PosixPath('07_iterations.ipynb'),\n",
       " PosixPath('02_basic_numerical_operations.ipynb'),\n",
       " PosixPath('21_advanced_ml_sklearn.ipynb'),\n",
       " PosixPath('09_functions.ipynb'),\n",
       " PosixPath('.ipynb_checkpoints'),\n",
       " PosixPath('05_basic_tuple_dict_operations.ipynb'),\n",
       " PosixPath('18_data_visualization_seaborn.ipynb'),\n",
       " PosixPath('14_os_sys_shutil.ipynb'),\n",
       " PosixPath('20_scikit-learn.ipynb')]"
      ]
     },
     "execution_count": 23,
     "metadata": {},
     "output_type": "execute_result"
    }
   ],
   "source": [
    "tmp = p.absolute()  # store where we currently are so that we can return later\n",
    "os.chdir(cwd)       # move back to original CWD\n",
    "list(p.glob('*'))   # p points at '.' so this command lists all files in the CWD"
   ]
  },
  {
   "cell_type": "markdown",
   "metadata": {},
   "source": [
    "By using this character in a string, we can create all sorts of interesting patterns! For example:\n",
    "\n",
    "```python\n",
    "\n",
    "p.glob('*A')     # lists all files ending with the letter 'A'\n",
    "p.glob('A*')     # lists all files staring with the letter 'A'\n",
    "p.glob('*A*')    # lists all files that contain the letter 'A' somewhere in their names\n",
    "p.glob('A*B')    # lists all files that start with an 'A' and end with a 'B'\n",
    "p.glob('*A*B*')  # lists all files that contain both letters 'A' and 'B' (in that order)\n",
    "# etc...\n",
    "```\n",
    "\n",
    "A few examples in practice:"
   ]
  },
  {
   "cell_type": "code",
   "execution_count": 24,
   "metadata": {},
   "outputs": [
    {
     "data": {
      "text/plain": [
       "[PosixPath('23_clustering_application_nlp.ipynb'),\n",
       " PosixPath('22_clustering.ipynb'),\n",
       " PosixPath('21_advanced_ml_sklearn.ipynb'),\n",
       " PosixPath('20_scikit-learn.ipynb')]"
      ]
     },
     "execution_count": 24,
     "metadata": {},
     "output_type": "execute_result"
    }
   ],
   "source": [
    "list(p.glob('2*'))  # lists all files starting with 2"
   ]
  },
  {
   "cell_type": "code",
   "execution_count": 25,
   "metadata": {},
   "outputs": [
    {
     "data": {
      "text/plain": [
       "[PosixPath('scr_args.py'), PosixPath('custom_module.py')]"
      ]
     },
     "execution_count": 25,
     "metadata": {},
     "output_type": "execute_result"
    }
   ],
   "source": [
    "list(p.glob('*.py'))  # lists all files ending with .py"
   ]
  },
  {
   "cell_type": "code",
   "execution_count": 26,
   "metadata": {},
   "outputs": [
    {
     "data": {
      "text/plain": [
       "[PosixPath('11_modules_and_packages.ipynb'), PosixPath('custom_module.py')]"
      ]
     },
     "execution_count": 26,
     "metadata": {},
     "output_type": "execute_result"
    }
   ],
   "source": [
    "list(p.glob('*module*'))  # lists all files containing the word 'module'"
   ]
  },
  {
   "cell_type": "code",
   "execution_count": 27,
   "metadata": {},
   "outputs": [
    {
     "data": {
      "text/plain": [
       "[PosixPath('custom_module.py')]"
      ]
     },
     "execution_count": 27,
     "metadata": {},
     "output_type": "execute_result"
    }
   ],
   "source": [
    "list(p.glob('*module*.py'))  # lists all '.py' files containing the word 'module'"
   ]
  },
  {
   "cell_type": "markdown",
   "metadata": {},
   "source": [
    "Another popular wildcard character is `'?'`, which substitutes **a single character**. For example:\n",
    "\n",
    "```python\n",
    "p.glob('?A')     # lists all files with two letters, the second of which is 'A'\n",
    "p.glob('A?')     # lists all files with two letters, the first of which is 'A'\n",
    "p.glob('*A*')    # lists all files with three letters, the second of which is 'A'\n",
    "# etc..\n",
    "```\n",
    "\n",
    "In practice:"
   ]
  },
  {
   "cell_type": "code",
   "execution_count": 28,
   "metadata": {},
   "outputs": [
    {
     "data": {
      "text/plain": [
       "[PosixPath('15_numpy_scipy.ipynb'),\n",
       " PosixPath('05_basic_tuple_dict_operations.ipynb')]"
      ]
     },
     "execution_count": 28,
     "metadata": {},
     "output_type": "execute_result"
    }
   ],
   "source": [
    "list(p.glob('?5*'))  # lists all files whose second character is 5  "
   ]
  },
  {
   "cell_type": "code",
   "execution_count": 29,
   "metadata": {},
   "outputs": [
    {
     "data": {
      "text/plain": [
       "[PosixPath('15_numpy_scipy.ipynb'),\n",
       " PosixPath('05_basic_tuple_dict_operations.ipynb')]"
      ]
     },
     "execution_count": 29,
     "metadata": {},
     "output_type": "execute_result"
    }
   ],
   "source": [
    "list(p.glob('?5*'))  # lists all files whose second character is 5  "
   ]
  },
  {
   "cell_type": "code",
   "execution_count": 30,
   "metadata": {},
   "outputs": [
    {
     "data": {
      "text/plain": [
       "[PosixPath('23_clustering_application_nlp.ipynb'),\n",
       " PosixPath('02_basic_numerical_operations.ipynb'),\n",
       " PosixPath('18_data_visualization_seaborn.ipynb')]"
      ]
     },
     "execution_count": 30,
     "metadata": {},
     "output_type": "execute_result"
    }
   ],
   "source": [
    "list(p.glob('?' * 35))  # lists all files with exactly 35 characters"
   ]
  },
  {
   "cell_type": "code",
   "execution_count": 31,
   "metadata": {},
   "outputs": [
    {
     "data": {
      "text/plain": [
       "[PosixPath('03_basic_string_operations.ipynb'),\n",
       " PosixPath('23_clustering_application_nlp.ipynb'),\n",
       " PosixPath('13_time_random_ordereddict.ipynb'),\n",
       " PosixPath('04_basic_list_operations.ipynb'),\n",
       " PosixPath('17_data_visualization_matplotlib.ipynb'),\n",
       " PosixPath('19_intro_to_machine_leaning.ipynb'),\n",
       " PosixPath('02_basic_numerical_operations.ipynb'),\n",
       " PosixPath('05_basic_tuple_dict_operations.ipynb'),\n",
       " PosixPath('18_data_visualization_seaborn.ipynb')]"
      ]
     },
     "execution_count": 31,
     "metadata": {},
     "output_type": "execute_result"
    }
   ],
   "source": [
    "list(p.glob('?' * 30 + '*'))  # lists all files with at least 30 characters"
   ]
  },
  {
   "cell_type": "markdown",
   "metadata": {},
   "source": [
    "Lastly there are the square brackets `[...]` which substitute certain characters only, but we won't go much into these.\n",
    "\n",
    "*pathlib* also allows for the recursive listing of items that match a pattern through `.rglob()`."
   ]
  },
  {
   "cell_type": "code",
   "execution_count": 32,
   "metadata": {},
   "outputs": [
    {
     "data": {
      "text/plain": [
       "[PosixPath('../notebooks/scr_args.py'),\n",
       " PosixPath('../notebooks/custom_module.py')]"
      ]
     },
     "execution_count": 32,
     "metadata": {},
     "output_type": "execute_result"
    }
   ],
   "source": [
    "up = p / '..'           # directrory that sits exactly one level up the hierarchy\n",
    "list(up.rglob('*.py'))  # lists all .py files under path 'up' (looks in subdirectories too)"
   ]
  },
  {
   "cell_type": "markdown",
   "metadata": {},
   "source": [
    "The above would be equivalent to:\n",
    "\n",
    "```python\n",
    "list(up.rglob('**/*.py'))\n",
    "```\n",
    "\n",
    "Let's move back to the previous directory we created so that we can continue with *shutil*."
   ]
  },
  {
   "cell_type": "code",
   "execution_count": 33,
   "metadata": {},
   "outputs": [],
   "source": [
    "os.chdir(tmp)"
   ]
  },
  {
   "cell_type": "markdown",
   "metadata": {},
   "source": [
    "# shutil\n",
    "\n",
    "The shutil module offers a number of high-level operations on files and collections of files. In particular, functions are provided which support file copying and removal.  \n",
    "\n",
    "The shutil module helps you automate copying files and directories. This saves the steps of opening, reading, writing and closing files when there is no actual processing.\n",
    "\n",
    "```python\n",
    "shutil.copy(source, destination)\n",
    "```\n",
    "Copies file from path `source` to `destination`."
   ]
  },
  {
   "cell_type": "code",
   "execution_count": 34,
   "metadata": {},
   "outputs": [
    {
     "data": {
      "text/plain": [
       "'/home/thanos/projects/python'"
      ]
     },
     "execution_count": 34,
     "metadata": {},
     "output_type": "execute_result"
    }
   ],
   "source": [
    "os.getcwd()"
   ]
  },
  {
   "cell_type": "code",
   "execution_count": 35,
   "metadata": {},
   "outputs": [
    {
     "data": {
      "text/plain": [
       "['test3', 'test', 'test2']"
      ]
     },
     "execution_count": 35,
     "metadata": {},
     "output_type": "execute_result"
    }
   ],
   "source": [
    "import shutil\n",
    "\n",
    "shutil.copy('test', 'test2')                                                            # relative paths\n",
    "shutil.copy('/home/thanos/projects/python/test', '/home/thanos/projects/python/test3')  # absolute paths\n",
    "os.listdir('.')"
   ]
  },
  {
   "cell_type": "markdown",
   "metadata": {},
   "source": [
    "There are also more specific `shutil` functions that allow us to copy a file's metadata, contents or permissions.\n",
    "\n",
    "Another useful feature of `shutil` is the `copytree` function.\n",
    "\n",
    "```python\n",
    "shutil.copytree(src, dst, symlinks=False, ignore=None)\n",
    "```\n",
    "- `src` is the source path.\n",
    "- `dst` is the destination path.\n",
    "- If `symlinks` is `True`, symbolic links in the source tree are represented as symbolic links in the new tree, but the metadata of the original links is not copied; if false or omitted, the contents and metadata of the linked files are copied to the new tree.\n",
    "- `ignore` is a list of paths (as returned from `os.listdir()`) that won't be copied."
   ]
  },
  {
   "cell_type": "code",
   "execution_count": 36,
   "metadata": {},
   "outputs": [
    {
     "name": "stdout",
     "output_type": "stream",
     "text": [
      "../projects2/python/test3\n",
      "../projects2/python/test\n",
      "../projects2/python/test2\n",
      "../projects2/python\n",
      "../python/test3\n",
      "../python/test\n",
      "../python/test2\n",
      "../projects2\n",
      "../python\n"
     ]
    }
   ],
   "source": [
    "shutil.copytree('../../projects', '../projects2')\n",
    "# copies /home/thanos/projects to /home/thanos/projects/projects2\n",
    "recurrsive_listdir('..')\n",
    "# prints all the directory tree along with it's contents in /home/thanos/projects "
   ]
  },
  {
   "cell_type": "markdown",
   "metadata": {},
   "source": [
    "First of all what we did with the `shutil.copytree()` command was to copy the whole `projects` directory to a subdirectory called `projects2` inside `projects`. \n",
    "\n",
    "Secondly, we saw a new way of referring to paths: the two dots `..`  \n",
    "The two dots refer to the parent directory, or the directory one level up in the hierarchy.\n",
    "\n",
    "So if our working directory is `/home/thanos/projects/python/`:\n",
    "- `..` is `/home/thanos/projects/`\n",
    "- `../..` is `/home/thanos/`\n",
    "etc\n",
    "\n",
    "With shutil we can also move a file or directory from a location `src` to another `dst`."
   ]
  },
  {
   "cell_type": "code",
   "execution_count": 37,
   "metadata": {},
   "outputs": [
    {
     "name": "stdout",
     "output_type": "stream",
     "text": [
      "['test3', 'projects2', 'python']\n",
      "['test', 'test2']\n"
     ]
    }
   ],
   "source": [
    "shutil.move('test3', '..')\n",
    "# moves /home/thanos/projects/python/test3 to /home/thanos/projects/test3\n",
    "print(os.listdir('..'))\n",
    "# lists files and directories in /home/thanos/projects\n",
    "print(os.listdir('.'))\n",
    "# lists files and directories in /home/thanos/projects/python"
   ]
  },
  {
   "cell_type": "markdown",
   "metadata": {},
   "source": [
    "We can confirm it has been moved.\n",
    "\n",
    "This module also offers tools for removing directory trees."
   ]
  },
  {
   "cell_type": "code",
   "execution_count": 38,
   "metadata": {},
   "outputs": [],
   "source": [
    "shutil.rmtree('/home/thanos/projects')\n",
    "# removes everything under /home/thanos/projects\n",
    "os.chdir(cwd)  \n",
    "# returns to the original directory"
   ]
  },
  {
   "cell_type": "markdown",
   "metadata": {
    "collapsed": true
   },
   "source": [
    "We can confirm it's deleted."
   ]
  },
  {
   "cell_type": "code",
   "execution_count": 39,
   "metadata": {},
   "outputs": [
    {
     "ename": "FileNotFoundError",
     "evalue": "[Errno 2] No such file or directory: 'projects'",
     "output_type": "error",
     "traceback": [
      "\u001b[0;31m---------------------------------------------------------------------------\u001b[0m",
      "\u001b[0;31mFileNotFoundError\u001b[0m                         Traceback (most recent call last)",
      "\u001b[0;32m<ipython-input-39-e5105144de54>\u001b[0m in \u001b[0;36m<module>\u001b[0;34m\u001b[0m\n\u001b[0;32m----> 1\u001b[0;31m \u001b[0mos\u001b[0m\u001b[0;34m.\u001b[0m\u001b[0mlistdir\u001b[0m\u001b[0;34m(\u001b[0m\u001b[0;34m'projects'\u001b[0m\u001b[0;34m)\u001b[0m\u001b[0;34m\u001b[0m\u001b[0;34m\u001b[0m\u001b[0m\n\u001b[0m\u001b[1;32m      2\u001b[0m \u001b[0;31m# The error is pretty self-explanatory.\u001b[0m\u001b[0;34m\u001b[0m\u001b[0;34m\u001b[0m\u001b[0;34m\u001b[0m\u001b[0m\n",
      "\u001b[0;31mFileNotFoundError\u001b[0m: [Errno 2] No such file or directory: 'projects'"
     ]
    }
   ],
   "source": [
    "os.listdir('projects')\n",
    "# The error is pretty self-explanatory."
   ]
  },
  {
   "cell_type": "markdown",
   "metadata": {},
   "source": [
    "Another important module for automating computer tasks is the `zipfile` module that helps for compressing and extracting files to and from zip files.\n",
    "\n",
    "# sys\n",
    "\n",
    "This module provides helps with command line input/output operations.\n",
    "\n",
    "In shell environments there are three ways the shell interacts with the user. We call these I/O connections **standard streams**:\n",
    "\n",
    "- stdin: Is the standard input. This is what we type to the terminal.\n",
    "- stdout: Is the standard output. This is what we see as output.\n",
    "- stderr: Is the standard error. This is an output as well, but it is used for error messages.\n",
    "\n",
    "## stdin\n",
    "\n",
    "We have used `sys.stdin` in the past without knowing it! This module is called for the execution of `input()`. \n",
    "\n",
    "## stderr & stdout\n",
    "\n",
    "These two can be used to manipulate the two output channels."
   ]
  },
  {
   "cell_type": "code",
   "execution_count": 40,
   "metadata": {},
   "outputs": [
    {
     "name": "stderr",
     "output_type": "stream",
     "text": [
      "This is an error message!\n"
     ]
    },
    {
     "name": "stdout",
     "output_type": "stream",
     "text": [
      "This is an output!\n"
     ]
    }
   ],
   "source": [
    "import sys\n",
    "sys.stderr.write('This is an error message!\\n')\n",
    "sys.stderr.flush()\n",
    "sys.stdout.write('This is an output!\\n')"
   ]
  },
  {
   "cell_type": "markdown",
   "metadata": {},
   "source": [
    "Because the output and error messages are being buffered. We can use `.flush()` for forcing an output.\n",
    "\n",
    "`sys.stderr` outputs are a lot of times accompanied by a termination of the script. The easiest way to do that is:\n",
    "```python\n",
    "sys.exit() # terminates the script\n",
    "```\n",
    "\n",
    "# Command line arguments\n",
    "\n",
    "Probably the most common usage of this module is that it allows us to use command line arguments in our scripts.\n",
    "\n",
    "This is done by usilizing `sys.argv`. This is a list that stores all argumets enter from the command line.\n",
    "\n",
    "We have a script called *src_args.py*. This scripy contains the following code.\n",
    "\n",
    "```python\n",
    "from __future__ import print_function\n",
    "import sys\n",
    "\n",
    "print(sys.argv)\n",
    "```\n",
    "\n",
    "If we call a script like this:\n",
    "<pre>python src_args.py arg1 arg2 arg3</pre>\n",
    "\n",
    "Our output should be:\n",
    "<pre>['scr_args.py', 'arg1', 'arg2', 'arg3']</pre>\n",
    "\n",
    "Incorporating those arguments into our script depends on the situation and differs each time. It is a good practice to do a lot of checks to make sure that the user inputs what you expect to receive.\n",
    "\n",
    "# argparse\n",
    "\n",
    "argparse is an easy-to-use library that helps us manage command line arguments. The main class we will use is the `ArgumetParser`. This class, allows us to easily add as many command line arguments as we want.\n",
    "\n",
    "Suppose we want to build our version of `ls`, which will list **only python files** (i.e. those that end with `.py`). We'll call this script `ls.py`. Since we're inspired from how `ls` works, we'd like the script to be used like this:\n",
    "\n",
    "```\n",
    "python ls.py  # should list all .py files in the current directory\n",
    "python ls.py path/to/another/dir  # should list all .py files in the given directory\n",
    "python ls.py -h       # should print out a help page telling us what arguments it accepts\n",
    "python ls.py --help   # same as -h\n",
    "python ls.py -l       # should list all files separated by new lines\n",
    "python ls.py --list   # same as -l\n",
    "python ls.py -l -n 5  # same as -l but prints only first 5 results\n",
    "\n",
    "```\n",
    "\n",
    "We can emulate this functionality easily through *argparese*. The demo we wrote calls for 3 arguments all of which are **optional**:\n",
    "\n",
    "- a positional argument indicating the directory we'll search for .py files\n",
    "- a keyword argument (`-l` or `--list`), which chooses whether or not to list each file in a new line\n",
    "- a keyword argument (`-n` or `--number`), which selects how many results to print\n",
    "- a keyword argument (`-h` or `--help`), which will be used for printing help instructions\n",
    "\n",
    "The last is actually generated by *argparese* on its own. The other two, we'll have to add ourselves.\n",
    "\n",
    "```python\n",
    "# ls.py\n",
    "import argparse\n",
    "from pathlib import Path\n",
    "\n",
    "# Create parser and its arguments\n",
    "parser = argparse.ArgumentParser()  # create the ArgumentParser class\n",
    "\n",
    "parser.add_argument('pt', nargs='?', type=str, default='.')\n",
    "# this adds a positional argument which we'll call pt\n",
    "# its type is a string and its default value is '.'\n",
    "# the third option (nargs) means that it can have any number of arguments\n",
    "# this is done so that it works both with 0 arguments and with 1\n",
    "\n",
    "parser.add_argument('-l', '--list', action='store_true',\n",
    "                    help='Indicates whether or not to print each file in a new line.')\n",
    "# this adds a keyword argument which we refer to as l or list (both names are valid)\n",
    "# this argument is a boolean variable which will be True only if the user adds it\n",
    "\n",
    "parser.add_argument('-n', '--number', type=int, default=-1,\n",
    "                    help='How many results to print. Negative numbers means \"print all\".')\n",
    "# this adds another keyword argument that designates how many results to print\n",
    "# it is an integer with a default value of -1\n",
    "\n",
    "args = parser.parse_args()  # parses the command line arguments\n",
    "\n",
    "# the positional argument can be found in args.pt\n",
    "# the keyword argument can be found in args.list\n",
    "\n",
    "# Search and print all python files in args.pt\n",
    "python_files =  list(Path(args.pt).glob('*.py'))\n",
    "\n",
    "# If user entered a negative number change it to -1\n",
    "if args.number < 0:\n",
    "    args.number = len(python_files)\n",
    "\n",
    "if args.list:\n",
    "    if python_files:\n",
    "        for f in python_files[:args.number]:\n",
    "            print(f)\n",
    "else:\n",
    "    print(python_files[:args.number])\n",
    "\n",
    "```\n",
    "\n",
    "If we run any of the following two commands:\n",
    "\n",
    "```\n",
    "python ls.py -h\n",
    "python ls.py --help\n",
    "```\n",
    "\n",
    "We'll get an auto-generated help page:\n",
    "\n",
    "```\n",
    "usage: ls.py [-h] [-l] [-n NUMBER] [pt]\n",
    "\n",
    "positional arguments:\n",
    "  pt\n",
    "\n",
    "optional arguments:\n",
    "  -h, --help            show this help message and exit\n",
    "  -l, --list            Indicates whether or not to print each file in a new\n",
    "                        line.\n",
    "  -n NUMBER, --number NUMBER\n",
    "                        How many results to print. Negative numbers means\n",
    "                        \"print all\".\n",
    "```\n",
    "\n",
    "The rest of the arguments work as advertised."
   ]
  }
 ],
 "metadata": {
  "kernelspec": {
   "display_name": "Python 3",
   "language": "python",
   "name": "python3"
  },
  "language_info": {
   "codemirror_mode": {
    "name": "ipython",
    "version": 3
   },
   "file_extension": ".py",
   "mimetype": "text/x-python",
   "name": "python",
   "nbconvert_exporter": "python",
   "pygments_lexer": "ipython3",
   "version": "3.6.7"
  }
 },
 "nbformat": 4,
 "nbformat_minor": 1
}
