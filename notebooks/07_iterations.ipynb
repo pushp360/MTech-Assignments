{
 "cells": [
  {
   "cell_type": "markdown",
   "metadata": {},
   "source": [
    "# Loops\n",
    "\n",
    "Loops are another way of controling the flow of a program, that allow us to perform the same actions multiple times."
   ]
  },
  {
   "cell_type": "code",
   "execution_count": 1,
   "metadata": {},
   "outputs": [],
   "source": [
    "from __future__ import print_function"
   ]
  },
  {
   "cell_type": "markdown",
   "metadata": {},
   "source": [
    "There are two ways of iterating in python.\n",
    "\n",
    "## While Loop\n",
    "\n",
    "The first of those ways is the *while* loop. This iterates a series of commands indefinitely, until a condition is fulfilled.\n",
    "\n",
    "Syntax is as follows:\n",
    "\n",
    "```python\n",
    "while statement1 is True:\n",
    "    # (repeat command until statement1 becomes False)\n",
    "```\n",
    "\n",
    "There are three important things to note here:  \n",
    "- The first is that the commands that are to be repeated are **indented**.  \n",
    "- The second is that if the `statement1` is `False`, we won't even enter the while block. This means that the `while` command also acts as an `if`.  \n",
    "- The final and most important thing is that in most cases, we somehow need to alter a parameter in `statement1` while **inside** the loop. If we don't the commands inside will loop **forever** (or until we perform a keyboard interrupt)!"
   ]
  },
  {
   "cell_type": "code",
   "execution_count": 2,
   "metadata": {},
   "outputs": [
    {
     "name": "stdout",
     "output_type": "stream",
     "text": [
      "0\n",
      "1\n",
      "2\n",
      "3\n",
      "4\n",
      "5\n",
      "6\n",
      "7\n",
      "8\n",
      "9\n"
     ]
    }
   ],
   "source": [
    "i = 0  # we will use this variable as an index\n",
    "while i < 10:  # this command instructs python to repeat the following\n",
    "               # indented commands as long as i is less than 10\n",
    "    print(i)\n",
    "    i += 1  # this line here is really important. if we didn't have a way to increase i,\n",
    "            # the condition would not be met and the loop would repeat forever."
   ]
  },
  {
   "cell_type": "markdown",
   "metadata": {},
   "source": [
    "During the final iteration `i` became 10 and it did not fulfill the `while` requirement, so it did not enter the loop.\n",
    "\n",
    "If we print `i` one last time:"
   ]
  },
  {
   "cell_type": "code",
   "execution_count": 3,
   "metadata": {},
   "outputs": [
    {
     "name": "stdout",
     "output_type": "stream",
     "text": [
      "10\n"
     ]
    }
   ],
   "source": [
    "print(i)"
   ]
  },
  {
   "cell_type": "markdown",
   "metadata": {},
   "source": [
    "We can confirm that it actually did become 10.\n",
    "\n",
    "## For loop\n",
    "\n",
    "The second way to iterate in python is the `for` loop. This repeats a series of commands for a predefined number of times.\n",
    "\n",
    "```python\n",
    "for i in sequence:\n",
    "    # (repeat command while i takes the value of every element in sequence)\n",
    "```\n",
    "\n",
    "A simple way to do that is to create a list of the values we want to iterate through (in the previous example they were 0-9)."
   ]
  },
  {
   "cell_type": "code",
   "execution_count": 4,
   "metadata": {},
   "outputs": [
    {
     "name": "stdout",
     "output_type": "stream",
     "text": [
      "0\n",
      "1\n",
      "2\n",
      "3\n",
      "4\n",
      "5\n",
      "6\n",
      "7\n",
      "8\n",
      "9\n",
      "0\n",
      "1\n",
      "2\n",
      "3\n",
      "4\n",
      "5\n",
      "6\n",
      "7\n",
      "8\n",
      "9\n"
     ]
    }
   ],
   "source": [
    "iter_list = [0, 1, 2, 3, 4, 5, 6, 7, 8, 9]  # create a list of integers from 0 to 9\n",
    "for i in iter_list: # this instructs python to iterate i for every value in iter_list,\n",
    "                    # i.e for the first iteration i becomes 0, for the second one i becomes 1, etc. \n",
    "                    # For each of those iterations python repeats the indented commands below.\n",
    "    print(i)\n",
    "    \n",
    "iter_list = range(10)  # we don't need to cast it as an int to iterate through it\n",
    "for i in iter_list:\n",
    "    print(i)"
   ]
  },
  {
   "cell_type": "markdown",
   "metadata": {},
   "source": [
    "The two syntaxes (`while` and `for`) iterated the same number of times and gave us the same output. The only difference is that if we want to check the final value of `i`."
   ]
  },
  {
   "cell_type": "code",
   "execution_count": 5,
   "metadata": {},
   "outputs": [
    {
     "name": "stdout",
     "output_type": "stream",
     "text": [
      "9\n"
     ]
    }
   ],
   "source": [
    "print(i)"
   ]
  },
  {
   "cell_type": "markdown",
   "metadata": {},
   "source": [
    "`i` never became 10 here, because we didn't have this value in the initial list.\n",
    "\n",
    "### Exercise.  \n",
    "Modify the while lines so that i's final state is 9, while retaining the same output."
   ]
  },
  {
   "cell_type": "raw",
   "metadata": {},
   "source": []
  },
  {
   "cell_type": "markdown",
   "metadata": {},
   "source": [
    "Another important thing about `for` loops is that we don't have to manually change the value of `i`. \n",
    "\n",
    "## For examples\n",
    "\n",
    "*For* loops can iterate in any list we choose. Let's see a few examples on that:\n",
    "- If we want to iterate through the first 100 natural numbers, we would need a list of those 100 numbers:\n",
    "\n",
    "```python \n",
    "range(1,101)\n",
    "```\n",
    "- If we want to iterate through every odd number in the first 100 natural numbers:\n",
    "\n",
    "```python \n",
    "range(2,101,2)\n",
    "```\n",
    "- If we wanted to iterate through the first 5 letters of the english alphabet:\n",
    "```python \n",
    "['a', 'b', 'c', 'd', 'e']\n",
    "```\n",
    "\n",
    "## Nesting\n",
    "Remember how we used nested *if* statements in the previous tutorial? Well we can do the same thing with loops:"
   ]
  },
  {
   "cell_type": "code",
   "execution_count": 6,
   "metadata": {},
   "outputs": [],
   "source": [
    "cnt = 0  # we will use this to count the total number of iterations this does\n",
    "for i in range(3):  # i iterates in [0, 1, 2], 3 iterations\n",
    "    for j in range(-11,0,2):  # j iterates in [-11, -9, -7, -5, -3, -1], 6 iterations\n",
    "        for k in (0.1, -3.33, 16.01, -8/3):  # k iterates in [0.1, -3.33, 16.01, -8/3], 4 iterations\n",
    "            cnt += 1  # lets count how many iterations our nested loops do"
   ]
  },
  {
   "cell_type": "markdown",
   "metadata": {},
   "source": [
    "Let's try to figure out how many iterations we did:\n",
    "\n",
    "- The outer loop does 3 iterations.\n",
    "- The middle loop does 6 iterations.\n",
    "- The inner loop does 4 iterations.\n",
    "\n",
    "So how many iterations did we do? \n",
    "\n",
    "$$ 3 \\cdot 6 \\cdot 4 = 72 $$"
   ]
  },
  {
   "cell_type": "code",
   "execution_count": 7,
   "metadata": {},
   "outputs": [
    {
     "name": "stdout",
     "output_type": "stream",
     "text": [
      "72\n"
     ]
    }
   ],
   "source": [
    "print(cnt)"
   ]
  },
  {
   "cell_type": "markdown",
   "metadata": {},
   "source": [
    "We can iterate through most collections in python (lists, tuples, ranges, dictionary keys, etc.).\n",
    "\n",
    "## Example 1 \n",
    "Let's look at a grocery example. We will try to solve this really analyticly.\n",
    "\n",
    "Say we go to a grocery store that sells all sorts of fruit. The grocery store's price list is stored in a dictionary."
   ]
  },
  {
   "cell_type": "code",
   "execution_count": 8,
   "metadata": {},
   "outputs": [],
   "source": [
    "grocery_price_list = {'apples': 10, 'peaches': 11, 'bananas': 8, 'oranges': 15,\n",
    "                      'grapefruit': 19, 'lemons': 7, 'grapes': 13}\n",
    "# the prices are stored in this dictionary and are in euros/kg"
   ]
  },
  {
   "cell_type": "markdown",
   "metadata": {},
   "source": [
    "Now let's suppose that each fruit we buy, differs from the same fruit's average weight by, at most, 10%.\n",
    "\n",
    "We will get the average weights again from a dictionary."
   ]
  },
  {
   "cell_type": "code",
   "execution_count": 9,
   "metadata": {},
   "outputs": [],
   "source": [
    "ave_weight = {'apples': 0.1, 'peaches': 0.15, 'bananas': 0.12, 'oranges': 0.2,\n",
    "              'grapefruit': 0.7, 'lemons': 0.16, 'grapes': 0.04}\n",
    "# this dictionary stores the average weight of each fruit. weight is measured in kg."
   ]
  },
  {
   "cell_type": "markdown",
   "metadata": {},
   "source": [
    "We also have 100 euros in credit in the store (from a gift card). "
   ]
  },
  {
   "cell_type": "code",
   "execution_count": 10,
   "metadata": {},
   "outputs": [],
   "source": [
    "credit = 100"
   ]
  },
  {
   "cell_type": "markdown",
   "metadata": {},
   "source": [
    "Now let's say one day we visit the store and fill our shopping basket with all kinds of fruit."
   ]
  },
  {
   "cell_type": "code",
   "execution_count": 11,
   "metadata": {},
   "outputs": [],
   "source": [
    "shopping_basket = ['apples'] * 10 + ['lemons'] * 3 + ['peaches'] * 5 + ['oranges'] * 7 \n",
    "# we buy 10 apples, 3 lemons, 5 peaches and 7 oranges"
   ]
  },
  {
   "cell_type": "markdown",
   "metadata": {},
   "source": [
    "What we want to do is write the program the cashier would use to calculate the total price of our fruit and remove it from our current credit."
   ]
  },
  {
   "cell_type": "code",
   "execution_count": 12,
   "metadata": {},
   "outputs": [
    {
     "name": "stdout",
     "output_type": "stream",
     "text": [
      "42.64237041785681\n"
     ]
    }
   ],
   "source": [
    "import random\n",
    "# we will need this for the 'randomly' part of the weight\n",
    "receipt = []\n",
    "# this is a list where we will store the price of each fruit in our basket\n",
    "for i in shopping_basket:\n",
    "    # now i iterates for every fruit in the basket\n",
    "    weight = ave_weight[i]\n",
    "    # we first retrieve the average weight of the fruit i\n",
    "    coef = random.uniform(-0.1,0.1)\n",
    "    # this coefficient ranges between 1 and -1 and determines how much our weight differs from the average\n",
    "    weight += weight * coef\n",
    "    # we update each weight with the randomly generated coefficient\n",
    "    price_per_kg = grocery_price_list[i]\n",
    "    # this is the price per kg of our fruit\n",
    "    price = price_per_kg * weight\n",
    "    # this number represents the price of the fruit\n",
    "    receipt.append(price)\n",
    "    # the only thing left is to write the price each fruit in the receipt\n",
    "    credit -= price\n",
    "    # and remove the amount we have to pay from the credit\n",
    "\n",
    "total = sum(receipt)\n",
    "# the total amount we have to pay is the sum of all entries in our receipt\n",
    "print(total)"
   ]
  },
  {
   "cell_type": "markdown",
   "metadata": {},
   "source": [
    "This should equal what was removed from the credit."
   ]
  },
  {
   "cell_type": "code",
   "execution_count": 13,
   "metadata": {},
   "outputs": [
    {
     "name": "stdout",
     "output_type": "stream",
     "text": [
      "False\n"
     ]
    }
   ],
   "source": [
    "print(credit+total == 100)"
   ]
  },
  {
   "cell_type": "markdown",
   "metadata": {},
   "source": [
    "Why isn't this not true though?"
   ]
  },
  {
   "cell_type": "code",
   "execution_count": 14,
   "metadata": {},
   "outputs": [
    {
     "name": "stdout",
     "output_type": "stream",
     "text": [
      "100.00000000000001\n"
     ]
    }
   ],
   "source": [
    "print('{!r}'.format(credit+total))"
   ]
  },
  {
   "cell_type": "markdown",
   "metadata": {},
   "source": [
    "Well it appears our number has a small rounding error!\n",
    "\n",
    "Let's try to calculate the error percentage:\n",
    "\n",
    "$ \\%Error = \\left| \\frac{Expected - True}{Expected} \\right| \\cdot 100 \\% $"
   ]
  },
  {
   "cell_type": "code",
   "execution_count": 15,
   "metadata": {},
   "outputs": [
    {
     "name": "stdout",
     "output_type": "stream",
     "text": [
      "1.4210854715202004e-14\n"
     ]
    }
   ],
   "source": [
    "err = (credit+total - 100)\n",
    "print(err)"
   ]
  },
  {
   "cell_type": "markdown",
   "metadata": {},
   "source": [
    "So the error percentage is 14 orders of magnitude less than anything that would be considered important. This error is insignificant for humans but it is all it takes to change a flag from `True` to `False` and significantly alter the flow of our program!\n",
    "\n",
    "Another important note here is that, in our iteration, `i`'s values were the actual values of our `shopping_basket`. We could have done the same thing with `i` iterating through the indices of our `shopping_basket` list:\n",
    "\n",
    "```python\n",
    "for i in range(len(shopping_basket)):\n",
    "\tweight = ave_weight[shopping_basket[i]]\n",
    "\t# and so on...\n",
    "```"
   ]
  },
  {
   "cell_type": "markdown",
   "metadata": {},
   "source": [
    "## Loop control statements\n",
    "\n",
    "Python supports three loop control statements:\n",
    "\n",
    " - `break` terminates the loop and transfers execution to the statement immediately after the loop.\n",
    "\n",
    " - `continue` causes the loop to skip the remainder of the body and continues on the next iteration (if the condition is met).\n",
    "\n",
    " - `pass` is used when we don't want to do anything inside the loop but that is not syntactically allowed.\n",
    "\n",
    "Lets check out three examples:\n",
    "### Break"
   ]
  },
  {
   "cell_type": "code",
   "execution_count": 16,
   "metadata": {},
   "outputs": [
    {
     "name": "stdout",
     "output_type": "stream",
     "text": [
      "0\n",
      "1\n",
      "2\n",
      "3\n",
      "4\n",
      "5\n"
     ]
    }
   ],
   "source": [
    "for i in range(10):\n",
    "    print(i)\n",
    "    if i == 5:\n",
    "        break"
   ]
  },
  {
   "cell_type": "markdown",
   "metadata": {},
   "source": [
    "Even though we instructed python to iterate through 10, the loop **terminated** at 5 because of the `break` statement!\n",
    "\n",
    "### Continue"
   ]
  },
  {
   "cell_type": "code",
   "execution_count": 17,
   "metadata": {},
   "outputs": [
    {
     "name": "stdout",
     "output_type": "stream",
     "text": [
      "1\n",
      "3\n",
      "5\n",
      "7\n",
      "9\n",
      "10\n"
     ]
    }
   ],
   "source": [
    "cnt = 0\n",
    "for i in range(10):\n",
    "    cnt += 1\n",
    "    if i % 2 == 0:\n",
    "        continue\n",
    "    print(i)\n",
    "print(cnt)"
   ]
  },
  {
   "cell_type": "markdown",
   "metadata": {},
   "source": [
    "With the `continue` statement we managed to **skip** the printing function where `i` takes even values (even though, as indicated by the counter, we have performed 10 iterations)!\n",
    "\n",
    "### Pass"
   ]
  },
  {
   "cell_type": "code",
   "execution_count": 18,
   "metadata": {},
   "outputs": [],
   "source": [
    "for i in range(10):\n",
    "    pass"
   ]
  },
  {
   "cell_type": "markdown",
   "metadata": {},
   "source": [
    "This actually **does nothing** and is usually used in parts of our code where we have not written yet (but will eventually), or for creating minimal classes."
   ]
  },
  {
   "cell_type": "markdown",
   "metadata": {},
   "source": [
    "## Infinite loops:"
   ]
  },
  {
   "cell_type": "code",
   "execution_count": 19,
   "metadata": {},
   "outputs": [
    {
     "ename": "KeyboardInterrupt",
     "evalue": "",
     "output_type": "error",
     "traceback": [
      "\u001b[1;31m---------------------------------------------------------------------------\u001b[0m",
      "\u001b[1;31mKeyboardInterrupt\u001b[0m                         Traceback (most recent call last)",
      "\u001b[1;32m<ipython-input-19-0229178df10c>\u001b[0m in \u001b[0;36m<module>\u001b[1;34m()\u001b[0m\n\u001b[0;32m      1\u001b[0m \u001b[1;32mwhile\u001b[0m \u001b[1;32mTrue\u001b[0m \u001b[1;33m:\u001b[0m\u001b[1;33m\u001b[0m\u001b[0m\n\u001b[1;32m----> 2\u001b[1;33m     \u001b[1;32mpass\u001b[0m\u001b[1;33m\u001b[0m\u001b[0m\n\u001b[0m",
      "\u001b[1;31mKeyboardInterrupt\u001b[0m: "
     ]
    }
   ],
   "source": [
    "while True :\n",
    "    pass\n",
    "# you have to press the button called 'interrupt the kernel' to stop this loop\n",
    "# if we were not in a notebook you need to press ctrl + c"
   ]
  },
  {
   "cell_type": "markdown",
   "metadata": {},
   "source": [
    "This loop continues to run until you kill it!\n",
    "\n",
    "These loops are useful only if you have a **break** condition in them."
   ]
  },
  {
   "cell_type": "markdown",
   "metadata": {},
   "source": [
    "## Iterations and Lists:\n",
    "\n",
    "Loops make list operations easier. Say we have two lists `A` and `B` of the same length and we want to subtract the value of each element of `B` from the corresponding element of `A`."
   ]
  },
  {
   "cell_type": "code",
   "execution_count": 20,
   "metadata": {},
   "outputs": [],
   "source": [
    "A = list(range(1,20,2)); B = list(range(10))\n",
    "# A: [1, 3, 5, 7, 9, 11, 13, 15, 17, 19]\n",
    "# B: [0, 1, 2, 3, 4, 5, 6, 7, 8, 9]"
   ]
  },
  {
   "cell_type": "markdown",
   "metadata": {},
   "source": [
    "The first thing that comes to mind is to write a loop that performs this operation for each element."
   ]
  },
  {
   "cell_type": "code",
   "execution_count": 21,
   "metadata": {},
   "outputs": [
    {
     "name": "stdout",
     "output_type": "stream",
     "text": [
      "[1, 2, 3, 4, 5, 6, 7, 8, 9, 10]\n"
     ]
    }
   ],
   "source": [
    "for i in range(len(A)):\n",
    "    A[i] -= B[i]\n",
    "print(A)"
   ]
  },
  {
   "cell_type": "markdown",
   "metadata": {},
   "source": [
    "Or, in this specific case if we notice that i actually iterates through the values of `B` one could write:"
   ]
  },
  {
   "cell_type": "code",
   "execution_count": 22,
   "metadata": {},
   "outputs": [
    {
     "name": "stdout",
     "output_type": "stream",
     "text": [
      "[1, 2, 3, 4, 5, 6, 7, 8, 9, 10]\n"
     ]
    }
   ],
   "source": [
    "A = list(range(1, 20, 2))\n",
    "for i in B:\n",
    "    A[i] -= i\n",
    "print(A)"
   ]
  },
  {
   "cell_type": "markdown",
   "metadata": {},
   "source": [
    "Of course, if we wanted a new list `C`, where *C = A - B* , there would be a few possible ways to do this.\n",
    "\n",
    "The first one involves creating an empty list and then append each element as it comes in. "
   ]
  },
  {
   "cell_type": "code",
   "execution_count": 23,
   "metadata": {},
   "outputs": [
    {
     "name": "stdout",
     "output_type": "stream",
     "text": [
      "[1, 2, 3, 4, 5, 6, 7, 8, 9, 10]\n"
     ]
    }
   ],
   "source": [
    "A = range(1, 20, 2)\n",
    "C = []\n",
    "for i in range(len(A)):\n",
    "    C.append(A[i] - B[i])\n",
    "print(C)"
   ]
  },
  {
   "cell_type": "markdown",
   "metadata": {},
   "source": [
    "We could also create a placeholder list with the same length as `A` and update each element as it comes in."
   ]
  },
  {
   "cell_type": "code",
   "execution_count": 24,
   "metadata": {},
   "outputs": [
    {
     "name": "stdout",
     "output_type": "stream",
     "text": [
      "[1, 2, 3, 4, 5, 6, 7, 8, 9, 10]\n"
     ]
    }
   ],
   "source": [
    "C = [None] * len(A)\n",
    "# None is a reserved python keyword declaring that this value is null.\n",
    "# This would have had the same effect if we had filled the list C with zeros,\n",
    "# any arbitrary number or even random strings.\n",
    "for i in range(len(A)):\n",
    "    C[i] = A[i] - B[i]\n",
    "print(C)"
   ]
  },
  {
   "cell_type": "markdown",
   "metadata": {},
   "source": [
    "A more *pythonic* way to do this, though, is the following."
   ]
  },
  {
   "cell_type": "code",
   "execution_count": 25,
   "metadata": {},
   "outputs": [
    {
     "name": "stdout",
     "output_type": "stream",
     "text": [
      "[1, 2, 3, 4, 5, 6, 7, 8, 9, 10]\n"
     ]
    }
   ],
   "source": [
    "C = [A[i] - B[i] for i in range(len(A))]\n",
    "print(C)"
   ]
  },
  {
   "cell_type": "markdown",
   "metadata": {},
   "source": [
    "This creates a *list* (indicated by the brackets), containing elements that it gets from a function (in this case `A[i]-B[i]`), in which we get the parameter(s) from the loop (`for i in range(...)`).\n",
    "\n",
    "We could also use the `zip` function we saw in a previous tutorial."
   ]
  },
  {
   "cell_type": "code",
   "execution_count": 26,
   "metadata": {},
   "outputs": [
    {
     "name": "stdout",
     "output_type": "stream",
     "text": [
      "[1, 2, 3, 4, 5, 6, 7, 8, 9, 10]\n"
     ]
    }
   ],
   "source": [
    "C = [a - b for a, b in zip(A,B)]\n",
    "print(C)"
   ]
  },
  {
   "cell_type": "markdown",
   "metadata": {},
   "source": [
    "Here we had two iterable variables *a* and *b*. We can do this in cases where we have a list of pairs.\n",
    "\n",
    "This syntax is called **list comprehension** and is useful for **creating and populating lists iteratively**.\n",
    "\n",
    "- The simplest case of a list comprehension would be:\n",
    "```python\n",
    "my_list = [expression for variable in iterable]\n",
    "```\n",
    "which is equivalent to:\n",
    "```python\n",
    "my_list = []\n",
    "for variable in iterable:\n",
    "     my_list.append(expression)        \n",
    "```\n",
    "- We can also add conditional statements to this syntax:\n",
    "```python\n",
    "my_list = [expression for variable in iterable if condition is True]\n",
    "```\n",
    "which would be equivalent to:\n",
    "```python\n",
    "my_list = []\n",
    "for variable in iterable:\n",
    "    if condition is True:\n",
    "        my_list.append(expression)  \n",
    "```\n",
    "- It is also possible to add more iterations into list comprehension, but this is **not recommended**, because the code becomes harder to understant.\n",
    "```python\n",
    "my_list = [expression for variable_1 in iterable_1 for variable_2 in iterable_2 if condition is True]\n",
    "```\n",
    "which is the same as:\n",
    "```python\n",
    "my_list = []\n",
    "for variable_1 in iterable_1:\n",
    "    for variable_2 in iterable_2:\n",
    "        if condition is True:\n",
    "            my_list.append(expression)  \n",
    "```\n",
    "\n",
    "## Example 2\n",
    "\n",
    "We have a phonebook stored in a python dictionary, defined as `{name:phone_number}`."
   ]
  },
  {
   "cell_type": "code",
   "execution_count": 27,
   "metadata": {},
   "outputs": [],
   "source": [
    "phone_book = {'mike':1231231231, 'george':9090909090, 'maria':8776787678, 'thanos':2893748365,\n",
    "              'eleni':2893451234, 'kostas':7654367890, 'ioanna':7658754321, 'katerina':1029384756}"
   ]
  },
  {
   "cell_type": "markdown",
   "metadata": {},
   "source": [
    "Lets add a couple of new entries with duplicate values:"
   ]
  },
  {
   "cell_type": "code",
   "execution_count": 28,
   "metadata": {},
   "outputs": [],
   "source": [
    "phone_book['panos'] = list(phone_book.values())[3]\n",
    "phone_book['alexandra'] = list(phone_book.values())[5]"
   ]
  },
  {
   "cell_type": "markdown",
   "metadata": {},
   "source": [
    "What we will try to do in this example is write a program that searches the `phone_book` and removes entries with duplicate phone numbers. We don't care which one is removed.\n",
    "\n",
    "One thought would be to take the list of the dictionary's values and try to identify the duplicate ones."
   ]
  },
  {
   "cell_type": "code",
   "execution_count": 29,
   "metadata": {},
   "outputs": [],
   "source": [
    "numbers = phone_book.values()"
   ]
  },
  {
   "cell_type": "markdown",
   "metadata": {},
   "source": [
    "This creates a list of the 10 phone numbers that our phone book contains.\n",
    "\n",
    "Now let's try to search this list in order to identify the duplicate numbers.  \n",
    "The easiest way to do this is to create a list of unique numbers and check this list in each iteration.  \n",
    "\n",
    "The pure programmer's implementation would be something like the following."
   ]
  },
  {
   "cell_type": "code",
   "execution_count": 30,
   "metadata": {},
   "outputs": [
    {
     "name": "stdout",
     "output_type": "stream",
     "text": [
      "Unique:  [1231231231, 9090909090, 8776787678, 2893748365, 2893451234, 7654367890, 7658754321, 1029384756]\n",
      "Duplicates: [2893748365, 7654367890]\n"
     ]
    }
   ],
   "source": [
    "duplicates = []  # We create a list where we will store the duplicate phone numbers\n",
    "unique = []  # and a list where we will store the unique ones\n",
    "for i in numbers:  # we will need to iterate through all the numbers one time\n",
    "    unq_flag = True  # we create a flag which is set as True during each outer loop\n",
    "    for j in unique:  # then we create an inner loop that passes through the contents of the unique list\n",
    "        if i == j:  # if an entry of this unique list matches a number\n",
    "            unq_flag = False  # we set the flag = False, because we have already seen this number before\n",
    "    if unq_flag == True:  # once we exit this loop we check the flag. if it is True, we haven't seen the number before\n",
    "        unique.append(i)  # so we add it to the uniqie list\n",
    "    else:  # if the flag is False, we have seen the number before.\n",
    "        duplicates.append(i)  # so we register it as a duplicate\n",
    "        \n",
    "print('Unique: ', unique)\n",
    "print('Duplicates:', duplicates)"
   ]
  },
  {
   "cell_type": "markdown",
   "metadata": {},
   "source": [
    "Note that because our flag is boolean, the if statements could just be written as:\n",
    "\n",
    "```python\n",
    "if unq_flag: \n",
    "    ...\n",
    "```\n",
    "        \n",
    "A more *pythonic* way to implement the above code is the following."
   ]
  },
  {
   "cell_type": "code",
   "execution_count": 31,
   "metadata": {},
   "outputs": [
    {
     "name": "stdout",
     "output_type": "stream",
     "text": [
      "Unique:  [1231231231, 9090909090, 8776787678, 2893748365, 2893451234, 7654367890, 7658754321, 1029384756]\n",
      "Duplicates: [2893748365, 7654367890]\n"
     ]
    }
   ],
   "source": [
    "duplicates = []\n",
    "unique = []\n",
    "for i in numbers:\n",
    "    if i not in unique:\n",
    "        unique.append(i)\n",
    "    else:\n",
    "        duplicates.append(i)\n",
    "        \n",
    "print('Unique: ', unique)\n",
    "print('Duplicates:', duplicates)"
   ]
  },
  {
   "cell_type": "markdown",
   "metadata": {},
   "source": [
    "This does exactly the same as the previous way!\n",
    "\n",
    "As a side note, an easier way to find the unique values in a list would be to create a *set*:"
   ]
  },
  {
   "cell_type": "code",
   "execution_count": 32,
   "metadata": {},
   "outputs": [
    {
     "name": "stdout",
     "output_type": "stream",
     "text": [
      "Unique:  [9090909090, 2893451234, 2893748365, 7658754321, 7654367890, 1029384756, 8776787678, 1231231231]\n"
     ]
    }
   ],
   "source": [
    "unique = list(set(numbers))\n",
    "print('Unique: ', unique)"
   ]
  },
  {
   "cell_type": "markdown",
   "metadata": {},
   "source": [
    "Now that we have found our two duplicate numbers let's figure out which names they correspond to.\n",
    "\n",
    "Using the inline list creation technique we saw before, we construct a list containing the indices of the duplicate values."
   ]
  },
  {
   "cell_type": "code",
   "execution_count": 33,
   "metadata": {},
   "outputs": [],
   "source": [
    "dup_ind = [list(numbers).index(i) for i in duplicates]"
   ]
  },
  {
   "cell_type": "markdown",
   "metadata": {},
   "source": [
    "Let's see to which names these values correspond."
   ]
  },
  {
   "cell_type": "code",
   "execution_count": 34,
   "metadata": {},
   "outputs": [],
   "source": [
    "names = phone_book.keys()\n",
    "# a list of the names in our phone book\n",
    "dup_keys = [list(names)[i] for i in dup_ind]\n",
    "# these are the keys that need to be removed"
   ]
  },
  {
   "cell_type": "markdown",
   "metadata": {},
   "source": [
    "Now we'll remove the duplicates."
   ]
  },
  {
   "cell_type": "code",
   "execution_count": 35,
   "metadata": {},
   "outputs": [
    {
     "name": "stdout",
     "output_type": "stream",
     "text": [
      "{'mike': 1231231231, 'george': 9090909090, 'maria': 8776787678, 'eleni': 2893451234, 'ioanna': 7658754321, 'katerina': 1029384756, 'panos': 2893748365, 'alexandra': 7654367890}\n"
     ]
    }
   ],
   "source": [
    "for i in dup_keys:\n",
    "    del phone_book[i]\n",
    "print(phone_book)"
   ]
  },
  {
   "cell_type": "markdown",
   "metadata": {},
   "source": [
    "Another way would be to create a new dictionary from the two lists.\n",
    "\n",
    "First, we create a list with the unique names:"
   ]
  },
  {
   "cell_type": "code",
   "execution_count": 36,
   "metadata": {},
   "outputs": [],
   "source": [
    "unq_names = [i for i in names if i not in dup_keys]"
   ]
  },
  {
   "cell_type": "markdown",
   "metadata": {},
   "source": [
    "Now we have a list of the unique names (`unq_names`) and one containing the unique phone numbers (`unique`).\n",
    "\n",
    "All we have to do is create a list from those two. This is done easily in python with `zip`."
   ]
  },
  {
   "cell_type": "code",
   "execution_count": 37,
   "metadata": {},
   "outputs": [
    {
     "name": "stdout",
     "output_type": "stream",
     "text": [
      "{'mike': 9090909090, 'george': 2893451234, 'maria': 2893748365, 'eleni': 7658754321, 'ioanna': 7654367890, 'katerina': 1029384756, 'panos': 8776787678, 'alexandra': 1231231231}\n"
     ]
    }
   ],
   "source": [
    "phone_book = dict(zip(unq_names, unique))\n",
    "print(phone_book)"
   ]
  },
  {
   "cell_type": "markdown",
   "metadata": {},
   "source": [
    "Another way to approach the problem is the following."
   ]
  },
  {
   "cell_type": "code",
   "execution_count": 38,
   "metadata": {},
   "outputs": [
    {
     "name": "stdout",
     "output_type": "stream",
     "text": [
      "{'mike': 9090909090, 'george': 2893451234, 'maria': 2893748365, 'eleni': 7658754321, 'ioanna': 7654367890, 'katerina': 1029384756, 'panos': 8776787678, 'alexandra': 1231231231}\n"
     ]
    }
   ],
   "source": [
    "unique_phone_book = {}\n",
    "for name, number in phone_book.items():\n",
    "    if number not in unique_phone_book.values():\n",
    "        unique_phone_book[name] = number\n",
    "        \n",
    "print(unique_phone_book)"
   ]
  },
  {
   "cell_type": "markdown",
   "metadata": {},
   "source": [
    "This time a different set of duplicates could have been removed than before.\n",
    "\n",
    "The `.items()` method returns a list of (*key, value*) pairs. Keys are referred as `name` and values as `number`.\n",
    "\n",
    "The `if` statement checks if the `number` is in the list of the values of our unique phone book. If it is NOT, then we append the unique phone book with this `name`, `number` pair. If it is in the unique book then we don't do anything."
   ]
  },
  {
   "cell_type": "markdown",
   "metadata": {},
   "source": [
    "## enumerate\n",
    "\n",
    "`enumerate` is a built in python function that keeps track of the number of iterations in a loop. Imagine the following code: "
   ]
  },
  {
   "cell_type": "code",
   "execution_count": 39,
   "metadata": {},
   "outputs": [
    {
     "name": "stdout",
     "output_type": "stream",
     "text": [
      "0 a\n",
      "1 b\n",
      "2 c\n",
      "3 d\n",
      "4 e\n",
      "5 f\n",
      "6 g\n"
     ]
    }
   ],
   "source": [
    "my_list = ['a', 'b', 'c', 'd', 'e', 'f', 'g']\n",
    "i = 0\n",
    "for element in my_list:\n",
    "    print(i, element)\n",
    "    i += 1"
   ]
  },
  {
   "cell_type": "markdown",
   "metadata": {},
   "source": [
    "This loop prins the contents of `my_list` as well as the index of each element. This could also be written as:"
   ]
  },
  {
   "cell_type": "code",
   "execution_count": 40,
   "metadata": {},
   "outputs": [
    {
     "name": "stdout",
     "output_type": "stream",
     "text": [
      "0 a\n",
      "1 b\n",
      "2 c\n",
      "3 d\n",
      "4 e\n",
      "5 f\n",
      "6 g\n"
     ]
    }
   ],
   "source": [
    "for i in range(len(my_list)):\n",
    "    print(i, my_list[i])"
   ]
  },
  {
   "cell_type": "markdown",
   "metadata": {},
   "source": [
    "Here is where `enumerate` could be useful. It essentially adds a second variable we are iterating with representing the number of iterations we have performed so far. "
   ]
  },
  {
   "cell_type": "code",
   "execution_count": 41,
   "metadata": {},
   "outputs": [
    {
     "name": "stdout",
     "output_type": "stream",
     "text": [
      "0 a\n",
      "1 b\n",
      "2 c\n",
      "3 d\n",
      "4 e\n",
      "5 f\n",
      "6 g\n"
     ]
    }
   ],
   "source": [
    "for i, element in enumerate(my_list):  # for each iteration: i is the index of element\n",
    "    print(i, element)"
   ]
  },
  {
   "cell_type": "markdown",
   "metadata": {},
   "source": [
    "## loops without variable\n",
    "\n",
    "Python allows us to iterate through a collection **without** having to store the variable we are iterating with. This is simply done by placing an underscore (`_`) instead of a valid variable name:\n",
    "\n",
    "```python\n",
    "for _ in collection:\n",
    "    # do something\n",
    "```"
   ]
  }
 ],
 "metadata": {
  "kernelspec": {
   "display_name": "Python 3",
   "language": "python",
   "name": "python3"
  },
  "language_info": {
   "codemirror_mode": {
    "name": "ipython",
    "version": 3
   },
   "file_extension": ".py",
   "mimetype": "text/x-python",
   "name": "python",
   "nbconvert_exporter": "python",
   "pygments_lexer": "ipython3",
   "version": "3.6.3"
  }
 },
 "nbformat": 4,
 "nbformat_minor": 1
}
