{
 "cells": [
  {
   "cell_type": "markdown",
   "metadata": {},
   "source": [
    "# Classes\n",
    "\n",
    "Python is an object-oriented programming language. This means that we can create classes and use class objects in python.\n",
    "\n",
    "First of all let's express some terminology. \n",
    "\n",
    "- **Object**: Everything revolves around objects. An object is essentially a location in memory that has a value and is referenced by an identifier. Objects can be variables, data structures, functions or methods.\n",
    "\n",
    "- **Class**: A class is a prototype for an object. An oversimplification would be to think that the class is the type of the object. Classes can contain variables and methods that are only available to that class (or other classes in the same family).\n",
    "\n",
    "- **Method**: A function defined in a class.\n",
    "\n",
    "That's all we need to get started. We will examine more complex concepts such as inheritance and overloading later."
   ]
  },
  {
   "cell_type": "code",
   "execution_count": 1,
   "metadata": {},
   "outputs": [],
   "source": [
    "from __future__ import print_function"
   ]
  },
  {
   "cell_type": "markdown",
   "metadata": {},
   "source": [
    "As we stated before we can look at everything as an **object**."
   ]
  },
  {
   "cell_type": "code",
   "execution_count": 2,
   "metadata": {},
   "outputs": [
    {
     "data": {
      "text/plain": [
       "int"
      ]
     },
     "execution_count": 2,
     "metadata": {},
     "output_type": "execute_result"
    }
   ],
   "source": [
    "a = 5\n",
    "type(a)"
   ]
  },
  {
   "cell_type": "markdown",
   "metadata": {},
   "source": [
    "So if we look at it this way, `a` is an object of class `int`.\n",
    "\n",
    "Similarly"
   ]
  },
  {
   "cell_type": "code",
   "execution_count": 3,
   "metadata": {},
   "outputs": [
    {
     "data": {
      "text/plain": [
       "int"
      ]
     },
     "execution_count": 3,
     "metadata": {},
     "output_type": "execute_result"
    }
   ],
   "source": [
    "b = 8\n",
    "type(b)"
   ]
  },
  {
   "cell_type": "markdown",
   "metadata": {},
   "source": [
    "`b` is another object of the **same** class. \n",
    "\n",
    "This is important because the two variables `a` and `b` behave the same, even though they refer to different objects (e.g  they have the same built in methods and can be passed as arguments to the same functions). This is because they belong to the same class.\n",
    "\n",
    "In object-oriented languages we call the objects `a` and `b` **instances** of the class `int`.\n",
    "\n",
    "Classes are a really powerful tool because we can create our own classes and choose what their objects' behavior will be.\n",
    "\n",
    "Let's create our first class:"
   ]
  },
  {
   "cell_type": "code",
   "execution_count": 4,
   "metadata": {},
   "outputs": [],
   "source": [
    "class Nothing:\n",
    "    pass"
   ]
  },
  {
   "cell_type": "markdown",
   "metadata": {},
   "source": [
    "This class clearly has no code inside it. Its objects essentially do nothing! An object is formally defined as an *instance of a class*. \n",
    "\n",
    "So when we create an object of a class we can say that we *instantiate* that class."
   ]
  },
  {
   "cell_type": "code",
   "execution_count": 5,
   "metadata": {},
   "outputs": [
    {
     "name": "stdout",
     "output_type": "stream",
     "text": [
      "<class '__main__.Nothing'>\n"
     ]
    }
   ],
   "source": [
    "n = Nothing\n",
    "print(n)"
   ]
  },
  {
   "cell_type": "markdown",
   "metadata": {},
   "source": [
    "`n` is an instance or an object of class `Nothing`.\n",
    "\n",
    "When we tried to `print(n)`, we got `__main__.Nothing`.  \n",
    "\n",
    "Each class has a `__name__`, whose value is the *name* of the class (in this case `Nothing`). The first part is the `__name__` of the module. Since this notebook's kernel is running a python interpreter, the current module's name is `__main__`. In python `__main__` is the name of the scope in which top-level code executes. A module’s `__name__` is set equal to `__main__` when read from standard input, a script, or from an interactive prompt.  \n",
    "The second part is the name of the class which `n` belongs to (i.e `Nothing`)."
   ]
  },
  {
   "cell_type": "code",
   "execution_count": 6,
   "metadata": {},
   "outputs": [
    {
     "name": "stdout",
     "output_type": "stream",
     "text": [
      "Nothing\n"
     ]
    }
   ],
   "source": [
    "print(n.__name__)"
   ]
  },
  {
   "cell_type": "markdown",
   "metadata": {},
   "source": [
    "## Example 1\n",
    "\n",
    "Say we want to somehow store the information of a person:\n",
    "\n",
    "- name -> string\n",
    "- age -> int\n",
    "- height -> float\n",
    "- sex -> character\n",
    "- address -> string\n",
    "- married -> bool\n",
    "- email -> string\n",
    "- children -> list of objects of the same type as the person.\n",
    "\n",
    "Our fist thought would be to store this data as a list:"
   ]
  },
  {
   "cell_type": "code",
   "execution_count": 7,
   "metadata": {},
   "outputs": [],
   "source": [
    "a_person = ['my_name', 48, 1.84, 'M', 'street_name 12', True, 'my_email@email.com',  # personal information\n",
    "            [ ['child1', 12, 1.34, 'M', 'street_name 12', False, '', [] ],           # child 1\n",
    "             ['child2', 9, 1.02, 'F', 'street_name 12', False, '', [] ] ] ]          # child 2"
   ]
  },
  {
   "cell_type": "markdown",
   "metadata": {},
   "source": [
    "Things get out of control really quick. \n",
    "\n",
    "If we created the children as separate people:"
   ]
  },
  {
   "cell_type": "code",
   "execution_count": 8,
   "metadata": {},
   "outputs": [],
   "source": [
    "chld1 = ['child1', 12, 1.34, 'M', 'street_name 12', False, '', [] ]\n",
    "chld2 = ['child2', 9, 1.02, 'F', 'street_name 12', False, '', [] ]\n",
    "a_person =  ['my_name', 48, 1.84, 'M', 'street_name 12', True, 'my_email@email.com', chld1, chld2]"
   ]
  },
  {
   "cell_type": "markdown",
   "metadata": {},
   "source": [
    "An issue here is that if we wanted to see how tall our person is:"
   ]
  },
  {
   "cell_type": "code",
   "execution_count": 9,
   "metadata": {},
   "outputs": [
    {
     "data": {
      "text/plain": [
       "1.84"
      ]
     },
     "execution_count": 9,
     "metadata": {},
     "output_type": "execute_result"
    }
   ],
   "source": [
    "a_person[2]"
   ]
  },
  {
   "cell_type": "markdown",
   "metadata": {},
   "source": [
    "This is not a good handle because it offers no semantic value. Instead we need to remember each time the index of each element.\n",
    "\n",
    "A better way in this regard is by using a dictionary:"
   ]
  },
  {
   "cell_type": "code",
   "execution_count": 10,
   "metadata": {},
   "outputs": [],
   "source": [
    "chld1 = {'name':'child1', 'age':12, 'height':1.34, 'sex':'M', 'address':'street_name 12', 'married':False, 'email':'', 'children':[] }\n",
    "chld2 = {'name':'child2', 'age':9, 'height':1.02, 'sex':'F', 'address':'street_name 12', 'married':False, 'email':'', 'children':[] }\n",
    "a_person= {'name':'my_name', 'age':48, 'height':1.84, 'sex':'M', 'address':'street_name 12', 'married':True, 'email':'my_email@email.com', 'children':[chld1, chld2] }"
   ]
  },
  {
   "cell_type": "markdown",
   "metadata": {},
   "source": [
    "Now we can see how tall he is through the entry's key: *height*"
   ]
  },
  {
   "cell_type": "code",
   "execution_count": 11,
   "metadata": {},
   "outputs": [
    {
     "data": {
      "text/plain": [
       "1.84"
      ]
     },
     "execution_count": 11,
     "metadata": {},
     "output_type": "execute_result"
    }
   ],
   "source": [
    "a_person['height']"
   ]
  },
  {
   "cell_type": "markdown",
   "metadata": {},
   "source": [
    "Still, in order to create a new person we have to copy an old person's declaration and adjust it accordingly. \n",
    "\n",
    "This is **really inefficient**.\n",
    "\n",
    "Could we somehow create a *template* which we could use to just add our values and get a new person? \n",
    "\n",
    "The answer is yes."
   ]
  },
  {
   "cell_type": "code",
   "execution_count": 12,
   "metadata": {},
   "outputs": [],
   "source": [
    "def person_creator(name, age, height, sex, address, married, email, children):\n",
    "    return {'name':name, 'age':age, 'height':height, 'sex':sex, 'address':address, 'married':married, 'email':email, 'children':children}"
   ]
  },
  {
   "cell_type": "markdown",
   "metadata": {},
   "source": [
    "We'll demonstrate it by creating our person's wife."
   ]
  },
  {
   "cell_type": "code",
   "execution_count": 13,
   "metadata": {},
   "outputs": [
    {
     "name": "stdout",
     "output_type": "stream",
     "text": [
      "{'name': 'wife', 'age': 48, 'height': 1.7, 'sex': 'F', 'address': 'street_name 12', 'married': True, 'email': '', 'children': [{'name': 'child1', 'age': 12, 'height': 1.34, 'sex': 'M', 'address': 'street_name 12', 'married': False, 'email': '', 'children': []}, {'name': 'child2', 'age': 9, 'height': 1.02, 'sex': 'F', 'address': 'street_name 12', 'married': False, 'email': '', 'children': []}]}\n"
     ]
    }
   ],
   "source": [
    "wife = person_creator('wife', 48, 1.7, 'F', a_person['address'], True, '', a_person['children'])\n",
    "print(wife)"
   ]
  },
  {
   "cell_type": "markdown",
   "metadata": {},
   "source": [
    "Now suppose this couple adopts a new cat."
   ]
  },
  {
   "cell_type": "code",
   "execution_count": 14,
   "metadata": {},
   "outputs": [],
   "source": [
    "cat = {'name':'cat', 'age':'1', 'height':'0.2', 'address':a_person['address'], 'sex':'F'}"
   ]
  },
  {
   "cell_type": "markdown",
   "metadata": {},
   "source": [
    "This raises some issues.\n",
    "\n",
    "First, how can we differentiate between cats and humans? Both are essentially dictionaries...  \n",
    "Well, we could use a flag that specifies if the object represents a cat, a dog, a human, a parrot and so on.\n",
    "\n",
    "Secondly, if we wanted to add a new attribute to humans called *pets* and add our cat there, how would we do that? Individually for each person? Write a function that does so?\n",
    "\n",
    "Same issue if the couple gives birth to a new child. Do we append each list individually? Do we write a function that does so?\n",
    "\n",
    "The best way to approach this problem is with object-oriented techniques. This means that we will create a class named `Person`, which will have some attributes (a name, an age, ...).  \n",
    "This person also needs to have a way of giving birth to a child or adopting a pet.\n",
    "\n",
    "This will be a bit overwhelming but be patient, we will explain it in detail later."
   ]
  },
  {
   "cell_type": "code",
   "execution_count": 15,
   "metadata": {},
   "outputs": [],
   "source": [
    "class Person:\n",
    "    \n",
    "    def __init__(self, name, age, height, sex, address, married = False, email = '', children = [], pets = []):\n",
    "        # This is similar to the function definition, but we've added three default values\n",
    "        self.name = name\n",
    "        self.age = age\n",
    "        self.height = height\n",
    "        self.sex = sex\n",
    "        self.address = address\n",
    "        self.married = married\n",
    "        self.email = email\n",
    "        self.children = children[:]\n",
    "        self.pets = pets[:]\n",
    "        \n",
    "    def adopt_child(self, child):\n",
    "        self.children.append(child)\n",
    "        \n",
    "    def adopt_pet(self, pet):\n",
    "        self.pets.append(pet)\n",
    "        \n",
    "    def print_info(self):\n",
    "        print('name: ', self.name)\n",
    "        print('age: ', self.age)\n",
    "        print('height: ', self.height)\n",
    "        print('sex: ', self.sex)\n",
    "        print('address: ', self.address)\n",
    "        if self.married:\n",
    "            print('married:  Yes')\n",
    "        else:\n",
    "            print('married:  No')\n",
    "        if self.email:\n",
    "            print('email: ', self.email)\n",
    "        if self.children:\n",
    "            print('children: ')\n",
    "            for cld in self.children:\n",
    "                print(cld.name)\n",
    "        if self.pets:\n",
    "            print('pets: ')\n",
    "            for pet in self.pets:\n",
    "                print(pet.name)"
   ]
  },
  {
   "cell_type": "code",
   "execution_count": 16,
   "metadata": {},
   "outputs": [],
   "source": [
    "class Cat:\n",
    "    \n",
    "    def __init__(self, name, age, height, sex, address):\n",
    "        self.name = name\n",
    "        self.age = age\n",
    "        self.height = height\n",
    "        self.sex = sex\n",
    "        self.address = address\n",
    "        \n",
    "    def print_info(self):\n",
    "        print('name: ', self.name)\n",
    "        print('age: ', self.age)\n",
    "        print('height: ', self.height)\n",
    "        print('sex: ', self.sex)\n",
    "        print('address: ', self.address)"
   ]
  },
  {
   "cell_type": "markdown",
   "metadata": {},
   "source": [
    "We wrote the class definitions which are essentially prototypes or templates if you wish for our objects. Let's create our objects now."
   ]
  },
  {
   "cell_type": "code",
   "execution_count": 17,
   "metadata": {},
   "outputs": [],
   "source": [
    "chld1 = Person('child1', 12, 1.34, 'M', 'street_name 12')\n",
    "chld2 = Person('child2', 9, 1.02, 'F', 'street_name 12')\n",
    "a_person =  Person('my_name', 48, 1.84, 'M', 'street_name 12', True, 'my_email@email.com', [chld1, chld2])"
   ]
  },
  {
   "cell_type": "markdown",
   "metadata": {},
   "source": [
    "Ok, so how do we use them? \n",
    "\n",
    "Its really simple!"
   ]
  },
  {
   "cell_type": "code",
   "execution_count": 18,
   "metadata": {},
   "outputs": [
    {
     "name": "stdout",
     "output_type": "stream",
     "text": [
      "my_name\n",
      "1.34\n",
      "9\n"
     ]
    }
   ],
   "source": [
    "print(a_person.name)\n",
    "print(chld1.height)\n",
    "print(chld2.age)"
   ]
  },
  {
   "cell_type": "markdown",
   "metadata": {},
   "source": [
    "That's simple... so what type are our objects? They are objects of a type we created: *Person*!\n",
    "\n",
    "We even created a method (a function inside our class) called `.print_info()` that prints out all of the person's information:"
   ]
  },
  {
   "cell_type": "code",
   "execution_count": 19,
   "metadata": {},
   "outputs": [
    {
     "name": "stdout",
     "output_type": "stream",
     "text": [
      "name:  my_name\n",
      "age:  48\n",
      "height:  1.84\n",
      "sex:  M\n",
      "address:  street_name 12\n",
      "married:  Yes\n",
      "email:  my_email@email.com\n",
      "children: \n",
      "child1\n",
      "child2\n"
     ]
    }
   ],
   "source": [
    "a_person.print_info()"
   ]
  },
  {
   "cell_type": "markdown",
   "metadata": {},
   "source": [
    "Now let's create the wife."
   ]
  },
  {
   "cell_type": "code",
   "execution_count": 20,
   "metadata": {},
   "outputs": [],
   "source": [
    "wife = Person('wife', 48, 1.7, 'F', a_person.address, True, '', a_person.children)"
   ]
  },
  {
   "cell_type": "markdown",
   "metadata": {},
   "source": [
    "and the cat"
   ]
  },
  {
   "cell_type": "code",
   "execution_count": 21,
   "metadata": {},
   "outputs": [
    {
     "name": "stdout",
     "output_type": "stream",
     "text": [
      "name:  cat\n",
      "age:  1\n",
      "height:  0.2\n",
      "sex:  F\n",
      "address:  street_name 12\n"
     ]
    }
   ],
   "source": [
    "cat = Cat('cat', 1, 0.2, 'F', wife.address)\n",
    "cat.print_info()"
   ]
  },
  {
   "cell_type": "markdown",
   "metadata": {},
   "source": [
    "How can we adopt the cat now?\n",
    "\n",
    "Well we wrote a method for that too!"
   ]
  },
  {
   "cell_type": "code",
   "execution_count": 22,
   "metadata": {},
   "outputs": [
    {
     "name": "stdout",
     "output_type": "stream",
     "text": [
      "name:  my_name\n",
      "age:  48\n",
      "height:  1.84\n",
      "sex:  M\n",
      "address:  street_name 12\n",
      "married:  Yes\n",
      "email:  my_email@email.com\n",
      "children: \n",
      "child1\n",
      "child2\n",
      "pets: \n",
      "cat\n"
     ]
    }
   ],
   "source": [
    "a_person.adopt_pet(cat)\n",
    "a_person.print_info()"
   ]
  },
  {
   "cell_type": "markdown",
   "metadata": {},
   "source": [
    "Note that he cat here is owned by `a_person`. The wife doesn't have any pets! if we wanted to adopt the cat by the wife too we would need to do that individually: `wife.adopt_pet(cat)`.\n",
    "\n",
    "## Creating classes\n",
    "\n",
    "As we saw before, classes are really useful! Let's try to make our own step by step! \n",
    "\n",
    "We'll try to make a Dog class:"
   ]
  },
  {
   "cell_type": "code",
   "execution_count": 23,
   "metadata": {},
   "outputs": [],
   "source": [
    "class Dog:\n",
    "    # This line states that we will create a new class called Dog.\n",
    "    name = 'Spark'\n",
    "    age = 1\n",
    "    # All our dog objects will have two variables:\n",
    "    # one called 'name' and one called 'age'\n",
    "    # initialized to 'Spark' and '1' respectively"
   ]
  },
  {
   "cell_type": "markdown",
   "metadata": {},
   "source": [
    "Let's create our first dog"
   ]
  },
  {
   "cell_type": "code",
   "execution_count": 24,
   "metadata": {},
   "outputs": [
    {
     "name": "stdout",
     "output_type": "stream",
     "text": [
      "<__main__.Dog object at 0x000001ABBB687C18>\n"
     ]
    }
   ],
   "source": [
    "rud = Dog()\n",
    "print(rud)"
   ]
  },
  {
   "cell_type": "markdown",
   "metadata": {},
   "source": [
    "How can we refer to our dog's variables, though? \n",
    "\n",
    "`name` and `age` are not global variables.\n",
    "\n",
    "We can do so by using our object's name before the variable name:"
   ]
  },
  {
   "cell_type": "code",
   "execution_count": 25,
   "metadata": {},
   "outputs": [
    {
     "name": "stdout",
     "output_type": "stream",
     "text": [
      "Spark 1\n"
     ]
    }
   ],
   "source": [
    "print(rud.name, rud.age)"
   ]
  },
  {
   "cell_type": "markdown",
   "metadata": {},
   "source": [
    "We can manipulate these as any other variables."
   ]
  },
  {
   "cell_type": "code",
   "execution_count": 26,
   "metadata": {},
   "outputs": [
    {
     "name": "stdout",
     "output_type": "stream",
     "text": [
      "Rudy 5\n"
     ]
    }
   ],
   "source": [
    "rud.name = 'Rudy'\n",
    "rud.age = 5\n",
    "print(rud.name, rud.age)"
   ]
  },
  {
   "cell_type": "markdown",
   "metadata": {},
   "source": [
    "Could we modify our class so that we can initialize variables during the object construction?\n",
    "\n",
    "What we want essentially is to create our object and pass our class variables as arguments:\n",
    "```python \n",
    "rud = Dog('Rudy', 5)\n",
    "```\n",
    "In order to do that we must first learn a new type of function called **method**. Methods are essentially functions defined inside of classes. They are called the same way that class variables are.\n",
    "\n",
    "A **constructor** is a special kind of method, that is called automatically during object construction. Constructors are used for variable initialization, among other things."
   ]
  },
  {
   "cell_type": "code",
   "execution_count": 27,
   "metadata": {},
   "outputs": [],
   "source": [
    "class Dog:\n",
    "    \n",
    "    def bark(self):\n",
    "        # This is a method. Its syntax is identical to a function's definition\n",
    "        # but it is declared inside the scope of a class! The argument we put inside\n",
    "        # the brackets. 'self' is a python keyword and must accompany any methods!\n",
    "        # When calling the method we call it as if it has no arguments, though: my_dog.bark()\n",
    "        print('Bark, bark, bark!')\n",
    "        # This is a simple method that just prints something.\n",
    "        \n",
    "    def __init__(self, name, age):\n",
    "        # Here we define a constructor. It is like a regular method, but with a unique name '__init__'\n",
    "        self.name = name\n",
    "        # In this line we tell our method to create a variable called 'name' inside a dog object\n",
    "        # and to initialize it by the 'name' argument we was during initialization.\n",
    "        # The 'self' argument is to declare the scope of the 'name' variable.\n",
    "        # It essentially tells python that 'name' belongs to 'self', which in our case is the Dog class.\n",
    "        # We are allowed to have two 'name' arguments because their scope is different! \n",
    "        # 'self' is similar to java's 'this' as they are both used for the same thing: to access the current instance's variables.\n",
    "        # The difference is that 'self' needs to be passed as an argument when declaring a new method.\n",
    "        self.age = age\n",
    "        print('Dog created')\n",
    "        # We also want our class to print out something every time a Dog object is created."
   ]
  },
  {
   "cell_type": "markdown",
   "metadata": {},
   "source": [
    "Now let's instantiate our class."
   ]
  },
  {
   "cell_type": "code",
   "execution_count": 28,
   "metadata": {},
   "outputs": [
    {
     "name": "stdout",
     "output_type": "stream",
     "text": [
      "Dog created\n",
      "Rudy 5\n",
      "Bark, bark, bark!\n"
     ]
    }
   ],
   "source": [
    "rud = Dog('Rudy', 5) # Dog created\n",
    "print(rud.name, rud.age) # Rudy 5\n",
    "rud.bark()"
   ]
  },
  {
   "cell_type": "markdown",
   "metadata": {},
   "source": [
    "The first output (*Dog created*), was printed automatically when `rud` was created.\n",
    "\n",
    "## Encapsulation in python\n",
    "\n",
    "An important aspect of object-oriented programming is encapsulation. In C++ and Java there are three access modifiers: Public, Protected and Private. Public class members mean that anyone can access them (like everything we have seen up till now). Protected means that only the owner class and its subclasses can access them, and private members means that no one can access them from outside the class.\n",
    "\n",
    "Python doesn't support such strict access restrictions but encourages programmers to not mess with data members that are not their own! This is done by putting a single (\\_) or double (\\__) underscore before data members you don't want touched. That being said, this just makes it a bit more difficult for someone to access them but it **doesn't restrict** them from doing so.\n",
    "\n",
    "## Inheritance\n",
    "\n",
    "Inheritance is an important part of object oriented programming. This allows us to create classes that 'inherit' all the functionality of their mother classes.\n",
    "\n",
    "Syntax is:\n",
    "```python\n",
    "class Derived(Base):\n",
    " \t...\n",
    "```    \n",
    "Let's see an example:"
   ]
  },
  {
   "cell_type": "code",
   "execution_count": 29,
   "metadata": {},
   "outputs": [],
   "source": [
    "class Vehicle:\n",
    "    \n",
    "    def __init__(self, name, make):\n",
    "        self.name = name\n",
    "        self.make = make\n",
    "        \n",
    "    def get_vehicle(self):\n",
    "        return self.name + \" '\" + str(self.make)[-2:]"
   ]
  },
  {
   "cell_type": "markdown",
   "metadata": {},
   "source": [
    "We first defined a basic `vehicle` class which has two variables (`name` and `make`) and one method which returns the information of the vehicle.\n",
    "\n",
    "Now we'll define a class which inherites all variables and methods from `vehicle`."
   ]
  },
  {
   "cell_type": "code",
   "execution_count": 30,
   "metadata": {},
   "outputs": [],
   "source": [
    "class Car(Vehicle):\n",
    "    # This is the most important line. It tells the derived class (Car),\n",
    "    # to inherit everything from the base class (Vehicle).\n",
    "    # i.e a car has all the features a vehicle has (name, make).\n",
    "    \n",
    "    def __init__(self, name, make, man):\n",
    "        Vehicle.__init__(self, name, make)\n",
    "        # We call the constructor of the base class in order to initialize our first 2 variables\n",
    "        # In python 3 we could just write super().__init__(self, name, make)\n",
    "        # super() returns the immediate superclass (which is Vehicle in this case)\n",
    "        # If we want it to work on Python2 we need to write super(Car, self)\n",
    "        self.manufacturer = man\n",
    "        # here we add a new variable called 'manufacturer' that exists only for cars and not for vehicles in general\n",
    "        \n",
    "    def get_car(self):\n",
    "        return self.manufacturer + ' ' + self.get_vehicle()\n",
    "        # this method calls the inherited method '.get_vehicle()'"
   ]
  },
  {
   "cell_type": "code",
   "execution_count": 31,
   "metadata": {},
   "outputs": [
    {
     "name": "stdout",
     "output_type": "stream",
     "text": [
      "GSXR1000 '11\n",
      "Shelby Mustang '69\n"
     ]
    }
   ],
   "source": [
    "x = Vehicle('GSXR1000', 2011)\n",
    "y = Car('Mustang', 1969, 'Shelby')\n",
    "print(x.get_vehicle())\n",
    "print(y.get_car())"
   ]
  },
  {
   "cell_type": "markdown",
   "metadata": {},
   "source": [
    "We can improve upon the above code to give it a leaner design."
   ]
  },
  {
   "cell_type": "code",
   "execution_count": 32,
   "metadata": {},
   "outputs": [
    {
     "name": "stdout",
     "output_type": "stream",
     "text": [
      "GSXR1000 '11\n",
      "Shelby Mustang '69\n"
     ]
    }
   ],
   "source": [
    "class Vehicle:\n",
    "    \n",
    "    def __init__(self, name, make):\n",
    "        self.name = name\n",
    "        self.make = make\n",
    "    def __str__(self):\n",
    "        # We overwrite the __str__() method of our base class to return what we want\n",
    "        return self.name + \" '\" + str(self.make)[-2:]\n",
    "\n",
    "class Car(Vehicle):\n",
    "    def __init__(self, name, make, man):\n",
    "        Vehicle.__init__(self, name, make)\n",
    "        # We make use of the super() syntax discussed above\n",
    "        self.manufacturer = man\n",
    "    def __str__(self):\n",
    "        # The derived class needs its own __str__() method\n",
    "        return self.manufacturer + ' ' + Vehicle.__str__(self)\n",
    "        # This invokes the __str__() method of the super class   \n",
    "        \n",
    "x = Vehicle('GSXR1000', 2011)\n",
    "y = Car('Mustang', 1969, 'Shelby')\n",
    "print(x) # GSXR1000 '11\n",
    "print(y)"
   ]
  },
  {
   "cell_type": "markdown",
   "metadata": {},
   "source": [
    "What we did in this example is we overrode the Vehicle's `__str__()` method, in the Car class.\n",
    "\n",
    "What is overriding? **Overriding** is the ability of a class to change the implementation of a method provided by one of its ancestors.\n",
    "\n",
    "Another important feature of object-oriented programming is method **overloading**. This, however, is done differently than other languages like Java or C++.\n",
    "\n",
    "The same effect in python can be achieved with if statements:"
   ]
  },
  {
   "cell_type": "code",
   "execution_count": 33,
   "metadata": {},
   "outputs": [
    {
     "name": "stdout",
     "output_type": "stream",
     "text": [
      "effect 1\n",
      "effect 2\n",
      "effect 3\n"
     ]
    }
   ],
   "source": [
    "class A:\n",
    "    def methd(self, overloading_criterion=None):\n",
    "        if overloading_criterion is None:\n",
    "            print('effect 1')\n",
    "        elif(overloading_criterion == 0 ):\n",
    "            print('effect 2')\n",
    "        else:\n",
    "            print('effect 3')\n",
    "\n",
    "a = A()\n",
    "a.methd() # effect 1\n",
    "a.methd(0) # effect 2\n",
    "a.methd('asdf') # effect 3"
   ]
  },
  {
   "cell_type": "markdown",
   "metadata": {},
   "source": [
    "## Example 2\n",
    "\n",
    "We want to write a function that checks if all elements in a list are instances of a certain object."
   ]
  },
  {
   "cell_type": "code",
   "execution_count": 34,
   "metadata": {},
   "outputs": [],
   "source": [
    "class A:\n",
    "    pass\n",
    "\n",
    "class B:\n",
    "    pass\n",
    "\n",
    "a1, a2, a3 = A(), A(), A()\n",
    "# Instances of class A\n",
    "b1, b2, b3 = B(), B(), B()\n",
    "# Instances of Class B\n",
    "\n",
    "ls1 = [a1, a2, a3]\n",
    "ls2 = [b1, a2, b3]"
   ]
  },
  {
   "cell_type": "markdown",
   "metadata": {},
   "source": [
    "We just created six objects: 3 from class `A` and 3 from class `B`. We also created two lists, the first containing objects of class `A` and the second containing objects of both classes.\n",
    "\n",
    "Ideally we would want a function -lets call it check- that we would call like this:\n",
    "\n",
    "```python\n",
    "check(ls1, A) # would return True.\n",
    "check(ls1, B) # would return False.\n",
    "check(ls2, B) # would return False.\n",
    "```\n",
    "\n",
    "There are a couple ways of doing this. The first involves a bit of background knowledge on python classes. Besides the variables and methods we declare in our classes, each python class also has its own hidden variables and methods. We saw one of those before when we overrode the `__str__` method!\n",
    "\n",
    "As we saw previously, each class has a `__name__` variable which stores a string with its name.\n",
    "\n",
    "```python\n",
    "class.__name__ # stores the name of the class\n",
    "```"
   ]
  },
  {
   "cell_type": "code",
   "execution_count": 35,
   "metadata": {},
   "outputs": [
    {
     "name": "stdout",
     "output_type": "stream",
     "text": [
      "A\n",
      "B\n"
     ]
    }
   ],
   "source": [
    "print(A.__name__)\n",
    "print(B.__name__)"
   ]
  },
  {
   "cell_type": "markdown",
   "metadata": {},
   "source": [
    "Each object has a `__class__` variable pointing to its class.\n",
    "```python\n",
    "object.__class__ # the class of the object\n",
    "object.__class__.__name__ # the name of that class\n",
    "```"
   ]
  },
  {
   "cell_type": "code",
   "execution_count": 36,
   "metadata": {},
   "outputs": [
    {
     "name": "stdout",
     "output_type": "stream",
     "text": [
      "<class '__main__.A'>\n",
      "<class '__main__.B'>\n"
     ]
    }
   ],
   "source": [
    "print(a1.__class__)\n",
    "print(b1.__class__)"
   ]
  },
  {
   "cell_type": "markdown",
   "metadata": {},
   "source": [
    "Again, the `__main__` here is the name of the current module. Now we could think of a lot of ways to check if an object is an instance of a certain class."
   ]
  },
  {
   "cell_type": "code",
   "execution_count": 37,
   "metadata": {},
   "outputs": [
    {
     "name": "stdout",
     "output_type": "stream",
     "text": [
      "True\n",
      "True\n",
      "False\n",
      "True\n",
      "True\n"
     ]
    }
   ],
   "source": [
    "print(a1.__class__ == A)\n",
    "print(a1.__class__ is A)\n",
    "print(b1.__class__ is A)\n",
    "print(b1.__class__ is B)\n",
    "print(a1.__class__.__name__ == A.__name__)"
   ]
  },
  {
   "cell_type": "markdown",
   "metadata": {},
   "source": [
    "So, our function is formed as follows."
   ]
  },
  {
   "cell_type": "code",
   "execution_count": 38,
   "metadata": {},
   "outputs": [],
   "source": [
    "def check(ls, cls):\n",
    "    flg = True\n",
    "    for i in ls:\n",
    "        if i.__class__ is not cls:\n",
    "            flg = False\n",
    "    return flg"
   ]
  },
  {
   "cell_type": "markdown",
   "metadata": {},
   "source": [
    "Now lets test it."
   ]
  },
  {
   "cell_type": "code",
   "execution_count": 39,
   "metadata": {},
   "outputs": [
    {
     "name": "stdout",
     "output_type": "stream",
     "text": [
      "True\n",
      "False\n",
      "False\n"
     ]
    }
   ],
   "source": [
    "print(check(ls1, A))\n",
    "print(check(ls1, B))\n",
    "print(check(ls2, B))"
   ]
  },
  {
   "cell_type": "markdown",
   "metadata": {},
   "source": [
    "Remember when we said that everything is an object? \n",
    "\n",
    "Maybe this works on other data types as well."
   ]
  },
  {
   "cell_type": "code",
   "execution_count": 40,
   "metadata": {},
   "outputs": [
    {
     "name": "stdout",
     "output_type": "stream",
     "text": [
      "True\n",
      "True\n",
      "True\n",
      "False\n",
      "True\n",
      "True\n",
      "True\n"
     ]
    }
   ],
   "source": [
    "list_of_lists = [ [], [1,2,3], ['a','b','c'] ]\n",
    "list_of_dicts = [ {}, {'a':1}, {'a':1, 'b':2, 'c':3} ]\n",
    "list_of_tuples = [ (), (1,2,3), ('a', 'b', 'c') ]\n",
    "list_of_strings = [ '', ' ', 'asdf 1234']\n",
    "list_of_ints = [1, 2, 3]\n",
    "list_of_floats = [1.1, 2.0, 8.333]\n",
    "\n",
    "print(check(list_of_lists, list))\n",
    "print(check(list_of_dicts, dict))\n",
    "print(check(list_of_tuples, tuple))\n",
    "print(check(list_of_tuples, list))\n",
    "print(check(list_of_strings, str))\n",
    "print(check(list_of_ints, int))\n",
    "print(check(list_of_floats, float)) "
   ]
  },
  {
   "cell_type": "markdown",
   "metadata": {},
   "source": [
    "An interesting thing here is that the `__class__` variable returns essentially what the `type()` function does."
   ]
  },
  {
   "cell_type": "code",
   "execution_count": 41,
   "metadata": {},
   "outputs": [
    {
     "name": "stdout",
     "output_type": "stream",
     "text": [
      "<class 'str'>\n",
      "<class 'list'>\n"
     ]
    }
   ],
   "source": [
    "print('a'.__class__)\n",
    "print([1,2].__class__)"
   ]
  },
  {
   "cell_type": "markdown",
   "metadata": {},
   "source": [
    "But when we try the same thing on numbers we get a SyntaxError."
   ]
  },
  {
   "cell_type": "code",
   "execution_count": 42,
   "metadata": {},
   "outputs": [
    {
     "ename": "SyntaxError",
     "evalue": "invalid syntax (<ipython-input-42-a864f6e1fd97>, line 1)",
     "output_type": "error",
     "traceback": [
      "\u001b[1;36m  File \u001b[1;32m\"<ipython-input-42-a864f6e1fd97>\"\u001b[1;36m, line \u001b[1;32m1\u001b[0m\n\u001b[1;33m    5.__class__\u001b[0m\n\u001b[1;37m              ^\u001b[0m\n\u001b[1;31mSyntaxError\u001b[0m\u001b[1;31m:\u001b[0m invalid syntax\n"
     ]
    }
   ],
   "source": [
    "5.__class__"
   ]
  },
  {
   "cell_type": "markdown",
   "metadata": {},
   "source": [
    "This is because the dot is used for decimals in numbers.  \n",
    "If it doesn't work on numbers, how did it work before?  \n",
    "Before we didn't reference the number but a variable containing it!"
   ]
  },
  {
   "cell_type": "code",
   "execution_count": 43,
   "metadata": {},
   "outputs": [
    {
     "name": "stdout",
     "output_type": "stream",
     "text": [
      "<class 'int'>\n"
     ]
    }
   ],
   "source": [
    "i = 5\n",
    "print(i.__class__)"
   ]
  },
  {
   "cell_type": "markdown",
   "metadata": {},
   "source": [
    "Python also has a built-in function that helps us determine if an object is an instance of a class.\n",
    "```python\n",
    "isinstance(object, class)\n",
    "```"
   ]
  },
  {
   "cell_type": "code",
   "execution_count": 44,
   "metadata": {},
   "outputs": [
    {
     "name": "stdout",
     "output_type": "stream",
     "text": [
      "True\n",
      "False\n"
     ]
    }
   ],
   "source": [
    "print(isinstance(5, int))\n",
    "print(isinstance(5, float))"
   ]
  },
  {
   "cell_type": "markdown",
   "metadata": {},
   "source": [
    "We could have used this method for the check if we wanted to.\n",
    "This function also allows us to check if an object is an instance of a set of classes.\n",
    "```python\n",
    "isinstance(object, (set_of_classes))\n",
    "```"
   ]
  },
  {
   "cell_type": "code",
   "execution_count": 45,
   "metadata": {},
   "outputs": [
    {
     "name": "stdout",
     "output_type": "stream",
     "text": [
      "True\n",
      "False\n"
     ]
    }
   ],
   "source": [
    "print(isinstance(5, (int, float, complex) ) )\n",
    "print(isinstance('5', (int, float, complex) ) )"
   ]
  },
  {
   "cell_type": "markdown",
   "metadata": {},
   "source": [
    "Finally, we'll present the most pythonic solution to our problem. This involves the python built-in function `all()`.\n",
    "\n",
    "`all()` returns `True` if **all** elements of the iterable are `True`, `False` otherwise.  \n",
    "`any()` returns `True` if **any** of the elements of the iterable are `True`, `False` otherwise."
   ]
  },
  {
   "cell_type": "code",
   "execution_count": 46,
   "metadata": {},
   "outputs": [],
   "source": [
    "def check(ls, cls):\n",
    "    return all(isinstance(i, cls) for i in ls)"
   ]
  },
  {
   "cell_type": "code",
   "execution_count": 47,
   "metadata": {},
   "outputs": [
    {
     "name": "stdout",
     "output_type": "stream",
     "text": [
      "True\n",
      "False\n",
      "True\n"
     ]
    }
   ],
   "source": [
    "print(check([1,2,3], int))\n",
    "print(check([1,2,3], float))\n",
    "# Because of the nature of isinstance we can also use a set of classes\n",
    "print(check([1,2,3], (int,float)))"
   ]
  }
 ],
 "metadata": {
  "kernelspec": {
   "display_name": "Python 3",
   "language": "python",
   "name": "python3"
  },
  "language_info": {
   "codemirror_mode": {
    "name": "ipython",
    "version": 3
   },
   "file_extension": ".py",
   "mimetype": "text/x-python",
   "name": "python",
   "nbconvert_exporter": "python",
   "pygments_lexer": "ipython3",
   "version": "3.6.3"
  }
 },
 "nbformat": 4,
 "nbformat_minor": 1
}
