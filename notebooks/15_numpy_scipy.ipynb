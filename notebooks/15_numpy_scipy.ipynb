{
 "cells": [
  {
   "cell_type": "markdown",
   "metadata": {},
   "source": [
    "# Data Analysis in Python\n",
    "\n",
    "> Data analysis is a process of inspecting, cleaning, transforming, and modeling data with the goal of discovering useful information, suggesting conclusions, and supporting decision-making.\n",
    "\n",
    "Since python has no built-in support for arrays, the main library most data analysis packages are built on is [NumPy](http://www.numpy.org/). This offers the necessary data structures and operations required by most high level libraries. These libraries form a whole ecosystem which makes python one of the most complete languages for data analysis.\n",
    "\n",
    "![](https://image.slidesharecdn.com/introductiontonumpy-130416133754-phpapp02/95/introduction-to-numpy-pydata-sv-2013-5-638.jpg?cb=1367252805)\n",
    "\n",
    "\n",
    "## Numpy\n",
    "\n",
    "> Python by itself doesn't have any built in data types for arrays or matrices. Any direct (matrix multiplication) or indirect (image manipulation) operations that require arrays are done with the numpy package.\n",
    "\n",
    "Numpy is the core library for scientific computing in Python. It provides a high-performance multidimensional array object, and tools for working with these arrays. Numpy is one of the most commonly used and best supported libraries in python and is the basis of all numerical tools in python (most tools that we'll address from now on require it). \n",
    "\n",
    "Numpy is similar to matlab, as it is a fairly low level tool (many packages however - like pandas - feature higher level tools and are built on top of numpy).\n",
    "\n",
    "### Arrays\n",
    "\n",
    "Arrays are the most common data types in data science. A numpy array is a grid of values, all of the **same type**, and is **indexed by a tuple of nonnegative integers**.\n",
    "\n",
    "Contrary to lists, arrays have a fixed size, which needs to be set during the creation of the array. This allows these structures to be much faster and memory-efficient compared to other python data structures.\n",
    "\n",
    "An array has two main attributes:\n",
    "\n",
    "- Its `dtype`, indicating the data type of **all elements** in the array.\n",
    "- Its `shape`, which is a tuple showing the size (or length) of each dimension.\n",
    "\n",
    "In mathematical terms:\n",
    "\n",
    "- A 0D array, i.e. a number, is called a **scalar**.\n",
    "- A 1D array is called a **vector**.\n",
    "- A 2D array is called a **matrix**.\n",
    "- A 3D array is called a **tensor**.\n",
    "\n",
    "#### 1D Arrays\n",
    "\n",
    "A one-dimensional array can be thought of as a list that has a predefined size (i.e. length) and can contain only elements of a single data type. \n",
    "\n",
    "Let's dive right in. We'll first define the following array in numpy:\n",
    "\n",
    "$$ A =\\left( \\begin{array}{ccc}\n",
    "1 & 2 & 3\\end{array} \\right) $$"
   ]
  },
  {
   "cell_type": "code",
   "execution_count": 1,
   "metadata": {},
   "outputs": [],
   "source": [
    "from __future__ import print_function  # for python 2-3 compatibility\n",
    "import numpy as np  # because we use numpy often, its more convenient to refer to it as np\n",
    "\n",
    "A = np.array([1, 2, 3])  # this is how we define and initialize a known array"
   ]
  },
  {
   "cell_type": "markdown",
   "metadata": {},
   "source": [
    "But, what **type** of an object is *A*?"
   ]
  },
  {
   "cell_type": "code",
   "execution_count": 2,
   "metadata": {},
   "outputs": [
    {
     "name": "stdout",
     "output_type": "stream",
     "text": [
      "<class 'numpy.ndarray'>\n"
     ]
    }
   ],
   "source": [
    "print(type(A))"
   ]
  },
  {
   "cell_type": "markdown",
   "metadata": {},
   "source": [
    "`ndarray` stands for **N-dimensional array**. This is a generalized array that can have any number of dimensions and is the numpy's main data structure. We'll see more further down.\n",
    "\n",
    "How can I access a **single element** in *A*?"
   ]
  },
  {
   "cell_type": "code",
   "execution_count": 3,
   "metadata": {},
   "outputs": [
    {
     "name": "stdout",
     "output_type": "stream",
     "text": [
      "1 2 3\n"
     ]
    }
   ],
   "source": [
    "print(A[0], A[1], A[2])"
   ]
  },
  {
   "cell_type": "markdown",
   "metadata": {},
   "source": [
    "Indexing works like it did with lists. As in most data types in python, the indexing in numpy arrays starts from 0.\n",
    "\n",
    "We said before that an array must contain elements of the same type.  \n",
    "\n",
    "What is the **data type of the elements** in *A*?"
   ]
  },
  {
   "cell_type": "code",
   "execution_count": 4,
   "metadata": {},
   "outputs": [
    {
     "name": "stdout",
     "output_type": "stream",
     "text": [
      "<class 'numpy.int32'>\n"
     ]
    }
   ],
   "source": [
    "print(type(A[0]))"
   ]
  },
  {
   "cell_type": "markdown",
   "metadata": {},
   "source": [
    "They're not regular integers, but a custom numpy 32-bit integer data type. We could also see this from a built in array variable."
   ]
  },
  {
   "cell_type": "code",
   "execution_count": 5,
   "metadata": {},
   "outputs": [
    {
     "name": "stdout",
     "output_type": "stream",
     "text": [
      "int32\n"
     ]
    }
   ],
   "source": [
    "print(A.dtype)"
   ]
  },
  {
   "cell_type": "markdown",
   "metadata": {},
   "source": [
    "Numpy supports a lot of different **data types**. Integers and Unsigned Integers (8, 16, 32, 64 bit), float (half - 16, single - 32 and double precision - 64), complex numbers (16, 32 and 64 bit) and others.\n",
    "\n",
    "Now that we got that out of the way, how can we **change an element** in *A*?"
   ]
  },
  {
   "cell_type": "code",
   "execution_count": 6,
   "metadata": {},
   "outputs": [
    {
     "name": "stdout",
     "output_type": "stream",
     "text": [
      "[2 5 7]\n"
     ]
    }
   ],
   "source": [
    "A[0] = 2.9; A[1] = 5; A[2] = 7.1\n",
    "print(A)"
   ]
  },
  {
   "cell_type": "markdown",
   "metadata": {},
   "source": [
    "Note that because `A` is an array of ints, it cast the values we assigned to it as ints (rather than changing its data type to suit the values)\n",
    "\n",
    "Slicing works like lists too."
   ]
  },
  {
   "cell_type": "code",
   "execution_count": 7,
   "metadata": {},
   "outputs": [
    {
     "name": "stdout",
     "output_type": "stream",
     "text": [
      "[2 5]\n",
      "[5 7]\n"
     ]
    }
   ],
   "source": [
    "print(A[:2])   # print the first two elements\n",
    "print(A[-2:])  # print the last two elements"
   ]
  },
  {
   "cell_type": "markdown",
   "metadata": {},
   "source": [
    "#### 2D Arrays\n",
    "\n",
    "Two dimensional arrays are essentially matrices, they are the most common form of arrays we will use. We usually refer to the first dimension as *rows* and the second as *columns*. Dimensions are referred to as **axes** in numpy.\n",
    "\n",
    "Let's create the array:\n",
    "$$ B = \\left( \\begin{array}{ccc}\n",
    "1 & 2 & 3 \\\\\n",
    "4 & 5 & 6 \\end{array} \\right) $$"
   ]
  },
  {
   "cell_type": "code",
   "execution_count": 8,
   "metadata": {},
   "outputs": [
    {
     "name": "stdout",
     "output_type": "stream",
     "text": [
      "[[1 2 3]\n",
      " [4 5 6]]\n"
     ]
    }
   ],
   "source": [
    "B = np.array([[1, 2, 3], [4, 5, 6]])  # we can initialize arrays with known values with a list of lists\n",
    "print(B)"
   ]
  },
  {
   "cell_type": "markdown",
   "metadata": {},
   "source": [
    "The initialization is done through a list for the rows, containing lists of values for the columns.\n",
    "\n",
    "Now say we want to retrieve the bottom right element (i.e. 6). The second row's index is 1 while the third column's index is 2."
   ]
  },
  {
   "cell_type": "code",
   "execution_count": 9,
   "metadata": {},
   "outputs": [
    {
     "name": "stdout",
     "output_type": "stream",
     "text": [
      "6\n"
     ]
    }
   ],
   "source": [
    "print(B[1,2])"
   ]
  },
  {
   "cell_type": "markdown",
   "metadata": {},
   "source": [
    "We just separate the two indices with a comma.\n",
    "\n",
    "Slicing works on each dimension separately."
   ]
  },
  {
   "cell_type": "code",
   "execution_count": 10,
   "metadata": {},
   "outputs": [
    {
     "name": "stdout",
     "output_type": "stream",
     "text": [
      "[4 6]\n"
     ]
    }
   ],
   "source": [
    "print(B[-1, ::2])  # print the last element from the odd columns"
   ]
  },
  {
   "cell_type": "markdown",
   "metadata": {},
   "source": [
    "#### N-D Arrays\n",
    "\n",
    "As N grows larger, these Arrays become increasingly more difficult to visualize and comprehend. However in numpy a 100D array is as complicated as a 3D one. This helps us a lot."
   ]
  },
  {
   "cell_type": "code",
   "execution_count": 11,
   "metadata": {},
   "outputs": [
    {
     "name": "stdout",
     "output_type": "stream",
     "text": [
      "[[[ 0  1  2]\n",
      "  [ 3  4  5]]\n",
      "\n",
      " [[ 6  7  8]\n",
      "  [ 9 10 11]]\n",
      "\n",
      " [[12 13 14]\n",
      "  [15 16 17]]]\n"
     ]
    }
   ],
   "source": [
    "C = np.array([[[0, 1, 2], [3, 4, 5]], [[6, 7, 8], [9, 10, 11]], [[12, 13, 14], [15, 16, 17]]])  # list of list of lists\n",
    "print(C)"
   ]
  },
  {
   "cell_type": "markdown",
   "metadata": {},
   "source": [
    "Indexing an element in an n-dimensional array isn't that hard.\n",
    "\n",
    "Suppose that the:\n",
    "\n",
    "- **i** is the index of the element's 1st dimension (axis=0).\n",
    "- **j** is the index of the element's 2nd dimension (axis=1).\n",
    "- **k** is the index of the element's 3rd dimension (axis=2).\n",
    "- **l** is the index of the element's 4th dimension (axis=3).\n",
    "- **m** is the index of the element's 5th dimension (axis=4).  \n",
    "...\n",
    "\n",
    "The element with the above indices in array `Arr` is:\n",
    "```python\n",
    "element = Arr[i, j, k, l, m, ...]\n",
    "```\n",
    "\n",
    "As an example, the element *13* in array *C*:\n",
    "- **i** is 3.\n",
    "- **j** is 1.\n",
    "- **k** is 2."
   ]
  },
  {
   "cell_type": "code",
   "execution_count": 12,
   "metadata": {},
   "outputs": [
    {
     "name": "stdout",
     "output_type": "stream",
     "text": [
      "13\n"
     ]
    }
   ],
   "source": [
    "print(C[2, 0, 1])"
   ]
  },
  {
   "cell_type": "markdown",
   "metadata": {},
   "source": [
    "#### Slicing \n",
    "\n",
    "Slicing works separately for each axis.\n",
    "\n",
    "If we want the middle sub-array of *C*:\n",
    "$$ slc = \\left( \\begin{array}{ccc}\n",
    "6 & 7 & 8 \\\\\n",
    "9 & 10 & 11 \\end{array} \\right) $$"
   ]
  },
  {
   "cell_type": "code",
   "execution_count": 13,
   "metadata": {},
   "outputs": [
    {
     "name": "stdout",
     "output_type": "stream",
     "text": [
      "[[ 6  7  8]\n",
      " [ 9 10 11]]\n"
     ]
    }
   ],
   "source": [
    "slc = C[1,:,:]  # we want the index 1 of the 1st axis and all the values from the rest\n",
    "# this can also be written as C[1, ...]\n",
    "print(slc)"
   ]
  },
  {
   "cell_type": "markdown",
   "metadata": {},
   "source": [
    "Likewise if we wanted just the right columns of *C*:\n",
    "$$slc = \\left( \\begin{array}{ccc}\n",
    "2  \\\\\n",
    "5  \\\\\n",
    "8  \\\\\n",
    "11  \\\\\n",
    "14  \\\\\n",
    "17  \\end{array} \\right) $$"
   ]
  },
  {
   "cell_type": "code",
   "execution_count": 14,
   "metadata": {},
   "outputs": [
    {
     "name": "stdout",
     "output_type": "stream",
     "text": [
      "[[ 2  5]\n",
      " [ 8 11]\n",
      " [14 17]]\n"
     ]
    }
   ],
   "source": [
    "slc = C[:,:,2]\n",
    "# or equivalently C[..., 2]\n",
    "print(slc)"
   ]
  },
  {
   "cell_type": "markdown",
   "metadata": {},
   "source": [
    "In order to turn `slc` into the format we wanted we must reshape it."
   ]
  },
  {
   "cell_type": "code",
   "execution_count": 15,
   "metadata": {},
   "outputs": [
    {
     "name": "stdout",
     "output_type": "stream",
     "text": [
      "[[ 2]\n",
      " [ 5]\n",
      " [ 8]\n",
      " [11]\n",
      " [14]\n",
      " [17]]\n",
      "(6, 1)\n"
     ]
    }
   ],
   "source": [
    "slc = slc.reshape((slc.size,1))\n",
    "print(slc)\n",
    "print(slc.shape)"
   ]
  },
  {
   "cell_type": "markdown",
   "metadata": {},
   "source": [
    "More on that later though.\n",
    "\n",
    "Lastly, if we want the whole array as a slice:"
   ]
  },
  {
   "cell_type": "code",
   "execution_count": 16,
   "metadata": {},
   "outputs": [
    {
     "name": "stdout",
     "output_type": "stream",
     "text": [
      "[[[ 0  1  2]\n",
      "  [ 3  4  5]]\n",
      "\n",
      " [[ 6  7  8]\n",
      "  [ 9 10 11]]\n",
      "\n",
      " [[12 13 14]\n",
      "  [15 16 17]]]\n",
      "True True True\n"
     ]
    }
   ],
   "source": [
    "slc = C[:]       # slice containing C as a whole\n",
    "slc2 = C[:,:,:]  # same thing\n",
    "slc3 = C[...]    # same\n",
    "print(slc)\n",
    "print(np.array_equal(C, slc), np.array_equal(slc, slc2), np.array_equal(slc2, slc3))\n",
    "# check if C == slc, slc == slc2 and if slc2 == slc3 "
   ]
  },
  {
   "cell_type": "markdown",
   "metadata": {},
   "source": [
    "#### Indexing arbitrary elements\n",
    "\n",
    "By passing a list of indices, we can get a slice of any arbitrary positions we want!"
   ]
  },
  {
   "cell_type": "code",
   "execution_count": 27,
   "metadata": {},
   "outputs": [
    {
     "name": "stdout",
     "output_type": "stream",
     "text": [
      "[2 7]\n"
     ]
    }
   ],
   "source": [
    "print(A[[0, 2]])         # get elements in the positions 0 and 2 of array A\n",
    "print(B[:, [0, 2]])      # get a slice of B with all the rows and columns in the positions 0 and 2\n",
    "print(C[[0, 2], 0, :2])  # etc..."
   ]
  },
  {
   "cell_type": "markdown",
   "metadata": {},
   "source": [
    "### Built-in Functions\n",
    "\n",
    "There are also a lot of built-in functions in numpy arrays. The most important ones are the following\n",
    "\n",
    "#### Array Information: \n",
    "\n",
    "- `A.dtype` returns the type of the elements in *A*.\n",
    "- `A.shape` returns the shape of *A*, i.e. a tuple containing the size of its dimensions.\n",
    "- `A.ndim` returns the rank of *A*, i.e. the number of its dimensions.\n",
    "- `A.size` returns the number of elements in *A*, i.e. the product of the values in `A.shape`.\n",
    "- `A.nbytes` returns the total bytes consumed by the elements of the array, i.e. (bytes in `A.dtype`) `* A.size / 8` .\n",
    "\n",
    "#### Array Conversions:\n",
    "\n",
    "- `A.tolist()` returns the array as a (possibly nested) list.\n",
    "- `A.tofile()` writes *A* to a file as text or binary (default).\n",
    "- `A.dump(file)` dumps a pickle of *A* to the specified *file*.\n",
    "- `A.astype(dtype)` returns the copy of the array, cast to a specified type.\n",
    "- `A.copy()` returns a copy of the *A*.\n",
    "\n",
    "#### Shape Manipulation:\n",
    "\n",
    "- `A.traspose` or `A.T` returns transposed *A*.\n",
    "- `A.reshape(shape)` changes the shape of *A* to *shape*.\n",
    "- `A.swapaxes(axis1, axis2)` returns a view of the array with axis1 and axis2 interchanged.\n",
    "- `A.flatten()` returns a copy of the array collapsed into one dimension.\n",
    "- `A.repeat(n)` repeats elements of an array *n* times. e.g. $ A =\\left( \\begin{array}{ccc}\n",
    "1 & 2 & 3\\end{array} \\right) $ for $n=2$ becomes $ A =\\left( \\begin{array}{ccc}\n",
    "1 & 1 & 2 & 2 & 3 & 3\\end{array} \\right) $\n",
    "\n",
    "#### Item Manipulation:\n",
    "\n",
    "- `A.sort()` sorts *A*, in-place.\n",
    "- `A.argsort()` returns the indices that would sort *A*.\n",
    "- `A.nonzero()`\treturns the indices of the elements that are non-zero.\n",
    "\n",
    "#### Calculations:\n",
    "\n",
    "- `A.max()` returns the largest element in *A*.\n",
    "- `A.min()` returns the smallest element in *A*.\n",
    "- `A.sum()` returns the sum of the elements in *A*.\n",
    "- `A.mean()` returns the mean of the elements in *A*.\n",
    "- `A.var()` returns the variation of the elements in *A*.\n",
    "- `A.std()` returns the standard deviation of the elements in *A*.\n",
    "- `A.prod()` returns the product of the elements in *A*.\n",
    "- `A.all()` returns True if all elements in *A* are True.\n",
    "- `A.any()` returns True if any of the elements in *A* are True."
   ]
  },
  {
   "cell_type": "code",
   "execution_count": 17,
   "metadata": {},
   "outputs": [
    {
     "name": "stdout",
     "output_type": "stream",
     "text": [
      "There are 18 elements in C.\n",
      "The shape of C is (3, 2, 3)\n",
      "The rank of C is 3\n",
      "\n",
      "\n",
      "Original Array:\n",
      " [[[ 0  1  2]\n",
      "  [ 3  4  5]]\n",
      "\n",
      " [[ 6  7  8]\n",
      "  [ 9 10 11]]\n",
      "\n",
      " [[12 13 14]\n",
      "  [15 16 17]]]\n",
      "\n",
      "\n",
      "List equivalent:\n",
      " [[[0, 1, 2], [3, 4, 5]], [[6, 7, 8], [9, 10, 11]], [[12, 13, 14], [15, 16, 17]]]\n",
      "\n",
      "\n",
      "Transposed:\n",
      " [[[ 0  6 12]\n",
      "  [ 3  9 15]]\n",
      "\n",
      " [[ 1  7 13]\n",
      "  [ 4 10 16]]\n",
      "\n",
      " [[ 2  8 14]\n",
      "  [ 5 11 17]]]\n",
      "\n",
      "\n",
      "max = 17\n",
      "min = 0\n",
      "sum = 153\n",
      "mean = 8.5\n",
      "sum / size =  8.5\n"
     ]
    }
   ],
   "source": [
    "print('There are', C.size, 'elements in C.')\n",
    "print('The shape of C is', C.shape)\n",
    "print('The rank of C is', C.ndim)\n",
    "print('\\n')\n",
    "\n",
    "print('Original Array:\\n', C)\n",
    "print('\\n')\n",
    "print('List equivalent:\\n', C.tolist())\n",
    "print('\\n')\n",
    "\n",
    "print('Transposed:\\n', C.T)\n",
    "print('\\n')\n",
    "\n",
    "print('max =', C.max())\n",
    "print('min =', C.min())\n",
    "print('sum =', C.sum())\n",
    "print('mean =', C.mean())\n",
    "print('sum / size = ', C.sum() / float(C.size))"
   ]
  },
  {
   "cell_type": "markdown",
   "metadata": {},
   "source": [
    "### Array Creation\n",
    "\n",
    "There are a lot of ways to create arrays. The basic way we saw up till now (which creates and populates the array) serves only for small arrays. What we tend to do in practice, is to create an array, either empty or containing placeholder values. Then we populate that array through iteration."
   ]
  },
  {
   "cell_type": "code",
   "execution_count": 18,
   "metadata": {},
   "outputs": [
    {
     "name": "stdout",
     "output_type": "stream",
     "text": [
      "[[2.1227920e-13 5.9975574e-43 5.4333205e-11]\n",
      " [5.9975574e-43 0.0000000e+00 0.0000000e+00]\n",
      " [0.0000000e+00 0.0000000e+00 0.0000000e+00]\n",
      " [0.0000000e+00 0.0000000e+00 0.0000000e+00]\n",
      " [0.0000000e+00 0.0000000e+00 0.0000000e+00]\n",
      " [0.0000000e+00 0.0000000e+00 0.0000000e+00]\n",
      " [0.0000000e+00 0.0000000e+00 0.0000000e+00]\n",
      " [0.0000000e+00 0.0000000e+00 0.0000000e+00]\n",
      " [0.0000000e+00 0.0000000e+00 0.0000000e+00]\n",
      " [0.0000000e+00 0.0000000e+00 0.0000000e+00]]\n"
     ]
    }
   ],
   "source": [
    "shp = (256, 256, 3)           # The shape we want our array to have\n",
    "E = np.empty(shp, dtype='f')  # We create an empty array with the predefined shape and data type\n",
    "print(E[0,:10,:])             # let's print a small slice of E"
   ]
  },
  {
   "cell_type": "markdown",
   "metadata": {},
   "source": [
    "So, `E` is essentially initialized with random values. Other options include:"
   ]
  },
  {
   "cell_type": "code",
   "execution_count": 19,
   "metadata": {},
   "outputs": [
    {
     "name": "stdout",
     "output_type": "stream",
     "text": [
      "[[0.65064177 0.95017194 0.45061587]\n",
      " [0.70643226 0.30573079 0.84369375]\n",
      " [0.1148261  0.67839778 0.23793187]]\n",
      "\n",
      "\n",
      "[[0. 0. 0.]\n",
      " [0. 0. 0.]\n",
      " [0. 0. 0.]]\n",
      "\n",
      "\n",
      "[[1. 1. 1.]\n",
      " [1. 1. 1.]\n",
      " [1. 1. 1.]]\n",
      "\n",
      "\n",
      "[[7. 7. 7.]\n",
      " [7. 7. 7.]\n",
      " [7. 7. 7.]]\n",
      "\n",
      "\n",
      "[[0. 1. 2.]\n",
      " [3. 4. 5.]\n",
      " [6. 7. 8.]]\n"
     ]
    }
   ],
   "source": [
    "E = np.random.random(shp)  # array containing random values in [0,1)\n",
    "print(E[0,:3,:])\n",
    "print('\\n')\n",
    "E = np.zeros(shp, dtype='f')  # array containing zeros\n",
    "print(E[0,:3,:])\n",
    "print('\\n')\n",
    "E = np.ones(shp, dtype='f')  # array containing ones\n",
    "print(E[0,:3,:])\n",
    "print('\\n')\n",
    "E = np.full(shp, 7, dtype='f')  # array containing sevens\n",
    "print(E[0,:3,:])\n",
    "print('\\n')\n",
    "E = np.arange(np.prod(shp), dtype='f').reshape(shp)  # array with values from range(size)\n",
    "# The above line consists of three commands:\n",
    "# the first one, np.prod(shp), returns the product of the values in shp, i.e. 3*2*3 = 18.\n",
    "# the second one, np.arrange(18), creates a 1D array containing elements from range(18), i.e. C = [0, 1, 2, ... 17].\n",
    "# the last one, E.reshape(shp), changes E's shape to shp.\n",
    "print(E[0,:3,:])"
   ]
  },
  {
   "cell_type": "markdown",
   "metadata": {},
   "source": [
    "Once we have an array of the shape and dtype of our choice, we can populate it with the values that we want."
   ]
  },
  {
   "cell_type": "code",
   "execution_count": 20,
   "metadata": {},
   "outputs": [
    {
     "name": "stdout",
     "output_type": "stream",
     "text": [
      "[ 0.0000000e+00  1.2246469e-16 -2.4492937e-16  3.6739403e-16\n",
      " -4.8985874e-16  6.1232340e-16 -7.3478806e-16  8.5725277e-16\n",
      " -9.7971748e-16  1.1021821e-15]\n"
     ]
    }
   ],
   "source": [
    "import math\n",
    "\n",
    "for i in range(E.shape[0]):\n",
    "    for j in range(E.shape[1]):\n",
    "        for k in range(E.shape[2]):\n",
    "            E[i,j,k] = math.sin(i*math.pi)\n",
    "            \n",
    "print(E[:10, 1, 2])"
   ]
  },
  {
   "cell_type": "markdown",
   "metadata": {},
   "source": [
    "### Array operations\n",
    "\n",
    "By default, most operations performed on numpy arrays are elementwise.\n",
    "\n",
    "$$\n",
    "Arr1 = \\left( \\begin{array}{ccc}\n",
    "1 & 2 & 3 \\\\\n",
    "4 & 5 & 6 \\\\\n",
    "7 & 8 & 9 \\end{array} \\right), \\:\n",
    "Arr2 = \\left( \\begin{array}{ccc}\n",
    "11 & 12 & 13 \\\\\n",
    "14 & 15 & 16 \\\\\n",
    "17 & 18 & 19 \\end{array} \\right)\n",
    "$$\n",
    "\n",
    "For example in numpy the product of these two arrays is:\n",
    "\n",
    "$$\n",
    "Arr1 \\cdot Arr2 =\n",
    "\\left( \\begin{array}{ccc}\n",
    "11 & 24 & 39 \\\\\n",
    "56 & 75 & 96 \\\\\n",
    "119 & 144 & 171 \\end{array} \\right)\n",
    "$$\n",
    "\n",
    "#### Elementwise operations"
   ]
  },
  {
   "cell_type": "code",
   "execution_count": 21,
   "metadata": {},
   "outputs": [
    {
     "name": "stdout",
     "output_type": "stream",
     "text": [
      "A =                [2 5 7]\n",
      "A + 1 =            [3 6 8]\n",
      "A ** 2 =           [ 4 25 49]\n",
      "O =                [0 1 2]\n",
      "A + O =            [2 6 9]\n",
      "A * O =            [ 0  5 14]\n",
      "2 ** (O + 1) - A = [ 0 -1  1]\n"
     ]
    }
   ],
   "source": [
    "print('A =               ', A)\n",
    "print('A + 1 =           ', A + 1)\n",
    "print('A ** 2 =          ', A ** 2)\n",
    "O = np.arange((3))\n",
    "print('O =               ', O)\n",
    "print('A + O =           ', A + O)\n",
    "print('A * O =           ', A * O)\n",
    "print('2 ** (O + 1) - A =', 2 ** (O + 1) - A)"
   ]
  },
  {
   "cell_type": "markdown",
   "metadata": {},
   "source": [
    "These are also equivalent to.\n",
    "\n",
    "```python\n",
    "np.add(A, O)\n",
    "np.subtract(A, O)\n",
    "np.multiply(A, O)\n",
    "np.divide(A, O)\n",
    "np.exp(A)\n",
    "np.sqrt(A)\n",
    "```\n",
    "\n",
    "Note that `A * O` is **not** matrix multiplication! It is an **elementwise multiplication**.\n",
    "\n",
    "#### Vecotr/Matrix operations"
   ]
  },
  {
   "cell_type": "code",
   "execution_count": 22,
   "metadata": {},
   "outputs": [
    {
     "name": "stdout",
     "output_type": "stream",
     "text": [
      "matrix mul: A * O =  19\n",
      "same as:  19\n",
      "outer product: A x O\n",
      " [[ 0  2  4]\n",
      " [ 0  5 10]\n",
      " [ 0  7 14]]\n"
     ]
    }
   ],
   "source": [
    "print('matrix mul: A * O = ', np.dot(A, O))\n",
    "print('same as: ', A.dot(O))\n",
    "print('outer product: A x O\\n', np.outer(A,O))"
   ]
  },
  {
   "cell_type": "markdown",
   "metadata": {},
   "source": [
    "#### Broadcasting\n",
    "\n",
    "Some elementwise operations are not defined mathematically. For this reason, numpy uses a technique called broadcasting. What this does is it repeats the element that has less axes to match the other. This is illustrated in the image below.\n",
    "\n",
    "![](http://www.scipy-lectures.org/_images/numpy_broadcasting.png)\n",
    "\n",
    "Note, the dimensions must be compatible for broadcasting to work (the dimension being repeated needs to be divisible by the dimension it is going to match.\n",
    "\n",
    "```python\n",
    "x  # array with shape (6, 2)\n",
    "y  # array with shape (6, 3)\n",
    "z  # array with shape (6, 8)\n",
    "\n",
    "x + y  # error\n",
    "y + z  # error\n",
    "x + z  # array with shape (6, 8)\n",
    "```\n",
    "\n",
    "### Exercise 1: Try to confirm the above image in numpy\n",
    "\n",
    "### Solution:"
   ]
  },
  {
   "cell_type": "code",
   "execution_count": 23,
   "metadata": {},
   "outputs": [
    {
     "name": "stdout",
     "output_type": "stream",
     "text": [
      "[[ 0  0  0]\n",
      " [10 10 10]\n",
      " [20 20 20]\n",
      " [30 30 30]] \n",
      " + \n",
      " [[0 1 2]\n",
      " [0 1 2]\n",
      " [0 1 2]\n",
      " [0 1 2]] \n",
      " = \n",
      " [[ 0  1  2]\n",
      " [10 11 12]\n",
      " [20 21 22]\n",
      " [30 31 32]]\n"
     ]
    }
   ],
   "source": [
    "A = np.array([[0], [10], [20], [30]]).repeat(3, axis=1)\n",
    "# Creates a column array with 4 values and repeats 3 times it along the horizontal axis.\n",
    "B = np.array([[0, 1, 2],]).repeat(4, axis=0)\n",
    "# Creates an array with 3 values and repeats 4 times it along the vertical axis.\n",
    "print('{} \\n + \\n {} \\n = \\n {}'.format(A, B, A+B))"
   ]
  },
  {
   "cell_type": "code",
   "execution_count": 24,
   "metadata": {},
   "outputs": [
    {
     "name": "stdout",
     "output_type": "stream",
     "text": [
      "[[ 0  0  0]\n",
      " [10 10 10]\n",
      " [20 20 20]\n",
      " [30 30 30]] \n",
      " + \n",
      " [0 1 2] \n",
      " = \n",
      " [[ 0  1  2]\n",
      " [10 11 12]\n",
      " [20 21 22]\n",
      " [30 31 32]]\n"
     ]
    }
   ],
   "source": [
    "B = np.array([0, 1, 2])\n",
    "print('{} \\n + \\n {} \\n = \\n {}'.format(A, B, A+B))      "
   ]
  },
  {
   "cell_type": "code",
   "execution_count": 25,
   "metadata": {},
   "outputs": [
    {
     "name": "stdout",
     "output_type": "stream",
     "text": [
      "[[ 0]\n",
      " [10]\n",
      " [20]\n",
      " [30]] \n",
      " + \n",
      " [0 1 2] \n",
      " = \n",
      " [[ 0  1  2]\n",
      " [10 11 12]\n",
      " [20 21 22]\n",
      " [30 31 32]]\n"
     ]
    }
   ],
   "source": [
    "A = np.array([[0], [10], [20], [30]])\n",
    "print('{} \\n + \\n {} \\n = \\n {}'.format(A, B, A+B))      "
   ]
  },
  {
   "cell_type": "markdown",
   "metadata": {},
   "source": [
    "#### Logical Operations\n",
    "\n",
    "An array can also contain boolean values in it. Logical operations are operations between two such arrays."
   ]
  },
  {
   "cell_type": "code",
   "execution_count": 26,
   "metadata": {},
   "outputs": [
    {
     "name": "stdout",
     "output_type": "stream",
     "text": [
      "[ True  True  True False]\n",
      "[ True False False False]\n"
     ]
    }
   ],
   "source": [
    "a = np.array([True, True, False, False])\n",
    "b = np.array([True, False, True, False])\n",
    "print(np.logical_or(a, b))\n",
    "print(np.logical_and(a, b))"
   ]
  },
  {
   "cell_type": "markdown",
   "metadata": {},
   "source": [
    "We can also compare the two arrays with all known logical operators. Like all `numpy` operators, they perform their operations elementwise."
   ]
  },
  {
   "cell_type": "code",
   "execution_count": 27,
   "metadata": {},
   "outputs": [
    {
     "name": "stdout",
     "output_type": "stream",
     "text": [
      "[False  True False False]\n",
      "[ True False False  True]\n",
      "[False  True  True False]\n"
     ]
    }
   ],
   "source": [
    "print(a > b)  # True if the element of a is larger than the corresponding element of b \n",
    "print(a == b)\n",
    "print(a != b)"
   ]
  },
  {
   "cell_type": "markdown",
   "metadata": {},
   "source": [
    "**Tip:** You can use `np.all()` or `np.any()` for comparing arrays as a whole (python's built-in `all()`, `any()` functions may not work properly with arrays).\n",
    "\n",
    "#### Transcendental Functions\n",
    "\n",
    "These compute the `math` package functions to all the elements of an array."
   ]
  },
  {
   "cell_type": "code",
   "execution_count": 28,
   "metadata": {},
   "outputs": [
    {
     "name": "stdout",
     "output_type": "stream",
     "text": [
      "[-0.84147098  0.          0.84147098  0.90929743  0.14112001]\n",
      "[       nan       -inf 0.         0.69314718 1.09861229]\n",
      "[ 0.36787944  1.          2.71828183  7.3890561  20.08553692]\n"
     ]
    },
    {
     "name": "stderr",
     "output_type": "stream",
     "text": [
      "c:\\users\\thano\\appdata\\local\\programs\\python\\python36\\lib\\site-packages\\ipykernel_launcher.py:4: RuntimeWarning: divide by zero encountered in log\n",
      "  after removing the cwd from sys.path.\n",
      "c:\\users\\thano\\appdata\\local\\programs\\python\\python36\\lib\\site-packages\\ipykernel_launcher.py:4: RuntimeWarning: invalid value encountered in log\n",
      "  after removing the cwd from sys.path.\n"
     ]
    }
   ],
   "source": [
    "a = np.arange(-1, 4)\n",
    "\n",
    "print(np.sin(a))\n",
    "print(np.log(a))\n",
    "print(np.exp(a))"
   ]
  },
  {
   "cell_type": "markdown",
   "metadata": {},
   "source": [
    "One interesting thing to note is how numpy handles non existing values. In the previous example we introduced two operations that are normally not defined in computational software ($log(-1) = nan, \\; log(0) = -\\infty$). Numpy throws a runtime warning (**not an error**) each time it encounters such an operation and performs all operation it can. Numpy can also differentiate between operations yielding `nan` (i.e. *not a number*) and infinite.\n",
    "\n",
    "We can ignore the warnings if we wish to perform such operations and we are aware of their outcome, though this is **not suggested**."
   ]
  },
  {
   "cell_type": "code",
   "execution_count": 29,
   "metadata": {},
   "outputs": [
    {
     "name": "stdout",
     "output_type": "stream",
     "text": [
      "nan\n",
      "<class 'numpy.float64'>\n",
      "-inf\n",
      "<class 'numpy.float64'>\n"
     ]
    }
   ],
   "source": [
    "import warnings\n",
    "warnings.filterwarnings(\"ignore\")\n",
    "\n",
    "print(np.log(-1))\n",
    "print(type(np.log(-1)))\n",
    "print(np.log(0))\n",
    "print(type(np.log(0)))"
   ]
  },
  {
   "cell_type": "markdown",
   "metadata": {},
   "source": [
    "The existance of `nan` values might create a probems during operations."
   ]
  },
  {
   "cell_type": "code",
   "execution_count": 38,
   "metadata": {},
   "outputs": [
    {
     "data": {
      "text/plain": [
       "nan"
      ]
     },
     "execution_count": 38,
     "metadata": {},
     "output_type": "execute_result"
    }
   ],
   "source": [
    "nan_array = np.array([1, 2, np.nan, 4, 5])\n",
    "nan_array.sum()"
   ]
  },
  {
   "cell_type": "markdown",
   "metadata": {},
   "source": [
    "Here, numpy won't perform the summation because one of its values is `nan`. Numpy offers a series of functions that simply ignore `nan` values. "
   ]
  },
  {
   "cell_type": "code",
   "execution_count": 39,
   "metadata": {},
   "outputs": [
    {
     "data": {
      "text/plain": [
       "12.0"
      ]
     },
     "execution_count": 39,
     "metadata": {},
     "output_type": "execute_result"
    }
   ],
   "source": [
    "np.nansum(nan_array)"
   ]
  },
  {
   "cell_type": "markdown",
   "metadata": {},
   "source": [
    "### Filtering\n",
    "\n",
    "Logical operations provide a convenient way to *filter* arrays. \n",
    "\n",
    "Performing such an operation returns an array with the same shape as the original that just contains `True` and `False` values."
   ]
  },
  {
   "cell_type": "code",
   "execution_count": 33,
   "metadata": {},
   "outputs": [
    {
     "data": {
      "text/plain": [
       "array([[[ True, False,  True],\n",
       "        [False,  True, False]],\n",
       "\n",
       "       [[ True, False,  True],\n",
       "        [False,  True, False]],\n",
       "\n",
       "       [[ True, False,  True],\n",
       "        [False,  True, False]]])"
      ]
     },
     "execution_count": 33,
     "metadata": {},
     "output_type": "execute_result"
    }
   ],
   "source": [
    "condition = C % 2 == 0  # condition checks if an element is even or not\n",
    "condition"
   ]
  },
  {
   "cell_type": "markdown",
   "metadata": {},
   "source": [
    "By indexing the original array by the result of the logical operation, numpy will the elements of the original that correspond to `True` values. This is also known as **boolean indexing**."
   ]
  },
  {
   "cell_type": "code",
   "execution_count": 35,
   "metadata": {},
   "outputs": [
    {
     "data": {
      "text/plain": [
       "array([ 0,  2,  4,  6,  8, 10, 12, 14, 16])"
      ]
     },
     "execution_count": 35,
     "metadata": {},
     "output_type": "execute_result"
    }
   ],
   "source": [
    "C[condition]  # filters out the elements with False values (i.e. the odd ones)"
   ]
  },
  {
   "cell_type": "markdown",
   "metadata": {},
   "source": [
    "### Array concatenation\n",
    "\n",
    "Another important operation is concatenating (or merging numpy arrays). Suppose we have the following two arrays:\n",
    "\n",
    "$$\n",
    "Arr1 = \\left( \\begin{array}{ccc}\n",
    "1 & 2 & 3 \\\\\n",
    "4 & 5 & 6 \\\\\n",
    "7 & 8 & 9 \\end{array} \\right), \\:\n",
    "Arr2 = \\left( \\begin{array}{ccc}\n",
    "11 & 12 & 13 \\\\\n",
    "14 & 15 & 16 \\\\\n",
    "17 & 18 & 19 \\end{array} \\right)\n",
    "$$\n",
    "\n",
    "These arrays are 3-dimensional, so there are three ways of joining them:\n",
    "\n",
    "- along the first axis (i.e. the rows):\n",
    "\n",
    "$$\n",
    "concat1 = \\left( \\begin{array}{ccc}\n",
    "1 & 2 & 3 \\\\\n",
    "4 & 5 & 6 \\\\\n",
    "7 & 8 & 9 \\\\\n",
    "11 & 12 & 13 \\\\\n",
    "14 & 15 & 16 \\\\\n",
    "17 & 18 & 19 \\end{array} \\right)\n",
    "$$\n",
    "\n",
    "For this concatenation to work, the arrays should have the same number of columns.\n",
    "\n",
    "- along the second axis (i.e. the columns):\n",
    "\n",
    "$$\n",
    "concat2 = \\left( \\begin{array}{ccc}\n",
    "1 & 2 & 3 & 11 & 12 & 13\\\\\n",
    "4 & 5 & 6 & 14 & 15 & 16\\\\\n",
    "7 & 8 & 9 & 17 & 18 & 19\\\\ \\end{array} \\right)\n",
    "$$\n",
    "\n",
    "For this concatenation to work, the arrays should have the same number of rows.\n",
    "\n",
    "- along a new axis:\n",
    "\n",
    "This would yield a 3-dimensional array. The first two dimensions should have the same shape as the first two dimensions of the arrays we want to concatenate. The arrays should have the same number of rows and columns. The third dimension will differentiate between the input arrays."
   ]
  },
  {
   "cell_type": "code",
   "execution_count": 30,
   "metadata": {},
   "outputs": [
    {
     "name": "stdout",
     "output_type": "stream",
     "text": [
      "Along first axis:\n",
      "[[ 1  2  3]\n",
      " [ 4  5  6]\n",
      " [ 7  8  9]\n",
      " [11 12 13]\n",
      " [14 15 16]\n",
      " [17 18 19]]\n",
      "(6, 3)\n",
      "(6, 3)\n",
      "\n",
      "Along second axis:\n",
      "[[ 1  2  3 11 12 13]\n",
      " [ 4  5  6 14 15 16]\n",
      " [ 7  8  9 17 18 19]]\n",
      "(3, 6)\n",
      "(3, 6)\n",
      "\n",
      "Along new axis:\n",
      "[[[ 1 11]\n",
      "  [ 2 12]\n",
      "  [ 3 13]]\n",
      "\n",
      " [[ 4 14]\n",
      "  [ 5 15]\n",
      "  [ 6 16]]\n",
      "\n",
      " [[ 7 17]\n",
      "  [ 8 18]\n",
      "  [ 9 19]]]\n",
      "(3, 3, 2)\n"
     ]
    }
   ],
   "source": [
    "Arr1 = np.arange(1,10).reshape((3,3))\n",
    "Arr2 = np.arange(11,20).reshape((3,3))\n",
    "\n",
    "print('Along first axis:')\n",
    "concat1 = np.concatenate([Arr1, Arr2], axis=0)\n",
    "print(concat1)\n",
    "print(concat1.shape)\n",
    "\n",
    "concat1 = np.vstack([Arr1, Arr2])  # alternative (vertical stack)\n",
    "print(concat1.shape)\n",
    "\n",
    "print('\\nAlong second axis:')\n",
    "concat2 = np.concatenate([Arr1, Arr2], axis=1)\n",
    "print(concat2)\n",
    "print(concat2.shape)\n",
    "\n",
    "concat1 = np.hstack([Arr1, Arr2])  # alternative (horizontal stack)\n",
    "print(concat2.shape)\n",
    "\n",
    "print('\\nAlong new axis:')\n",
    "concat3 = np.stack([Arr1, Arr2], axis=2)\n",
    "# Stack will always concatenate the arrays on a new axis. The argument allow us to select where to place that axis.\n",
    "print(concat3)\n",
    "print(concat3.shape)"
   ]
  },
  {
   "cell_type": "markdown",
   "metadata": {},
   "source": [
    "### Matrices\n",
    "\n",
    "Returns a matrix from an array-like object, or from a string of data. A matrix is a specialized 2-D array that retains its 2-D nature through operations.\n",
    "\n",
    "Generally, it is preferable to use arrays instead of matrices. The only advantage matrices have, is that operators such as \\* and \\*\\* are used for matrix multiplication and matrix power.\n",
    "\n",
    "However, it is almost always recommended to use arrays instead of matrices! "
   ]
  },
  {
   "cell_type": "code",
   "execution_count": 31,
   "metadata": {},
   "outputs": [
    {
     "name": "stdout",
     "output_type": "stream",
     "text": [
      "[[ 70 100]\n",
      " [150 220]]\n"
     ]
    }
   ],
   "source": [
    "mat1 = np.matrix('1 2; 3 4')  # matrices can be created with a matlab-like syntax\n",
    "mat2 = np.matrix([[10, 20], [30, 40]])\n",
    "\n",
    "print(mat1 * mat2)  # matrix multiplication"
   ]
  },
  {
   "cell_type": "markdown",
   "metadata": {},
   "source": [
    "### Input/Output operations\n",
    "\n",
    "The easiest way of saving/loading numpy arrays is through the built-in functions `np.save` and `np.load`. The default format is a binary NumPy `.npy` format using python pickles."
   ]
  },
  {
   "cell_type": "code",
   "execution_count": 32,
   "metadata": {},
   "outputs": [
    {
     "name": "stdout",
     "output_type": "stream",
     "text": [
      "[0 1 2]\n",
      "original data type: int32 \n",
      "loaded data type: int32\n"
     ]
    }
   ],
   "source": [
    "np.save('my_array.npy', B)  # store array B into a file named 'my_array.npy'\n",
    "B_loaded = np.load('my_array.npy')  # loads array 'my_array.npy' into variable B_loaded\n",
    "print(B_loaded)\n",
    "print('original data type:', B.dtype, '\\nloaded data type:', B_loaded.dtype)"
   ]
  },
  {
   "cell_type": "markdown",
   "metadata": {},
   "source": [
    "#### CSV\n",
    "\n",
    "While binary `.npy` files might be more memory efficient and faster for saving/loading, they have two major drawbacks. They can't be read by other programs (matlab, R, etc.) and they aren't **human readable**. The most common way of storing data in arrays in the so-called CSV format. CSV stands for *comma-separated values*. This means we store the array in a text file. The values in the columns are separated with *commas*, while rows are separated with *new lines*. \n",
    "\n",
    "For example:\n",
    "$$ B = \\left( \\begin{array}{ccc}\n",
    "1 & 2 & 3 \\\\\n",
    "4 & 5 & 6 \\end{array} \\right) $$\n",
    "Is stored as:\n",
    "```\n",
    "1,2,3\n",
    "4,5,6\n",
    "```\n",
    "To store arrays as csv files we can use `np.savetxt` and `np.loadtxt`."
   ]
  },
  {
   "cell_type": "code",
   "execution_count": 33,
   "metadata": {},
   "outputs": [
    {
     "name": "stdout",
     "output_type": "stream",
     "text": [
      "[0. 1. 2.]\n",
      "original data type: int32 \n",
      "loaded data type: float64\n"
     ]
    }
   ],
   "source": [
    "np.savetxt('my_array.csv', B, delimiter=',')  # default delimiter is a single space\n",
    "B_loaded = np.loadtxt('my_array.csv', delimiter=',')  # since we didn't use de default delimiter we must specify it when loading\n",
    "print(B_loaded)\n",
    "print('original data type:', B.dtype, '\\nloaded data type:', B_loaded.dtype)"
   ]
  },
  {
   "cell_type": "markdown",
   "metadata": {},
   "source": [
    "Note that CSVs don't store any extra information about the array other than its values. This is why when we stored and loaded the array the data type changed to the numpy's default `float64`. On the other hand, when saving as a binary file, this extra information is preserved.\n",
    "\n",
    "Generally speaking, binary formats are more efficient (faster i/o, less memory) but text formats are more universal (e.g. can be loaded into any program).\n",
    "\n",
    "## SciPy\n",
    "\n",
    "> SciPy is a python library used for high-level scientific computations. Many scipy functions are built on top of numpy.\n",
    "\n",
    "### Input/Output Operations - compatibility with matlab\n",
    "\n",
    "Saving and loading matlab files:\n",
    "```python\n",
    "A = np.matrix(...)\n",
    "B = np.matrix(...)\n",
    "scipy.io.savemat('name.mat', {'A': A})  # saves matlab files\n",
    "scipy.io.savemat('name.mat', {'B': B})  # expects a dictionary\n",
    "data = scipy.io.loadmat('name', struct_as_record=True)\n",
    "A = data['A']\n",
    "B = data['B']\n",
    "```\n",
    "\n",
    "### Linear Algebra Operations"
   ]
  },
  {
   "cell_type": "code",
   "execution_count": 34,
   "metadata": {},
   "outputs": [
    {
     "name": "stdout",
     "output_type": "stream",
     "text": [
      "Determinant: -2.0\n",
      "Inverse: \n",
      " [[-2.   1. ]\n",
      " [ 1.5 -0.5]]\n"
     ]
    }
   ],
   "source": [
    "A = np.array([[1, 2], [3, 4]])\n",
    "\n",
    "from scipy import linalg\n",
    "print('Determinant:', linalg.det(A))\n",
    "# returns the determinant of a square matrix\n",
    "\n",
    "print('Inverse: \\n', linalg.inv(A))\n",
    "# returns the inverse of a matrix\n",
    "\n",
    "w, v = linalg.eig(A)\n",
    "# eigenvalues and eigenvectors\n",
    "\n",
    "U, S, V = linalg.svd(A)\n",
    "# singular value decomposition"
   ]
  },
  {
   "cell_type": "markdown",
   "metadata": {},
   "source": [
    "### Sparse Matrices\n",
    "\n",
    "When having sparse data, there is a huge waste of space if we use numpy matrices.\n",
    "\n",
    "Why? Let's see an example."
   ]
  },
  {
   "cell_type": "code",
   "execution_count": 35,
   "metadata": {},
   "outputs": [
    {
     "name": "stdout",
     "output_type": "stream",
     "text": [
      "800000000\n"
     ]
    }
   ],
   "source": [
    "S = np.zeros((10000, 10000), dtype='float64')\n",
    "# We first create a matrix of zeros\n",
    "S[1234, 5678] = 0.34556678\n",
    "S[6547, 7458] = 0.87584656\n",
    "S[2846, 6944] = 0.87454111\n",
    "S[3741, 1244] = 0.78654588\n",
    "# Then we enter 4 values we wanted\n",
    "print(S.nbytes)"
   ]
  },
  {
   "cell_type": "markdown",
   "metadata": {},
   "source": [
    "We're using up 800,000,000 bytes of memory, or 762MB just to store 4 numbers! Why is this?\n",
    "\n",
    "NumPy consumes: `(10000 x 10000) elements x 64 bits / 8 bits-per-byte = 762MB ` of memory for the array regardless of whether or not they actually contain values or not!\n",
    "\n",
    "What if we had a matrix with a size of `(100000 x 100000)` ? This is where we require sparse matrices. Sparse matrices store just a list of the elements that aren't empty. There are a few different sparse matrix formats, each with its pros and cons. Most common are:\n",
    "\n",
    "- **List of Lists** (LIL). Stores two lists: One containing lists of the column indices for each row and one containing lists of their corresponding values. Efficient modification of single elements but slow arithmetic operations.\n",
    "- **Coordinate Format** (COO). Stores a list of (row, column, value) tuples. Fast to add new elements, but slow at everything else.\n",
    "- **Compressed Sparse Row Format** (CSR). This format is sorted by rows. Allows for fast csr+csr or csr\\*csr operations and really fast row slicing. Not good for element or structure modification.\n",
    "- **Compressed Sparse Column Format** (CSC). This format is sorted by columns. Allows for fast csc+csc or csc\\*csc operations and really fast column slicing. Not good for element or structure modification.\n",
    "- **Block Compressed Row** (BCR). This format is similar to the CSR format. It helps create dense blocks in a greater sparse matrix. BSR is appropriate for sparse matrices with dense sub matrices."
   ]
  },
  {
   "cell_type": "markdown",
   "metadata": {},
   "source": [
    "### Other operations\n",
    "\n",
    "SciPy is a huge package with many subpackages. We won't look at them in much detail.\n",
    "\n",
    "- `scipy.special`  \n",
    "    Special functions are transcendental functions. Contains implementations of the Bessel, Elliptic, Gamma and Error functions.\n",
    "\n",
    "- `scipy.optimization`  \n",
    "    Optimization is the problem of finding a numerical solution to a minimization or equality.\n",
    "\n",
    "- `scipy.ffrpack`  \n",
    "    Submodule for computing Fast Fourier Transforms.\n",
    "    \n",
    "- `scipy.optimize`  \n",
    "    Optimization is the problem of finding a numerical solution to a minimization or equality. \n",
    "\n",
    "- `scipy.stats`  \n",
    "    The module contains statistical tools and probabilistic descriptions of random processes. There is also a built-in python `statistics` module for statistical computations.\n",
    "\n",
    "- `scipy.interpolate`  \n",
    "    Interpolation is used for fitting a function from experimental data and thus evaluating points where no measure exists.\n",
    "    \n",
    "- `scipy.integrate`  \n",
    "    Submodule used for integration and Ordinary Differential Equations.\n",
    "\n",
    "- `scipy.signal`  \n",
    "    Submodule used for signal processing.\n",
    "\n",
    "- `scipy.ndimage`  \n",
    "    This submodule is used for image processing.\n",
    "    \n",
    "## Tips\n",
    "\n",
    "### Automatic Reshaping"
   ]
  },
  {
   "cell_type": "code",
   "execution_count": 45,
   "metadata": {},
   "outputs": [
    {
     "name": "stdout",
     "output_type": "stream",
     "text": [
      "[[[ 0  1  2]\n",
      "  [ 3  4  5]\n",
      "  [ 6  7  8]\n",
      "  [ 9 10 11]\n",
      "  [12 13 14]]\n",
      "\n",
      " [[15 16 17]\n",
      "  [18 19 20]\n",
      "  [21 22 23]\n",
      "  [24 25 26]\n",
      "  [27 28 29]]]\n"
     ]
    }
   ],
   "source": [
    "A = np.arange(30)\n",
    "A.shape = 2, -1, 3 # -1 means 'whatever is needed'\n",
    "print(A)"
   ]
  },
  {
   "cell_type": "code",
   "execution_count": 47,
   "metadata": {},
   "outputs": [
    {
     "name": "stdout",
     "output_type": "stream",
     "text": [
      "(3, 10)\n",
      "(3, 5, 2)\n",
      "(30, 1)\n",
      "(1, 30)\n"
     ]
    }
   ],
   "source": [
    "A = A.reshape(-1, 10)\n",
    "print(A.shape)\n",
    "A = A.reshape(3, 5, -1)\n",
    "print(A.shape)\n",
    "A = A.reshape(-1, 1)\n",
    "print(A.shape)\n",
    "A = A.reshape(1, -1)\n",
    "print(A.shape)"
   ]
  },
  {
   "cell_type": "markdown",
   "metadata": {},
   "source": [
    "### Unique values"
   ]
  },
  {
   "cell_type": "code",
   "execution_count": 48,
   "metadata": {},
   "outputs": [],
   "source": [
    "A = np.array([1] * 101 + [2] * 3 + [5] * 75 + [9] * 21)"
   ]
  },
  {
   "cell_type": "markdown",
   "metadata": {},
   "source": [
    "Use `np.unique()` to find the unique values of an array."
   ]
  },
  {
   "cell_type": "code",
   "execution_count": 49,
   "metadata": {},
   "outputs": [
    {
     "data": {
      "text/plain": [
       "array([1, 2, 5, 9])"
      ]
     },
     "execution_count": 49,
     "metadata": {},
     "output_type": "execute_result"
    }
   ],
   "source": [
    "np.unique(A)"
   ]
  },
  {
   "cell_type": "markdown",
   "metadata": {},
   "source": [
    "Add the argument `return_counts=True` to return a second array containing the number of occurrences for each of the unique values. "
   ]
  },
  {
   "cell_type": "code",
   "execution_count": 51,
   "metadata": {},
   "outputs": [
    {
     "name": "stdout",
     "output_type": "stream",
     "text": [
      "[1 2 5 9]\n",
      "[101   3  75  21]\n"
     ]
    }
   ],
   "source": [
    "unique, counts = np.unique(A, return_counts=True)\n",
    "print(unique)\n",
    "print(counts)"
   ]
  },
  {
   "cell_type": "markdown",
   "metadata": {},
   "source": [
    "### Random\n",
    "\n",
    "NumPy has excellent support for random numbers.\n",
    "\n",
    "**Regular functions:**\n",
    "- np.random.rand(shp) returns random values in a given shape.\n",
    "- np.random.random() returns random floats in [0,1).\n",
    "- np.random.shuffle(x) shuffles the contents of x. \n",
    "\n",
    "**Distributions:**\n",
    "- np.random.binomial(n,p)\n",
    "- np.random.gamma(shp)\n",
    "- np.random.geometric(p)\n",
    "- np.random.multinomial(n,p)\n",
    "- np.random.poisson()"
   ]
  },
  {
   "cell_type": "markdown",
   "metadata": {},
   "source": [
    "### Exercise 2\n",
    "\n",
    "Find the unique numbers in a given numpy array and calculate their frequencies."
   ]
  },
  {
   "cell_type": "code",
   "execution_count": 37,
   "metadata": {},
   "outputs": [],
   "source": [
    "data = np.concatenate([np.random.randint(2, size=300),\n",
    "                       np.random.randint(3, size=400),\n",
    "                       np.random.randint(4, size=400)])"
   ]
  },
  {
   "cell_type": "markdown",
   "metadata": {},
   "source": [
    "### Solution"
   ]
  },
  {
   "cell_type": "code",
   "execution_count": 38,
   "metadata": {},
   "outputs": [
    {
     "name": "stdout",
     "output_type": "stream",
     "text": [
      "Value 0: Frequency: 34.55%\n",
      "Value 1: Frequency: 35.91%\n",
      "Value 2: Frequency: 21.18%\n",
      "Value 3: Frequency: 8.36%\n"
     ]
    }
   ],
   "source": [
    "values, frequencies = np.unique(data, return_counts=True)\n",
    "frequencies = frequencies / frequencies.sum() * 100\n",
    "for z in zip(values, frequencies):\n",
    "    print('Value {}: Frequency: {:.2f}%'.format(z[0], z[1]))"
   ]
  },
  {
   "cell_type": "markdown",
   "metadata": {},
   "source": [
    "### Exercise 3\n",
    "\n",
    "Given a numpy array, identify the missing values and replace them with the mean of each value's column."
   ]
  },
  {
   "cell_type": "code",
   "execution_count": 39,
   "metadata": {
    "scrolled": true
   },
   "outputs": [],
   "source": [
    "url = 'https://archive.ics.uci.edu/ml/machine-learning-databases/iris/iris.data'\n",
    "data = np.genfromtxt(url, delimiter=',', dtype='float', usecols=[0,1,2,3])\n",
    "data[np.random.randint(150, size=20), np.random.randint(4, size=20)] = np.nan"
   ]
  },
  {
   "cell_type": "markdown",
   "metadata": {},
   "source": [
    "### Solution 1 (explanatory)"
   ]
  },
  {
   "cell_type": "code",
   "execution_count": 40,
   "metadata": {},
   "outputs": [
    {
     "name": "stdout",
     "output_type": "stream",
     "text": [
      "True\n",
      "False\n"
     ]
    }
   ],
   "source": [
    "# check if there are any nan values in the array\n",
    "print(np.any(np.isnan(data)))\n",
    "\n",
    "# first find the mean of each column of the array:\n",
    "means = np.nanmean(data, axis=0)  # we must use np.nanmean because of the nan values in the array\n",
    "\n",
    "# identify nan values in the array:\n",
    "rows, cols = np.where(np.isnan(data))\n",
    "# np.isnan runs an elementwise check if each value is nan\n",
    "# np.where returns their locations in two separate arrays one for first axis indexes and one for the second\n",
    "\n",
    "# replace each nan element with the correct mean value:\n",
    "for i in range(len(rows)):  # iterate over the number of nan values in the array\n",
    "    data[rows[i], cols[i]] = means[cols[i]]  # replace each nan value with the mean value of its column\n",
    "    \n",
    "print(np.any(np.isnan(data)))"
   ]
  },
  {
   "cell_type": "markdown",
   "metadata": {},
   "source": [
    "### Solution 2 (pythonic)"
   ]
  },
  {
   "cell_type": "code",
   "execution_count": 41,
   "metadata": {},
   "outputs": [
    {
     "name": "stdout",
     "output_type": "stream",
     "text": [
      "False\n",
      "False\n"
     ]
    }
   ],
   "source": [
    "print(np.any(np.isnan(data)))\n",
    "data[np.isnan(data)] = np.nanmean(data[:, np.where(np.isnan(data))[1]], axis=0)\n",
    "print(np.any(np.isnan(data)))"
   ]
  }
 ],
 "metadata": {
  "kernelspec": {
   "display_name": "Python 3",
   "language": "python",
   "name": "python3"
  },
  "language_info": {
   "codemirror_mode": {
    "name": "ipython",
    "version": 3
   },
   "file_extension": ".py",
   "mimetype": "text/x-python",
   "name": "python",
   "nbconvert_exporter": "python",
   "pygments_lexer": "ipython3",
   "version": "3.6.3"
  }
 },
 "nbformat": 4,
 "nbformat_minor": 1
}
