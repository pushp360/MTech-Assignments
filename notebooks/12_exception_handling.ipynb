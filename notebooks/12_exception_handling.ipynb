{
 "cells": [
  {
   "cell_type": "code",
   "execution_count": 1,
   "metadata": {},
   "outputs": [],
   "source": [
    "from __future__ import print_function"
   ]
  },
  {
   "cell_type": "markdown",
   "metadata": {},
   "source": [
    "# Errors\n",
    "\n",
    "Errors are messages being raised when python finds itself in a situation it isn't supposed to be in.\n",
    "\n",
    "For example, when we forget to close a bracket or make any mistake concerning the language's syntax, we will raise a *SyntaxError*."
   ]
  },
  {
   "cell_type": "code",
   "execution_count": 2,
   "metadata": {},
   "outputs": [
    {
     "ename": "SyntaxError",
     "evalue": "invalid syntax (<ipython-input-2-03a0a2d8db2e>, line 1)",
     "output_type": "error",
     "traceback": [
      "\u001b[1;36m  File \u001b[1;32m\"<ipython-input-2-03a0a2d8db2e>\"\u001b[1;36m, line \u001b[1;32m1\u001b[0m\n\u001b[1;33m    if True print('something') # we get a SyntaxError\u001b[0m\n\u001b[1;37m                ^\u001b[0m\n\u001b[1;31mSyntaxError\u001b[0m\u001b[1;31m:\u001b[0m invalid syntax\n"
     ]
    }
   ],
   "source": [
    "if True print('something') # we get a SyntaxError"
   ]
  },
  {
   "cell_type": "markdown",
   "metadata": {},
   "source": [
    "When trying to use a variable we haven't assigned, we raise a *NameError*."
   ]
  },
  {
   "cell_type": "code",
   "execution_count": 3,
   "metadata": {},
   "outputs": [
    {
     "ename": "NameError",
     "evalue": "name 'a' is not defined",
     "output_type": "error",
     "traceback": [
      "\u001b[1;31m---------------------------------------------------------------------------\u001b[0m",
      "\u001b[1;31mNameError\u001b[0m                                 Traceback (most recent call last)",
      "\u001b[1;32m<ipython-input-3-6b1e02214394>\u001b[0m in \u001b[0;36m<module>\u001b[1;34m()\u001b[0m\n\u001b[1;32m----> 1\u001b[1;33m \u001b[0mprint\u001b[0m\u001b[1;33m(\u001b[0m\u001b[0ma\u001b[0m\u001b[1;33m)\u001b[0m \u001b[1;31m# we get a NameError\u001b[0m\u001b[1;33m\u001b[0m\u001b[0m\n\u001b[0m",
      "\u001b[1;31mNameError\u001b[0m: name 'a' is not defined"
     ]
    }
   ],
   "source": [
    "print(a) # we get a NameError"
   ]
  },
  {
   "cell_type": "markdown",
   "metadata": {},
   "source": [
    "When trying to perform an operation that is not supported for the objects we are trying to use it on, we raise a *TypeError*."
   ]
  },
  {
   "cell_type": "code",
   "execution_count": 4,
   "metadata": {},
   "outputs": [
    {
     "ename": "TypeError",
     "evalue": "must be str, not int",
     "output_type": "error",
     "traceback": [
      "\u001b[1;31m---------------------------------------------------------------------------\u001b[0m",
      "\u001b[1;31mTypeError\u001b[0m                                 Traceback (most recent call last)",
      "\u001b[1;32m<ipython-input-4-a771c1196e4c>\u001b[0m in \u001b[0;36m<module>\u001b[1;34m()\u001b[0m\n\u001b[1;32m----> 1\u001b[1;33m \u001b[1;34m'a'\u001b[0m \u001b[1;33m+\u001b[0m \u001b[1;36m3\u001b[0m \u001b[1;31m# we get a TypeError\u001b[0m\u001b[1;33m\u001b[0m\u001b[0m\n\u001b[0m",
      "\u001b[1;31mTypeError\u001b[0m: must be str, not int"
     ]
    }
   ],
   "source": [
    "'a' + 3 # we get a TypeError"
   ]
  },
  {
   "cell_type": "markdown",
   "metadata": {},
   "source": [
    "When passing an index to a list that is out of its range, we raise an *IndexError*."
   ]
  },
  {
   "cell_type": "code",
   "execution_count": 5,
   "metadata": {},
   "outputs": [
    {
     "ename": "IndexError",
     "evalue": "list index out of range",
     "output_type": "error",
     "traceback": [
      "\u001b[1;31m---------------------------------------------------------------------------\u001b[0m",
      "\u001b[1;31mIndexError\u001b[0m                                Traceback (most recent call last)",
      "\u001b[1;32m<ipython-input-5-a677ca92b75e>\u001b[0m in \u001b[0;36m<module>\u001b[1;34m()\u001b[0m\n\u001b[0;32m      1\u001b[0m \u001b[0ml\u001b[0m \u001b[1;33m=\u001b[0m \u001b[1;33m[\u001b[0m\u001b[1;36m0\u001b[0m\u001b[1;33m,\u001b[0m \u001b[1;36m1\u001b[0m\u001b[1;33m,\u001b[0m \u001b[1;36m2\u001b[0m\u001b[1;33m]\u001b[0m\u001b[1;33m\u001b[0m\u001b[0m\n\u001b[1;32m----> 2\u001b[1;33m \u001b[0ml\u001b[0m\u001b[1;33m[\u001b[0m\u001b[1;36m3\u001b[0m\u001b[1;33m]\u001b[0m\u001b[1;33m\u001b[0m\u001b[0m\n\u001b[0m",
      "\u001b[1;31mIndexError\u001b[0m: list index out of range"
     ]
    }
   ],
   "source": [
    "l = [0, 1, 2]\n",
    "l[3]"
   ]
  },
  {
   "cell_type": "markdown",
   "metadata": {},
   "source": [
    "When referencing a dictionary key that does not exist, we raise a *KeyError*."
   ]
  },
  {
   "cell_type": "code",
   "execution_count": 6,
   "metadata": {},
   "outputs": [
    {
     "ename": "KeyError",
     "evalue": "'c'",
     "output_type": "error",
     "traceback": [
      "\u001b[1;31m---------------------------------------------------------------------------\u001b[0m",
      "\u001b[1;31mKeyError\u001b[0m                                  Traceback (most recent call last)",
      "\u001b[1;32m<ipython-input-6-aa67c15db01c>\u001b[0m in \u001b[0;36m<module>\u001b[1;34m()\u001b[0m\n\u001b[0;32m      1\u001b[0m \u001b[0md\u001b[0m \u001b[1;33m=\u001b[0m \u001b[1;33m{\u001b[0m\u001b[1;34m'a'\u001b[0m\u001b[1;33m:\u001b[0m \u001b[1;36m1\u001b[0m\u001b[1;33m,\u001b[0m \u001b[1;34m'b'\u001b[0m\u001b[1;33m:\u001b[0m \u001b[1;36m2\u001b[0m\u001b[1;33m}\u001b[0m\u001b[1;33m\u001b[0m\u001b[0m\n\u001b[1;32m----> 2\u001b[1;33m \u001b[0md\u001b[0m\u001b[1;33m[\u001b[0m\u001b[1;34m'c'\u001b[0m\u001b[1;33m]\u001b[0m\u001b[1;33m\u001b[0m\u001b[0m\n\u001b[0m",
      "\u001b[1;31mKeyError\u001b[0m: 'c'"
     ]
    }
   ],
   "source": [
    "d = {'a': 1, 'b': 2}\n",
    "d['c']"
   ]
  },
  {
   "cell_type": "markdown",
   "metadata": {},
   "source": [
    "When attempting to divide by zero (in regular python), we will raise a *ZeroDivisionError*."
   ]
  },
  {
   "cell_type": "code",
   "execution_count": 7,
   "metadata": {},
   "outputs": [
    {
     "ename": "ZeroDivisionError",
     "evalue": "division by zero",
     "output_type": "error",
     "traceback": [
      "\u001b[1;31m---------------------------------------------------------------------------\u001b[0m",
      "\u001b[1;31mZeroDivisionError\u001b[0m                         Traceback (most recent call last)",
      "\u001b[1;32m<ipython-input-7-dd97967769df>\u001b[0m in \u001b[0;36m<module>\u001b[1;34m()\u001b[0m\n\u001b[1;32m----> 1\u001b[1;33m \u001b[1;36m1\u001b[0m\u001b[1;33m/\u001b[0m\u001b[1;36m0\u001b[0m \u001b[1;31m# we get a ZeroDivisionError\u001b[0m\u001b[1;33m\u001b[0m\u001b[0m\n\u001b[0m",
      "\u001b[1;31mZeroDivisionError\u001b[0m: division by zero"
     ]
    }
   ],
   "source": [
    "1/0 # we get a ZeroDivisionError"
   ]
  },
  {
   "cell_type": "markdown",
   "metadata": {},
   "source": [
    "and so on...\n",
    "\n",
    "These different types of errors exist to inform us on what **kind** of mistake we made.  \n",
    "\n",
    "It is important to differentiate between two types of errors:\n",
    "\n",
    "- **SyntaxErrors** are errors the interpreter finds when it is trying to parse the commands given to him. These errors are fatal for the execution of the script. These errors need to be corrected!\n",
    "- Errors that occur **during execution** are known as **exceptions** and can be **handled**!\n",
    "\n",
    "Handling of exceptions is done with the `try...except` block. This block consists of two parts: The `try` block contains all the commands we want python to **try** to execute. **If** an error occurs, the rest of the commands in the `try` block are skipped and python starts executing the commands in the `except` block. If no error is found, python performs all commands in the `try` block but **ignores** the `except` block.\n",
    "\n",
    "Syntax is:\n",
    "```python\n",
    "try:\n",
    "    # Operations we want python to try to execute.\n",
    "    # If an 'ErrorName' type error is encountered, python skips the rest of the commands in the try block\n",
    "except ErrorName:\n",
    "    # Operations we want executed IF python encounters an error of the 'ErrorName' type.\n",
    "```\n",
    "\n",
    "## Example 1\n",
    "\n",
    "We want the user to enter a number from the keyboard:"
   ]
  },
  {
   "cell_type": "code",
   "execution_count": 8,
   "metadata": {},
   "outputs": [
    {
     "name": "stdout",
     "output_type": "stream",
     "text": [
      "Please enter a number: a\n",
      "Not a valid number, try again!\n",
      "Please enter a number: '5'\n",
      "Not a valid number, try again!\n",
      "Please enter a number: 5\n"
     ]
    }
   ],
   "source": [
    "while True:\n",
    "    try:\n",
    "        # under this line we put the commands we want python to try to perform\n",
    "        x = int(input('Please enter a number: '))\n",
    "        # here we want the user to enter something from the keyboard and then we try to convert this to an integer\n",
    "        # if it is not a number the casting cannot be performed and we will have raised a ValueError\n",
    "        break\n",
    "        # if we didn't raise an error the next command will be performed (which exits the while loop)\n",
    "    except ValueError:\n",
    "        # This command is how we 'catch' errors. This means that if we raised a ValueError, python skips the rest \n",
    "        # of the try block and performs the commands of the except block!\n",
    "        print('Not a valid number, try again!')\n",
    "        # if we want to just ignore the error (and not print anything like here) we can just use pass"
   ]
  },
  {
   "cell_type": "markdown",
   "metadata": {},
   "source": [
    "There are many ways of handling exceptions in python, using the `try...except` block.\n",
    "\n",
    "- Multiple exceptions:\n",
    "```python\n",
    "try:\n",
    "    # ...\n",
    "except(RuntimeError, TypeError, NameError):\n",
    "    # ...\n",
    "```\n",
    "- Refering to exceptions in a different way (and handling them):\n",
    "    - In python 3:\n",
    "```python\n",
    "try:\n",
    "    # ...\n",
    "except ValueError as ve:  # refers to the instance of the ValueError exception we caught as 've'\n",
    "    print(type(ve))  # <type 'exceptions.ValueError'>\n",
    "    print(ve.args)  # prints the arguments of the error\n",
    "    print(ve)  # prints the __str__() method of the ValueError class\n",
    "    # ...\n",
    "```\n",
    "    - In python 2:\n",
    "```python\n",
    "try:\n",
    "    # ...\n",
    "except ValueError, ve:  # same exact thing as above\n",
    "    # ...\n",
    "```    \n",
    "\n",
    "- Ingnore all exceptions:\n",
    "```python\n",
    "try:\n",
    "    # ...\n",
    "except:  # catches all exceptions\n",
    "    pass  # ignores them\n",
    "```\n",
    "**Broad except clauses like the above are not recommended**.\n",
    "\n",
    "# Raising exceptions.\n",
    "\n",
    "The `raise` statement allows the programmer to force a specified exception to occur.\n",
    "\n",
    "Syntax is:\n",
    "```python\n",
    "raise ErrorName(arguments)\n",
    "```"
   ]
  },
  {
   "cell_type": "code",
   "execution_count": 9,
   "metadata": {},
   "outputs": [
    {
     "ename": "NameError",
     "evalue": "my error",
     "output_type": "error",
     "traceback": [
      "\u001b[1;31m---------------------------------------------------------------------------\u001b[0m",
      "\u001b[1;31mNameError\u001b[0m                                 Traceback (most recent call last)",
      "\u001b[1;32m<ipython-input-9-377bf6ed2467>\u001b[0m in \u001b[0;36m<module>\u001b[1;34m()\u001b[0m\n\u001b[1;32m----> 1\u001b[1;33m \u001b[1;32mraise\u001b[0m \u001b[0mNameError\u001b[0m\u001b[1;33m(\u001b[0m\u001b[1;34m'my error'\u001b[0m\u001b[1;33m)\u001b[0m\u001b[1;33m\u001b[0m\u001b[0m\n\u001b[0m",
      "\u001b[1;31mNameError\u001b[0m: my error"
     ]
    }
   ],
   "source": [
    "raise NameError('my error')"
   ]
  },
  {
   "cell_type": "markdown",
   "metadata": {},
   "source": [
    "The argument in raise indicates the exception to be raised. This **must** be either an **exception instance** or an **exception class** (a class that derives from Exception).\n",
    "\n",
    "# Defining Exceptions\n",
    "\n",
    "Sometimes it is useful to define our own `type` of error. This can be done by creating a class that **derives from python's Exception class** either directly, or indirectly.\n",
    "\n",
    "```python\n",
    "class CustomError(Exception):\n",
    "    ...\n",
    "```"
   ]
  },
  {
   "cell_type": "code",
   "execution_count": 10,
   "metadata": {},
   "outputs": [
    {
     "ename": "MyError",
     "evalue": "'muahaha!'",
     "output_type": "error",
     "traceback": [
      "\u001b[1;31m---------------------------------------------------------------------------\u001b[0m",
      "\u001b[1;31mMyError\u001b[0m                                   Traceback (most recent call last)",
      "\u001b[1;32m<ipython-input-10-e806ce291790>\u001b[0m in \u001b[0;36m<module>\u001b[1;34m()\u001b[0m\n\u001b[0;32m      6\u001b[0m         \u001b[1;32mreturn\u001b[0m \u001b[0mrepr\u001b[0m\u001b[1;33m(\u001b[0m\u001b[0mself\u001b[0m\u001b[1;33m.\u001b[0m\u001b[0mvalue\u001b[0m\u001b[1;33m)\u001b[0m\u001b[1;33m\u001b[0m\u001b[0m\n\u001b[0;32m      7\u001b[0m \u001b[1;33m\u001b[0m\u001b[0m\n\u001b[1;32m----> 8\u001b[1;33m \u001b[1;32mraise\u001b[0m \u001b[0mMyError\u001b[0m\u001b[1;33m(\u001b[0m\u001b[1;34m'muahaha!'\u001b[0m\u001b[1;33m)\u001b[0m\u001b[1;33m\u001b[0m\u001b[0m\n\u001b[0m",
      "\u001b[1;31mMyError\u001b[0m: 'muahaha!'"
     ]
    }
   ],
   "source": [
    "class MyError(Exception):\n",
    "    # A user-defined exception must be derived directly or indirectly from the Exception class.\n",
    "    def __init__(self, value):\n",
    "        self.value = value\n",
    "    def __str__(self):\n",
    "        return repr(self.value)\n",
    "    \n",
    "raise MyError('muahaha!')"
   ]
  },
  {
   "cell_type": "markdown",
   "metadata": {},
   "source": [
    "# Assertions\n",
    "\n",
    "The `assert` statement helps the programmer find bugs and ensure his program is used the way he meant it to be used. The assert statements tests a condition, if it is `True` it continues; if it is `False`, it raises an **AssertionError**.\n",
    "\n",
    "```python\n",
    "assert condition, arguments\n",
    "```\n",
    "The arguments are optional and are passed as arguments to the `AssertionError()` exception.\n",
    "\n",
    "Assert is roughly equivalent to:\n",
    "```python\n",
    "if not condition:\n",
    "\traise AssertionError(arguments)\n",
    "```"
   ]
  },
  {
   "cell_type": "code",
   "execution_count": 11,
   "metadata": {},
   "outputs": [
    {
     "ename": "AssertionError",
     "evalue": "Failed condition 2!",
     "output_type": "error",
     "traceback": [
      "\u001b[1;31m---------------------------------------------------------------------------\u001b[0m",
      "\u001b[1;31mAssertionError\u001b[0m                            Traceback (most recent call last)",
      "\u001b[1;32m<ipython-input-11-53df8cdfd94d>\u001b[0m in \u001b[0;36m<module>\u001b[1;34m()\u001b[0m\n\u001b[0;32m      2\u001b[0m \u001b[0mcnd2\u001b[0m \u001b[1;33m=\u001b[0m \u001b[1;33m(\u001b[0m\u001b[1;36m5\u001b[0m \u001b[1;33m==\u001b[0m \u001b[1;34m'5'\u001b[0m\u001b[1;33m)\u001b[0m \u001b[1;31m# False\u001b[0m\u001b[1;33m\u001b[0m\u001b[0m\n\u001b[0;32m      3\u001b[0m \u001b[1;32massert\u001b[0m \u001b[0mcnd1\u001b[0m\u001b[1;33m,\u001b[0m \u001b[1;34m'Failed condition 1!'\u001b[0m  \u001b[1;31m# does nothing\u001b[0m\u001b[1;33m\u001b[0m\u001b[0m\n\u001b[1;32m----> 4\u001b[1;33m \u001b[1;32massert\u001b[0m \u001b[0mcnd2\u001b[0m\u001b[1;33m,\u001b[0m \u001b[1;34m'Failed condition 2!'\u001b[0m  \u001b[1;31m# raises an AssertionError\u001b[0m\u001b[1;33m\u001b[0m\u001b[0m\n\u001b[0m",
      "\u001b[1;31mAssertionError\u001b[0m: Failed condition 2!"
     ]
    }
   ],
   "source": [
    "cnd1 = (5 == 5) # True\n",
    "cnd2 = (5 == '5') # False\n",
    "assert cnd1, 'Failed condition 1!'  # does nothing\n",
    "assert cnd2, 'Failed condition 2!'  # raises an AssertionError"
   ]
  },
  {
   "cell_type": "markdown",
   "metadata": {},
   "source": [
    "For nother example of an assertion, we will check if a user-defined exception class (that we call `err`), is a valid python `Exception`:"
   ]
  },
  {
   "cell_type": "code",
   "execution_count": 12,
   "metadata": {},
   "outputs": [],
   "source": [
    "err = MyError\n",
    "assert issubclass(err, Exception), '{} is not a suitable class for an exception, ' \\\n",
    "                                   'because {} is not derived from class Exception'.format(err.__name__, err.__name__)"
   ]
  },
  {
   "cell_type": "markdown",
   "metadata": {},
   "source": [
    "The previous assert checks if `err` is a subclass of `Exception`, which in this case it is. Because the condition was `True`, `assert` didn't raise any errors.\n",
    "\n",
    "Assertions should **not** be used to test for failure cases that can occur because of bad user input or operating system/environment failures, such as a file not being found.  \n",
    "Instead, you should raise an exception, or print an error message, or whatever is appropriate.  \n",
    "\n",
    "One important reason why assertions should only be used for self-tests of the program is that assertions **can be disabled at compile time**. If Python is started with the **-O** option, then assertions will be stripped out and not evaluated.\n",
    "\n",
    "For example:\n",
    "<pre>python -O script.py</pre>\n",
    "\n",
    "The **-O** option, is to run python in an *optimized mode*. This flag instructs python to **ignore assertions**, and sets the `__debug__` flag to `False`. If your code is heavy in assertions (which isn't a bad practice), you might achieve a better performance when ignoring them.\n",
    "\n",
    "# The try...except...else...finally block\n",
    "\n",
    "In a `try...except` block, `finally` indicates code that will always be executed whether or not an exception has been raised.\n",
    "\n",
    "```python\n",
    "try:\n",
    "\t# Operations go here.\n",
    "\t# If an error is encountered\n",
    "\t# the rest or the operations are skipped.\n",
    "except: # catches all errors\n",
    "\t# If an error is encountered\n",
    "\t# do the operations in this block.\n",
    "else:\n",
    "\t# If no error is encountered\n",
    "\t# do the operations of this block.\n",
    "finally:\n",
    "\t# This will always be executed.\n",
    "```"
   ]
  }
 ],
 "metadata": {
  "kernelspec": {
   "display_name": "Python 3",
   "language": "python",
   "name": "python3"
  },
  "language_info": {
   "codemirror_mode": {
    "name": "ipython",
    "version": 3
   },
   "file_extension": ".py",
   "mimetype": "text/x-python",
   "name": "python",
   "nbconvert_exporter": "python",
   "pygments_lexer": "ipython3",
   "version": "3.6.3"
  }
 },
 "nbformat": 4,
 "nbformat_minor": 1
}
