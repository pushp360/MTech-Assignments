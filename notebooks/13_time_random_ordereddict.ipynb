{
 "cells": [
  {
   "cell_type": "markdown",
   "metadata": {},
   "source": [
    "# Ordered Dictionaries\n",
    "\n",
    "We discussed in a previous tutorial that dictionaries have **no sense or order**. In some cases though, we might want a ordered dictionary."
   ]
  },
  {
   "cell_type": "code",
   "execution_count": 1,
   "metadata": {},
   "outputs": [
    {
     "name": "stdout",
     "output_type": "stream",
     "text": [
      "OrderedDict:  OrderedDict([('a', 1), ('b', 3), ('c', 5), ('d', 7), ('e', 9), ('f', 11), ('g', 13)])\n",
      "Normal Dict:  {'a': 1, 'b': 3, 'c': 5, 'd': 7, 'e': 9, 'f': 11, 'g': 13}\n"
     ]
    }
   ],
   "source": [
    "from __future__ import print_function\n",
    "from collections import OrderedDict\n",
    "\n",
    "keys = ['a', 'b', 'c', 'd', 'e', 'f', 'g']\n",
    "vals = range(1, 14, 2)  # [1, 3, 5, 7, 9, 11, 13]\n",
    "\n",
    "od = OrderedDict()  # OrderedDict declaration\n",
    "nd = dict()  # normal dictionary\n",
    "for i in range(len(keys)):\n",
    "    od[keys[i]] = vals[i]  # population like normal dictionary\n",
    "    nd[keys[i]] = vals[i]\n",
    "\n",
    "print('OrderedDict: ', od)\n",
    "print('Normal Dict: ', nd)"
   ]
  },
  {
   "cell_type": "markdown",
   "metadata": {},
   "source": [
    "We can see that the *OrderedDict* maintains the order in which it's elements were entered in. This is useful for mappings.\n",
    "\n",
    "If we want to retrieve, lets say, the 3rd pair we entered."
   ]
  },
  {
   "cell_type": "code",
   "execution_count": 2,
   "metadata": {},
   "outputs": [
    {
     "name": "stdout",
     "output_type": "stream",
     "text": [
      "Pair:  ('c', 5)\n",
      "Key:  c\n",
      "Value:  5\n"
     ]
    }
   ],
   "source": [
    "print('Pair: ', list(od.items())[2])\n",
    "print('Key: ', list(od.keys())[2])\n",
    "print('Value: ', list(od.values())[2])"
   ]
  },
  {
   "cell_type": "markdown",
   "metadata": {},
   "source": [
    "# Random\n",
    "\n",
    "This module implements pseudo-random number generators for various distributions. We talked about the `random` module a bit in a previous tutorial.\n",
    "\n",
    "## Functions for integers:\n",
    "\n",
    "\n",
    "-   ```python \n",
    "    random.randint(a,b) \n",
    "    ```\n",
    "    Returns a random integer $N$ such that $ a \\leqslant N \\leqslant b $\n",
    "    \n",
    "-   ```python\n",
    "    random.randrange(start,stop[,step])\n",
    "    ```\n",
    "    Return a randomly selected element from `range(start, stop, step)`.\n",
    "    A variant of this is also:\n",
    "    ```python\n",
    "    random.randrange(stop)  # returns a random element from [0, stop)\n",
    "    ```"
   ]
  },
  {
   "cell_type": "code",
   "execution_count": 3,
   "metadata": {},
   "outputs": [
    {
     "name": "stdout",
     "output_type": "stream",
     "text": [
      "Random Integers in [1,100]:\n",
      "88, 43, 65, 72, 70, 96, 45, 13, 95, 60, ...\n",
      "\n",
      "\n",
      "Random Integers in [1,3,5, ... ,99]:\n",
      "69, 69, 75, 55, 21, 21, 49, 55, 65, 39, ...\n"
     ]
    }
   ],
   "source": [
    "import random\n",
    "print('Random Integers in [1,100]:')\n",
    "for i in range(10):\n",
    "    print(random.randint(1,101), end=', ')\n",
    "    # Returns a random integer in [1,100]\n",
    "print('...')\n",
    "print('\\n')\n",
    "print('Random Integers in [1,3,5, ... ,99]:')\n",
    "for i in range(10):    \n",
    "    print(random.randrange(1,101,2), end=', ')\n",
    "print('...')\n",
    "# Returns a random integer in [1,3,5, ... ,99]"
   ]
  },
  {
   "cell_type": "markdown",
   "metadata": {},
   "source": [
    "## Functions for sequences\n",
    "\n",
    "\n",
    "- ```python\n",
    "    random.random()\n",
    "    ```\n",
    "    Return the next random floating point number in the range $[0, 1)$.\n",
    "- ```python\n",
    "    random.choice(seq)\n",
    "    ```\n",
    "    Return a random element from the non-empty sequence `seq`.\n",
    "- ```python\n",
    "    random.shuffle(seq)\n",
    "    ```\n",
    "    Randomly shuffle the sequence `seq` in place.\n",
    "- ```python\n",
    "    random.sample(population, k)\n",
    "    ```\n",
    "    Return a `k` length list of unique elements chosen from the `population` sequence. Used for random sampling without replacement.\n",
    "- ```python\n",
    "    random.uniform(a,b)\n",
    "    ```\n",
    "    Return a random floating point number $N$ such that $ a \\leqslant N \\leqslant b $ for $ a \\leqslant b $ and $ b \\leqslant N \\leqslant a $ for $ b \\leqslant a $.\n",
    "- ```python    \n",
    "    random.gauss(mu, sigma)\n",
    "    ```\n",
    "    Gaussian distribution. `mu` is the mean, and `sigma` is the standard deviation."
   ]
  },
  {
   "cell_type": "code",
   "execution_count": 4,
   "metadata": {},
   "outputs": [
    {
     "name": "stdout",
     "output_type": "stream",
     "text": [
      "Random Numbers in [0,1):\n",
      "0.25585729084957154, 0.5145516408439316, 0.5103052413360393, 0.36230886465665757, 0.8818870280752225, 0.17336244010575041, 0.11880322850806313, 0.26513378700818746, 0.541489105937288, 0.08180041014948547, ...\n",
      "\n",
      "\n",
      "seq = (0.0, 1.1, 2.2, 3.3, 4.4, 5.5, 6.6, 7.7, 8.8, 9.9)\n",
      "Random Choice in seq:\n",
      "6.6\n",
      "\n",
      "\n",
      "Random Shuffle of seq:\n",
      "[3.3, 2.2, 7.7, 9.9, 4.4, 1.1, 5.5, 6.6, 0.0, 8.8]\n",
      "\n",
      "\n",
      "Randomly generated population with a size of 1000\n",
      "Population mean:  4.803\n",
      "\n",
      "\n",
      "Random sample of population with a size of 50\n",
      "Sample mean:  5.14\n",
      "\n",
      "\n",
      "Random Numbers from Uniform distribution in [1,10]:\n",
      "9.02120062299251, 7.46806533106201, 3.2874204256322637, 3.22499528118127, 1.4700601222755596, 7.790588677943567, 5.17026993224375, 7.605240338851941, 1.6823203837384506, 8.633285717928793, ...\n",
      "\n",
      "\n",
      "Randomly generated sequence from Gaussian distribution with mean=0 and std.dev=1:\n",
      "size = 1000\n",
      "mean = 0.04128371203246678\n",
      "standard dev = 0.9837071665999959\n"
     ]
    }
   ],
   "source": [
    "print('Random Numbers in [0,1):')\n",
    "for i in range(10):\n",
    "    print(random.random(), end=', ')\n",
    "print('...')\n",
    "print('\\n')\n",
    "\n",
    "seq = (0.0, 1.1, 2.2, 3.3, 4.4, 5.5, 6.6, 7.7, 8.8, 9.9)\n",
    "print('seq =', seq)\n",
    "print('Random Choice in seq:')\n",
    "print(random.choice(seq))\n",
    "print('\\n')\n",
    "\n",
    "print('Random Shuffle of seq:')\n",
    "ls = list(seq)# Converted tuple to list. Tuples cannot be shuffled!\n",
    "random.shuffle(ls)\n",
    "print(ls) \n",
    "print('\\n')\n",
    "\n",
    "# Generating random population\n",
    "pop = []\n",
    "for i in range(1000):\n",
    "    pop.append(random.randint(0,10))\n",
    "print('Randomly generated population with a size of', len(pop))\n",
    "print('Population mean: ', sum(pop)/float(len(pop)))\n",
    "print('\\n')\n",
    "\n",
    "smp = random.sample(pop, 50)\n",
    "print('Random sample of population with a size of', len(smp))\n",
    "print('Sample mean: ', sum(smp)/float(len(smp)))\n",
    "print('\\n')\n",
    "\n",
    "print('Random Numbers from Uniform distribution in [1,10]:')\n",
    "for i in range(10):\n",
    "    print(random.uniform(1,10), end=', ')\n",
    "print('...')\n",
    "print('\\n')\n",
    "\n",
    "print('Randomly generated sequence from Gaussian distribution with mean=0 and std.dev=1:')\n",
    "gaus = []\n",
    "for i in range(1000):\n",
    "    gaus.append(random.gauss(0,1))\n",
    "print('size =', len(gaus))\n",
    "print('mean =', sum(gaus)/float(len(gaus)))\n",
    "import statistics as st # using the statistics package for calculating the std deviation.\n",
    "print('standard dev =', st.stdev(gaus))"
   ]
  },
  {
   "cell_type": "markdown",
   "metadata": {},
   "source": [
    "## Generator States and Seeding\n",
    "\n",
    "A seed is a number used to initialize the pseudo-random number generator.\n",
    "```python\n",
    "random.seed(a)\n",
    "```\n",
    "If *a* is omitted or None, the current system time is used. If randomness sources are provided by the operating system, they are used instead of the system time (see the `os.urandom()` function for details on availability - we'll comment on this later).\n",
    "\n",
    "We could retrieve or set the **internal state** of the generator by the `getstate()` or `setstate()` functions.\n",
    "\n",
    "```python\n",
    "state = random.getstate()\n",
    "random.setstate(state)\n",
    "```\n",
    "The first command retrieves the state of the generator and stores it in variable `state`. The second one sets the state of the generator to `state`.\n",
    "\n",
    "These all can be done to reproduce results!"
   ]
  },
  {
   "cell_type": "code",
   "execution_count": 5,
   "metadata": {},
   "outputs": [
    {
     "name": "stdout",
     "output_type": "stream",
     "text": [
      "Without a seed:\n",
      "[287, 31, 969, 84, 381, 533, 670, 306, 945, 813]\n",
      "[364, 224, 230, 433, 753, 530, 777, 700, 545, 532]\n",
      "[584, 582, 308, 717, 976, 790, 13, 176, 297, 982]\n",
      "\n",
      "\n",
      "Seed 1:\n",
      "[426, 750, 10, 839, 845, 822, 305, 875, 377, 954]\n",
      "\n",
      "\n",
      "Seed 2:\n",
      "[500, 801, 71, 250, 174, 566, 541, 401, 179, 937]\n",
      "\n",
      "\n",
      "Without a seed:\n",
      "[154, 530, 873, 87, 489, 133, 207, 894, 88, 653]\n",
      "\n",
      "\n",
      "Seed 1:\n",
      "[426, 750, 10, 839, 845, 822, 305, 875, 377, 954]\n",
      "\n",
      "\n",
      "Seed 2:\n",
      "[500, 801, 71, 250, 174, 566, 541, 401, 179, 937]\n"
     ]
    }
   ],
   "source": [
    "print('Without a seed:')\n",
    "print(random.Random().sample(range(1000),10))\n",
    "print(random.Random().sample(range(1000),10))\n",
    "print(random.Random().sample(range(1000),10))\n",
    "print('\\n')\n",
    "\n",
    "print('Seed 1:')\n",
    "seed = 12345\n",
    "print(random.Random(seed).sample(range(1000),10))\n",
    "print('\\n')\n",
    "\n",
    "print('Seed 2:')\n",
    "seed = 54321\n",
    "print(random.Random(seed).sample(range(1000),10))\n",
    "print('\\n')\n",
    "\n",
    "print('Without a seed:')\n",
    "print(random.Random().sample(range(1000),10))\n",
    "print('\\n')\n",
    "\n",
    "print('Seed 1:')\n",
    "seed = 12345\n",
    "print(random.Random(seed).sample(range(1000),10))\n",
    "print('\\n')\n",
    "\n",
    "print('Seed 2:')\n",
    "seed = 54321\n",
    "print(random.Random(seed).sample(range(1000),10))"
   ]
  },
  {
   "cell_type": "markdown",
   "metadata": {},
   "source": [
    "Using the same seed results in the **same** random numbers generated. This is because, as we'll discuss below, the *random* module generates numbers in a deterministic way! When used without a seed, the sequence differs each time, but the results still **aren't random!**\n",
    "\n",
    "## A few notes on random numbers.\n",
    "\n",
    "Almost all module functions depend on the basic function `random()`, which generates a random float uniformly in the semi-open range *[0.0, 1.0)*. Python uses the **Mersenne Twister** as the core generator. It produces 53-bit precision floats and has a period of $2^19937 - 1$. The underlying implementation in C is both fast and threadsafe. The Mersenne Twister is one of the most extensively tested random number generators in existence. However, being **completely deterministic**, it is not suitable for all purposes, and is completely unsuitable for cryptographic purposes.\n",
    "\n",
    "For cryptographic use we need a near-true random number generation technique, like\n",
    "```python\n",
    "   os.urandom(n)\n",
    "```\n",
    "Return a string of *n* random bytes suitable for cryptographic use. This can in turn be used to *seed* the generator.\n",
    "\n",
    "This function returns random bytes from an **OS-specific randomness source**. The returned data should be unpredictable enough for cryptographic applications, though its exact quality depends on the OS implementation. On a UNIX-like system this will query `/dev/urandom`, and on Windows it will use `CryptGenRandom()`. If a randomness source is not found, `NotImplementedError` will be raised.\n",
    "\n",
    "The OS gathers environmental noise collected from device drivers and stores the bits of noise in an *entropy pool*. This pool is used to generate the random numbers.\n",
    "\n",
    "Another way to go is to use a Cryptographically Secure Pseudorandom Number Generator (CSPRNG). The problem with Mersenne Twister is that anyone can predict the state of the generator by observing a small number of it's outputs. This is harder to do in CSPRNG algorithms. "
   ]
  },
  {
   "cell_type": "markdown",
   "metadata": {},
   "source": [
    "# Time\n",
    "\n",
    "This module provides various time-related functions.\n",
    "\n",
    "For instance:"
   ]
  },
  {
   "cell_type": "code",
   "execution_count": 6,
   "metadata": {},
   "outputs": [
    {
     "name": "stdout",
     "output_type": "stream",
     "text": [
      "Thu Apr 26 16:32:00 2018\n"
     ]
    }
   ],
   "source": [
    "import time\n",
    "\n",
    "print(time.ctime())"
   ]
  },
  {
   "cell_type": "markdown",
   "metadata": {},
   "source": [
    "An important use of this package is calculating how much time a script has run. This can be done with the `time.time()` function.\n",
    "```python\n",
    "time.time()\n",
    "```\n",
    "Returns the time in seconds since the epoch as a floating point number. While this is usually of no use to us, we can **compare** the time the script has started to the time the script has finished. By doing this we can determin how long the script has run.\n",
    "\n",
    "```python\n",
    "time.sleep(secs)\n",
    "```\n",
    "Suspend execution of the current thread for the given number of seconds. The argument may be a floating point number to indicate a more precise sleep time."
   ]
  },
  {
   "cell_type": "code",
   "execution_count": 7,
   "metadata": {},
   "outputs": [
    {
     "name": "stdout",
     "output_type": "stream",
     "text": [
      "Time elapsed: 10.00489854812622 seconds\n"
     ]
    }
   ],
   "source": [
    "start_time = time.time() # time the program starts\n",
    "\n",
    "time.sleep(10) # suspends the execution for 10 seconds\n",
    "\n",
    "end_time = time.time() # time the program ends\n",
    "\n",
    "print('Time elapsed: {!s} seconds'.format(end_time - start_time))"
   ]
  }
 ],
 "metadata": {
  "kernelspec": {
   "display_name": "Python 3",
   "language": "python",
   "name": "python3"
  },
  "language_info": {
   "codemirror_mode": {
    "name": "ipython",
    "version": 3
   },
   "file_extension": ".py",
   "mimetype": "text/x-python",
   "name": "python",
   "nbconvert_exporter": "python",
   "pygments_lexer": "ipython3",
   "version": "3.6.3"
  }
 },
 "nbformat": 4,
 "nbformat_minor": 1
}
