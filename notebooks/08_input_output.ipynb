{
 "cells": [
  {
   "cell_type": "markdown",
   "metadata": {},
   "source": [
    "# Input / Output Operations\n",
    "\n",
    "Programs are no good on their own without having means of interacting with their user.\n",
    "\n",
    "## Output to screen - print function.\n",
    "We have had a brief look at python's print function over the last couple of tutorials."
   ]
  },
  {
   "cell_type": "code",
   "execution_count": 1,
   "metadata": {},
   "outputs": [],
   "source": [
    "from __future__ import print_function\n",
    "s = 'string1'  # a random string\n",
    "i = 5  # an integer\n",
    "f = 0.33  # a float"
   ]
  },
  {
   "cell_type": "markdown",
   "metadata": {},
   "source": [
    "If we want to print out a certain variable on screen we can use the `print` function."
   ]
  },
  {
   "cell_type": "code",
   "execution_count": 2,
   "metadata": {},
   "outputs": [
    {
     "name": "stdout",
     "output_type": "stream",
     "text": [
      "string1\n",
      "5\n",
      "0.33\n"
     ]
    }
   ],
   "source": [
    "print(s)  # string1\n",
    "print(i)  # 5\n",
    "print(f)  # 0.33"
   ]
  },
  {
   "cell_type": "markdown",
   "metadata": {},
   "source": [
    "We can also use print to print out multiple variables."
   ]
  },
  {
   "cell_type": "code",
   "execution_count": 3,
   "metadata": {},
   "outputs": [
    {
     "name": "stdout",
     "output_type": "stream",
     "text": [
      "string1 5 0.33\n"
     ]
    }
   ],
   "source": [
    "print(s, i, f)"
   ]
  },
  {
   "cell_type": "markdown",
   "metadata": {},
   "source": [
    "A good practise it to describe what we are printing when we print the value of a variable."
   ]
  },
  {
   "cell_type": "code",
   "execution_count": 4,
   "metadata": {},
   "outputs": [
    {
     "name": "stdout",
     "output_type": "stream",
     "text": [
      "The value of the variable s is: string1\n"
     ]
    }
   ],
   "source": [
    "print('The value of the variable s is:', s)"
   ]
  },
  {
   "cell_type": "markdown",
   "metadata": {},
   "source": [
    "We can even place variable values in text.\n",
    "\n",
    "### old formatting scheme"
   ]
  },
  {
   "cell_type": "code",
   "execution_count": 5,
   "metadata": {},
   "outputs": [
    {
     "name": "stdout",
     "output_type": "stream",
     "text": [
      "string1 is a string, 5 is an integer and 0.330000 is a float\n"
     ]
    }
   ],
   "source": [
    "print('%s is a string, %i is an integer and %f is a float' %(s, i, f))"
   ]
  },
  {
   "cell_type": "markdown",
   "metadata": {},
   "source": [
    "When we place a `%s` in a string, python knows to expect a string variable to take its place. The same happens with integers (`%i`) and floats (`%f`)."
   ]
  },
  {
   "cell_type": "code",
   "execution_count": 6,
   "metadata": {},
   "outputs": [
    {
     "name": "stdout",
     "output_type": "stream",
     "text": [
      "0.33 is a string\n"
     ]
    }
   ],
   "source": [
    "print('%s is a string' %f)"
   ]
  },
  {
   "cell_type": "markdown",
   "metadata": {},
   "source": [
    "So the float was typecasted as a string and then printed out.  \n",
    "We can confirm this because `print('%i is a string' %s)` would raise a *TypeError*. \n",
    "\n",
    "### a better way...\n",
    "\n",
    "A better way to format is to use the `string.format()` method which has more functionality."
   ]
  },
  {
   "cell_type": "code",
   "execution_count": 7,
   "metadata": {},
   "outputs": [
    {
     "name": "stdout",
     "output_type": "stream",
     "text": [
      "12 23\n"
     ]
    }
   ],
   "source": [
    "print('{} {}'.format(12, 23))"
   ]
  },
  {
   "cell_type": "markdown",
   "metadata": {},
   "source": [
    "We can also configure the order in which the variables are passed to the string, by placing an index into the brackets."
   ]
  },
  {
   "cell_type": "code",
   "execution_count": 8,
   "metadata": {},
   "outputs": [
    {
     "name": "stdout",
     "output_type": "stream",
     "text": [
      "23 12\n"
     ]
    }
   ],
   "source": [
    "print('{1} {0}'.format(12, 23))"
   ]
  },
  {
   "cell_type": "markdown",
   "metadata": {},
   "source": [
    "With this we essentially instruct python to use the second (index 1) argument of the tuple first and the first (index 0) one second.  \n",
    "\n",
    "Another useful thing is to define how many characters the variable should occupy in the string. If the variable requires more characters, it will discard the latter ones. If it has less it will fill the rest with whitespaces. If this is the case, we can align the string wherever we want.\n",
    "\n",
    "The syntax is:\n",
    "```python\n",
    "'{:<10}'.format(variable)  # this reserves 10 characters for the variable and aligns it left\n",
    "# By changing the number we can define how many characters we will reserve for the variable:\n",
    "'{:<5}'.format(variable)   # this reserves 5 characters and aligns the variable to the left\n",
    "# We can also align the variable to the middle or the right of the reserved characters:\n",
    "'{:^5}'.format(variable)  # middle alignment\n",
    "'{:>5}'.format(variable)  # right alignment\n",
    "```"
   ]
  },
  {
   "cell_type": "code",
   "execution_count": 9,
   "metadata": {},
   "outputs": [
    {
     "name": "stdout",
     "output_type": "stream",
     "text": [
      "             string1\n"
     ]
    }
   ],
   "source": [
    "print('{:>20}'.format(s))"
   ]
  },
  {
   "cell_type": "markdown",
   "metadata": {},
   "source": [
    "This tells python to create a string of 20 characters and align our string to the right of that (`>`). \n",
    "\n",
    "Here `string1` contains 7 characters, but we told the string to reserve 20 characters for this variable and to place it in the end of those 20 characters. The rest were *padded* with whitespace. \n",
    "\n",
    "We can also define with which character the string will *pad* these surplus characters by adding that value after the colon (`:`).\n",
    "\n",
    "A final option is to *truncate* long strings (this is usually done in floats where we don't care about all of the decimals."
   ]
  },
  {
   "cell_type": "code",
   "execution_count": 10,
   "metadata": {},
   "outputs": [
    {
     "name": "stdout",
     "output_type": "stream",
     "text": [
      "_____________string1\n",
      "string1_____________\n",
      "______string1_______\n",
      "strin\n",
      "strin_____\n"
     ]
    }
   ],
   "source": [
    "# we can use padding to see this more clearly\n",
    "print('{:_>20}'.format(s))\n",
    "# left alignment (with padding):\n",
    "print('{:_<20}'.format(s))\n",
    "# middle alignment (with padding):\n",
    "print('{:_^20}'.format(s))\n",
    "# we can also truncate long strings (lets say to 5 characters)\n",
    "print('{:.5}'.format(s))\n",
    "# truncating + padding\n",
    "print('{:_<10.5}'.format(s))"
   ]
  },
  {
   "cell_type": "markdown",
   "metadata": {},
   "source": [
    "### Number types:"
   ]
  },
  {
   "cell_type": "code",
   "execution_count": 11,
   "metadata": {},
   "outputs": [
    {
     "name": "stdout",
     "output_type": "stream",
     "text": [
      "42\n",
      "3.141593\n",
      "   42\n",
      "003.14\n"
     ]
    }
   ],
   "source": [
    "# Integers:\n",
    "print('{:d}'.format(42))  # 'd' is same thing as 'i' for printing \n",
    "# Floats:\n",
    "print('{:f}'.format(3.141592653589793))\n",
    "# with padding: \n",
    "print('{:5d}'.format(42))\n",
    "# padding and truncating\n",
    "print('{:06.2f}'.format(3.141592653589793))"
   ]
  },
  {
   "cell_type": "markdown",
   "metadata": {},
   "source": [
    "### Named Placeholders:"
   ]
  },
  {
   "cell_type": "code",
   "execution_count": 12,
   "metadata": {},
   "outputs": [
    {
     "name": "stdout",
     "output_type": "stream",
     "text": [
      "first_string, third_string\n",
      "str1 st2\n",
      "23, 26,   21\n",
      "Gib = 2.718\n",
      "   test   \n"
     ]
    }
   ],
   "source": [
    "# from dictionary\n",
    "dic = {'first':'first_string','second':'second_string','third':'third_string'}\n",
    "print('{first}, {third}'.format(**dic))\n",
    "# explicit naming\n",
    "print('{first} {last}'.format(first='str1', last='st2'))\n",
    "# from list\n",
    "range_list = list(range(21,30))\n",
    "print('{l[2]}, {l[5]},   {l[0]}'.format(l=range_list))\n",
    "print('{:.{prec}} = {:.{prec}f}'.format('Gibberish', 2.7182, prec=3))\n",
    "# Parameterized formats\n",
    "print('{:{align}{width}}'.format('test', align='^', width='10'))"
   ]
  },
  {
   "cell_type": "markdown",
   "metadata": {},
   "source": [
    "### Datetime:"
   ]
  },
  {
   "cell_type": "code",
   "execution_count": 13,
   "metadata": {},
   "outputs": [
    {
     "name": "stdout",
     "output_type": "stream",
     "text": [
      "2001-02-03 04:05\n"
     ]
    }
   ],
   "source": [
    "from datetime import datetime\n",
    "dt = datetime(2001, 2, 3, 4, 5)\n",
    "print('{:{dfmt} {tfmt}}'.format(dt, dfmt='%Y-%m-%d', tfmt='%H:%M'))"
   ]
  },
  {
   "cell_type": "markdown",
   "metadata": {},
   "source": [
    "### Formatting example:"
   ]
  },
  {
   "cell_type": "code",
   "execution_count": 14,
   "metadata": {},
   "outputs": [
    {
     "name": "stdout",
     "output_type": "stream",
     "text": [
      "Without formatting:\n",
      "1 1 1\n",
      "2 4 8\n",
      "3 9 27\n",
      "4 16 64\n",
      "5 25 125\n",
      "6 36 216\n",
      "7 49 343\n",
      "8 64 512\n",
      "9 81 729\n",
      "10 100 1000\n",
      "\n",
      "\n",
      "With formatting:\n",
      " 1   1    1\n",
      " 2   4    8\n",
      " 3   9   27\n",
      " 4  16   64\n",
      " 5  25  125\n",
      " 6  36  216\n",
      " 7  49  343\n",
      " 8  64  512\n",
      " 9  81  729\n",
      "10 100 1000\n"
     ]
    }
   ],
   "source": [
    "print('Without formatting:')\n",
    "for x in range(1, 11):\n",
    "    print(x, x ** 2, x ** 3)\n",
    "    \n",
    "print('\\n')\n",
    "\n",
    "print('With formatting:')\n",
    "for x in range(1, 11):\n",
    "    print('{0:2d} {1:3d} {2:4d}'.format(x, x ** 2, x ** 3))"
   ]
  },
  {
   "cell_type": "markdown",
   "metadata": {},
   "source": [
    "## Keyboard Input.\n",
    "\n",
    "This happens when the we ask the user to input something from the keyboard so that we can use it in our code.\n",
    "\n",
    "This is done through the built-in `input()` function equivalent to python2's `raw_input()`. This function accepts a parameter and reads it as a `string`."
   ]
  },
  {
   "cell_type": "code",
   "execution_count": 15,
   "metadata": {},
   "outputs": [
    {
     "name": "stdout",
     "output_type": "stream",
     "text": [
      "What is your name? Thanos\n",
      "Thanos <class 'str'>\n",
      "What is your age? 28\n",
      "28 <class 'str'>\n",
      "<class 'int'>\n"
     ]
    }
   ],
   "source": [
    "name = input('What is your name? ') # prints the string 'What is your name? 'and expects a string as an input to store in the variable name\n",
    "print(name, type(name))\n",
    "age = input('What is your age? ') # same thing with age\n",
    "print(age, type(age))\n",
    "# So, no matter what we enter, it is interpreted as a string.\n",
    "# If we age expecting an integer we need to cast it\n",
    "age = int(age) \n",
    "print(type(age))"
   ]
  },
  {
   "cell_type": "markdown",
   "metadata": {},
   "source": [
    "When reading inputs from users, things might not turn out always as expected. A smart thing to do is to check if the input matches your specifications and force the user to repeat what he entered if it does not.\n",
    "\n",
    "### Example\n",
    "\n",
    "Lets say we want to make a test."
   ]
  },
  {
   "cell_type": "code",
   "execution_count": 16,
   "metadata": {},
   "outputs": [
    {
     "name": "stdout",
     "output_type": "stream",
     "text": [
      "Which of the following animals is also a name for a programming language?\n",
      "A: Python       B: Pitbull     \n",
      "C: Bear         D: Horse       \n"
     ]
    }
   ],
   "source": [
    "print('Which of the following animals is also a name for a programming language?')\n",
    "print('{:<15} {:<15}'.format('A: Python', 'B: Pitbull'))\n",
    "print('{:<15} {:<15}'.format('C: Bear', 'D: Horse'))"
   ]
  },
  {
   "cell_type": "markdown",
   "metadata": {},
   "source": [
    "The first thing we want to do is to create a loop that will force the user to answer only with a letter a, b, c or d."
   ]
  },
  {
   "cell_type": "code",
   "execution_count": 17,
   "metadata": {},
   "outputs": [
    {
     "name": "stdout",
     "output_type": "stream",
     "text": [
      "Please enter your answer: e\n",
      "Not an appropriate choice. The answer must be A, B, C or D.\n",
      "Try again: b\n",
      "Sorry, the correct answer was A: Python.\n"
     ]
    }
   ],
   "source": [
    "answer = input('Please enter your answer: ')\n",
    "while answer.lower() not in ('a', 'b', 'c', 'd'):\n",
    "    answer = input('Not an appropriate choice. The answer must be A, B, C or D.\\nTry again: ')\n",
    "\n",
    "# With this infinite loop we repeat the raw input until the user answers a letter that is in a given set.\n",
    "# By utilizing the .lower function we can ensure that both upper and lowercase letters are acceptable.\n",
    "if answer.lower() == 'a':\n",
    "    print('Congratulations, you chose correctly!')\n",
    "else:\n",
    "    print('Sorry, the correct answer was A: Python.')"
   ]
  },
  {
   "cell_type": "markdown",
   "metadata": {},
   "source": [
    "## Using files for I/O operations.\n",
    "\n",
    "Variables are no good for storing data for long term use. Once the program has finished, variables will be removed and the data they stored will be deleted from memory. **Files** are a way of storing data in your disk for long term use."
   ]
  },
  {
   "cell_type": "code",
   "execution_count": 18,
   "metadata": {},
   "outputs": [],
   "source": [
    "# say we create a list\n",
    "a_list = list(range(55)) + ['a', 'ab', 'abc'] * 15"
   ]
  },
  {
   "cell_type": "markdown",
   "metadata": {},
   "source": [
    "We want to store this list into a file so that we use it in the future. First, we need to specify the path that we want the file to be.\n",
    "\n",
    "```python\n",
    "# Linux paths:\n",
    "file_location = '/home/thanos/path/to/file'\n",
    "# Windows paths:\n",
    "file_location = 'C:\\\\Users\\\\thanos\\\\path\\\\to\\\\file'\n",
    "```\n",
    "\n",
    "The default path your working directory (the directory from where python was launched). "
   ]
  },
  {
   "cell_type": "code",
   "execution_count": 19,
   "metadata": {},
   "outputs": [],
   "source": [
    "# Feel free to change your path to a valid one. I'll use the current directory.\n",
    "file_location = 'test_file'"
   ]
  },
  {
   "cell_type": "markdown",
   "metadata": {},
   "source": [
    "We can use a file with the python's `open()` function.\n",
    "\n",
    "```python\n",
    "handle = open(path, 'wb')\n",
    "```\n",
    "\n",
    "This command instructs python to open the file identified in path and refer to it with the variable `handle`.\n",
    "\n",
    "- The `'w'` option indicates that the file is opened only for writing (not reading).\n",
    "- The `'b'` option indicates that the file is being written in binary format.\n",
    "\n",
    "The latter has an effect only on systems that differentiate between binary and text files. If we want to write a text file we shouldn't add the `'b'` option.\n",
    "\n",
    "If the file doesn't exist it will create it. If a file with the same name exists in this location python will overwrite it!"
   ]
  },
  {
   "cell_type": "code",
   "execution_count": 20,
   "metadata": {},
   "outputs": [],
   "source": [
    "f = open(file_location, 'w')\n",
    "# According to python f is: <open file 'test_file', mode 'w' at 0x7f9e8077c9c0>"
   ]
  },
  {
   "cell_type": "code",
   "execution_count": 21,
   "metadata": {},
   "outputs": [],
   "source": [
    "# In order to store something in the file we can use the file's .write() function.\n",
    "f.write('This is the file \\n')\n",
    "# The previous command writes the string 'This is the file \\n' to the file.\n",
    "# If we want to write the contents of the list, we need to first convert them to a string.\n",
    "for i in a_list:\n",
    "    f.write(str(i) + '\\n') # we chose to separate the elements with a new line\n",
    "# Now that we're done with the file we need to close it.\n",
    "# This is done with the file.close() method \n",
    "f.close()"
   ]
  },
  {
   "cell_type": "markdown",
   "metadata": {},
   "source": [
    "The `file.close()` method is important and should not be forgotten.  \n",
    "If we don't close it manually, python will eventually close the file when it is up for garbage collection but we don't know exactly when this will be.  \n",
    "It is a bad practice leaving open file handles all over the place because that would be a waste of system resources.\n",
    "\n",
    "Now let's try and retrieve the stored data from the file.  \n",
    "This time we need to open the file for reading.  \n",
    "We will use a different syntax this time to open the file. Instead of `open()` - `close()` we will use the `with` statement. This allows us to open a file and perform all actions on the file with **indented** commands. We don't need to close the file afterwards!"
   ]
  },
  {
   "cell_type": "code",
   "execution_count": 22,
   "metadata": {},
   "outputs": [
    {
     "name": "stdout",
     "output_type": "stream",
     "text": [
      "['0\\n', '1\\n', '2\\n', '3\\n', '4\\n', '5\\n', '6\\n', '7\\n', '8\\n', '9\\n', '10\\n', '11\\n', '12\\n', '13\\n', '14\\n', '15\\n', '16\\n', '17\\n', '18\\n', '19\\n', '20\\n', '21\\n', '22\\n', '23\\n', '24\\n', '25\\n', '26\\n', '27\\n', '28\\n', '29\\n', '30\\n', '31\\n', '32\\n', '33\\n', '34\\n', '35\\n', '36\\n', '37\\n', '38\\n', '39\\n', '40\\n', '41\\n', '42\\n', '43\\n', '44\\n', '45\\n', '46\\n', '47\\n', '48\\n', '49\\n', '50\\n', '51\\n', '52\\n', '53\\n', '54\\n', 'a\\n', 'ab\\n', 'abc\\n', 'a\\n', 'ab\\n', 'abc\\n', 'a\\n', 'ab\\n', 'abc\\n', 'a\\n', 'ab\\n', 'abc\\n', 'a\\n', 'ab\\n', 'abc\\n', 'a\\n', 'ab\\n', 'abc\\n', 'a\\n', 'ab\\n', 'abc\\n', 'a\\n', 'ab\\n', 'abc\\n', 'a\\n', 'ab\\n', 'abc\\n', 'a\\n', 'ab\\n', 'abc\\n', 'a\\n', 'ab\\n', 'abc\\n', 'a\\n', 'ab\\n', 'abc\\n', 'a\\n', 'ab\\n', 'abc\\n', 'a\\n', 'ab\\n', 'abc\\n', 'a\\n', 'ab\\n', 'abc\\n']\n"
     ]
    }
   ],
   "source": [
    "new_list = []  # we will store the retrieved elements here\n",
    "with open(file_location, 'r') as f:  # this command opens a file for reading ('r') and refers to it as f\n",
    "    f.readline()  # this command will read the first line of the file and print it on screen.\n",
    "    for line in f:  # this automatically iterates through every line of the file until the eof\n",
    "        new_list.append(line)  # because the elements were line-separated we just need \n",
    "                               # to append each line to a new element of the file\n",
    "print(new_list)"
   ]
  },
  {
   "cell_type": "markdown",
   "metadata": {},
   "source": [
    "Because the format isn't what we wanted, we need to erase the last two characters from the string (the `'\\n'` part) and convert the first numbers to integers. This is not a really effective way, though, to store data.\n",
    "\n",
    "Other open modes are `'a'` which opens the file for **updating** (doesn't overwrite the previous file). `'r+'` which opens a file for **reading and writing** (similarly `'w+'` and `'a+'`)."
   ]
  },
  {
   "cell_type": "markdown",
   "metadata": {},
   "source": [
    "### Pickle module\n",
    "\n",
    "This is probably the most common and most effective way to store data in python."
   ]
  },
  {
   "cell_type": "code",
   "execution_count": 23,
   "metadata": {},
   "outputs": [
    {
     "name": "stdout",
     "output_type": "stream",
     "text": [
      "[0, 1, 2, 3, 4, 5, 6, 7, 8, 9, 10, 11, 12, 13, 14, 15, 16, 17, 18, 19, 20, 21, 22, 23, 24, 25, 26, 27, 28, 29, 30, 31, 32, 33, 34, 35, 36, 37, 38, 39, 40, 41, 42, 43, 44, 45, 46, 47, 48, 49, 50, 51, 52, 53, 54, 'a', 'ab', 'abc', 'a', 'ab', 'abc', 'a', 'ab', 'abc', 'a', 'ab', 'abc', 'a', 'ab', 'abc', 'a', 'ab', 'abc', 'a', 'ab', 'abc', 'a', 'ab', 'abc', 'a', 'ab', 'abc', 'a', 'ab', 'abc', 'a', 'ab', 'abc', 'a', 'ab', 'abc', 'a', 'ab', 'abc', 'a', 'ab', 'abc', 'a', 'ab', 'abc']\n"
     ]
    }
   ],
   "source": [
    "import pickle\n",
    "pickle_file = 'test_file.pkl'  # or /path/to/test_file.pkl. suffix is optional\n",
    "pickle.dump(a_list, open(pickle_file, 'wb'))  # this command will store the data in a_list inside the pickle_file \n",
    "# This file is now NOT human-readable\n",
    "new_list = pickle.load(open(pickle_file, 'rb'))  # this command loads data from a pickle file to memory\n",
    "print(new_list)"
   ]
  },
  {
   "cell_type": "markdown",
   "metadata": {},
   "source": [
    "With pickle, the new list has the exact same format as the old one. As a plus we managed that only with one line for the saving (`.dump()`) and one line for the loading (`.load()`). No iterations are needed when using pickle. Pickle files are only good for storing data. It is not good for creating any sort of human-readable file (for example log files).\n",
    "\n",
    "### CSV module\n",
    "\n",
    "This module is for storing (and loading) data from (and to) csv format.\n",
    "CSV (comma separated values) is one of the most common formats for storing data (most commonly from spreadsheets) into text files. The standard csv format separates the values of an entry in a spreadsheet with commas and entries (rows or records) with new lines.  \n",
    "Other similar formats are the tab-separated values (TSV) format, or more custom formats that use custom symbols to separate values."
   ]
  },
  {
   "cell_type": "code",
   "execution_count": 24,
   "metadata": {},
   "outputs": [],
   "source": [
    "# lets say we have a list of triples that we want to store as a csv file\n",
    "trip_list = [('thanos', 1, 2), ('mike', 2, 3), ('george', 5, 6), ('maria', 9, 8), ('xristina', 12, 23)] \n",
    "import csv\n",
    "with open('a_file.csv', 'w', newline='\\n') as f:  # define the line separator\n",
    "    writer = csv.writer(f, delimiter=',')  # here we are using the default delimiter and it is not necessary.\n",
    "                                           # if we wanted a space separated values file we could use delimiter=' ',\n",
    "                                           # if we wanted a tab-separated values file we could have used delimiter='\\t'\n",
    "    for i in trip_list:\n",
    "        writer.writerow(i)"
   ]
  },
  {
   "cell_type": "markdown",
   "metadata": {},
   "source": [
    "This creates a csv file named a_file.csv containing the following:\n",
    "\n",
    "    thanos,1,2\n",
    "    mike,2,3\n",
    "    george,5,6\n",
    "    maria,9,8\n",
    "    xristina,12,23\n",
    "\n",
    "Now, let's try and load it back."
   ]
  },
  {
   "cell_type": "code",
   "execution_count": 25,
   "metadata": {},
   "outputs": [
    {
     "name": "stdout",
     "output_type": "stream",
     "text": [
      "[['thanos', '1', '2'], ['mike', '2', '3'], ['george', '5', '6'], ['maria', '9', '8'], ['xristina', '12', '23']]\n"
     ]
    }
   ],
   "source": [
    "new_list = []\n",
    "with open('a_file.csv', 'r', newline='\\n') as f:\n",
    "    reader = csv.reader(f, delimiter=',')  # again here delimiter is optional\n",
    "    for row in reader:\n",
    "        new_list.append(row)\n",
    "print(new_list)"
   ]
  },
  {
   "cell_type": "markdown",
   "metadata": {},
   "source": [
    "If we wanted a list of tuples we should have changed the last line to `new_list.append(tuple(row))`.\n",
    "Then we would have gotten new_list: `[('thanos', '1', '2'), ('mike', '2', '3'), ('george', '5', '6'), ('maria', '9', '8'), ('xristina', '12', '23')]`.\n",
    "\n",
    "Again, there are differences with the original (for example integers are stored as strings and depending on our situation may need to be identified and casted back as integers).\n",
    "\n",
    "In future tutorials we will learn easier ways of reading and writing csv files.\n",
    "\n",
    "### Other formats\n",
    "\n",
    "Besides from these there are many more ways of storing data, such as HDF5, json, memory-mapped data and other.\n",
    "\n",
    "- **hdf5** is a versatile data model that can represent complex objects. It offers good performance with large files. **module: h5py**\n",
    "\n",
    "- **json**, like xml is a sort of markup language that is designed for human-readable data interchange. **module: json**\n",
    "\n",
    "- **memory-mapped data** (such as LMDB) offer higher I/O performance. **module: mmap**\n",
    "\n",
    "- **xls**, or excel spreadsheets. **module: xlrd**\n",
    "\n",
    "- **xml**, **module: xml**\n",
    "\n",
    "- **rdf**, **module: rdflib**\n",
    "\n",
    "and many more..."
   ]
  }
 ],
 "metadata": {
  "kernelspec": {
   "display_name": "Python 3",
   "language": "python",
   "name": "python3"
  },
  "language_info": {
   "codemirror_mode": {
    "name": "ipython",
    "version": 3
   },
   "file_extension": ".py",
   "mimetype": "text/x-python",
   "name": "python",
   "nbconvert_exporter": "python",
   "pygments_lexer": "ipython3",
   "version": "3.6.3"
  }
 },
 "nbformat": 4,
 "nbformat_minor": 1
}
