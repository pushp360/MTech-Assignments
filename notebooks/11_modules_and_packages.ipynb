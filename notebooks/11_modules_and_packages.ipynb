{
 "cells": [
  {
   "cell_type": "markdown",
   "metadata": {},
   "source": [
    "# Modules\n",
    "\n",
    "If you quit from the Python interpreter and enter it again, the definitions you have made (functions and variables) are lost. Therefore, if you want to write a somewhat longer program, you are better off using a text editor to prepare the input for the interpreter and running it with that file as input instead. This is known as creating a **script**. As your program gets longer, you may want to split it into several files for easier maintenance. You may also want to use a handy function that you’ve written in several programs without copying its definition into each script.\n",
    "\n",
    "To support this, Python has a way to put definitions in a file and use them in a script or in an interactive instance of the interpreter. Such a file is called a **module**; definitions from a module can be imported into other modules or into the main module (the collection of variables that you have access to in a script executed at the top level and in calculator mode).\n",
    "\n",
    "A module is a file containing Python definitions and statements. The file name is the module name with the suffix *.py* appended. Within a module, the module’s name (as a string) is available as the value of the global variable `__name__`.\n",
    "\n",
    "So say we write a python module and save it as a *.py* file. How do we use it? Well, we first have to import it (like the way we were importing packages all along!)."
   ]
  },
  {
   "cell_type": "code",
   "execution_count": 1,
   "metadata": {},
   "outputs": [],
   "source": [
    "from __future__ import print_function"
   ]
  },
  {
   "cell_type": "markdown",
   "metadata": {},
   "source": [
    "We just imported a function from a python package. In the same way we can import function from custom modules.\n",
    "\n",
    "We have created a module called *custom_module.py*\n",
    "\n",
    "First of all, we have to be in the **same folder** as the module, in which the function was defined.\n",
    "\n",
    "Then we need to `import` the module."
   ]
  },
  {
   "cell_type": "code",
   "execution_count": 2,
   "metadata": {},
   "outputs": [],
   "source": [
    "import custom_module as mod"
   ]
  },
  {
   "cell_type": "markdown",
   "metadata": {},
   "source": [
    "The above command instructs python to load module *custom_module.py* and refer to it from now on as mod. \n",
    "\n",
    "Finally, we call the function we wanted from the module, similar to how we call a method from a class."
   ]
  },
  {
   "cell_type": "code",
   "execution_count": 3,
   "metadata": {},
   "outputs": [
    {
     "name": "stdout",
     "output_type": "stream",
     "text": [
      "The 1st element in the range is: 0\n",
      "The 2nd element in the range is: 1\n",
      "The 3rd element in the range is: 2\n",
      "The 4th element in the range is: 3\n",
      "The 5th element in the range is: 4\n",
      "The 6th element in the range is: 5\n",
      "The 7th element in the range is: 6\n",
      "The 8th element in the range is: 7\n",
      "The 9th element in the range is: 8\n",
      "The 10th element in the range is: 9\n"
     ]
    }
   ],
   "source": [
    "mod.verbose_print(range(10))"
   ]
  },
  {
   "cell_type": "markdown",
   "metadata": {},
   "source": [
    "When importing modules or functions or classes from modules we need to be careful.\n",
    "\n",
    "While using the `from xxx import yyy` syntax appears convenient because we don't need to do as much typing as the plain `import xxx`, we may end up with name conflicts. The other problem is that we lose context about the function `yyy`. For example, it's less clear what `ceil()` does compared to `math.ceil()`. Another problem is that import statements need more support this way. If we reazlize we also need function `zzz` we need to add this to the import statement.\n",
    "\n",
    "Both methods have their pros and cons and it is up to your preference to choose which one to use.\n",
    "\n",
    "Just **don't** use \n",
    "```python\n",
    "from xxx import *\n",
    "```\n",
    "For any reasonable large set of code, if you `import *` you will likely be cementing it into the module, unable to be removed. This is because it is difficult to determine what items used in the code are coming from 'module', making it easy to get to the point where you think you don't use the import any more but it's extremely difficult to be sure.\n",
    "\n",
    "We can see which names a module defines by the `dir()` function."
   ]
  },
  {
   "cell_type": "code",
   "execution_count": 4,
   "metadata": {},
   "outputs": [
    {
     "name": "stdout",
     "output_type": "stream",
     "text": [
      "['__builtins__', '__cached__', '__doc__', '__file__', '__loader__', '__name__', '__package__', '__spec__', 'verbose_print']\n"
     ]
    }
   ],
   "source": [
    "print(dir(mod))"
   ]
  },
  {
   "cell_type": "markdown",
   "metadata": {},
   "source": [
    "- `__builtins__` is by default `__builtin__`. This module provides direct access to all *built-in* identifiers of Python.\n",
    "- `__doc__` prints out the class' docstring. Python documentation strings (or docstrings) provide a convenient way of associating documentation with Python modules, functions, classes, and methods. In order to write a docstring just write a multiline comment under the class definition.\n",
    "- `__file__` contains the filename of the module. In this case *custom_module.py*.\n",
    "- `__package__` contains the name of the package the module belongs to."
   ]
  },
  {
   "cell_type": "markdown",
   "metadata": {},
   "source": [
    "There are also these functions that can be used to see the bindings in the global or local scope.\n",
    "\n",
    "- `globals()` always returns the dictionary of the module namespace.\n",
    "- `locals()` always returns a dictionary of the current namespace.\n",
    "- `vars()` returns either a dictionary of the current namespace (if called with no argument) or the dictionary of the argument.\n",
    "\n",
    "Note that for efficiency reasons, each module is only imported once per interpreter session. Therefore, if you change your modules, you must restart the interpreter – or, if it’s just one module you want to test interactively, use `importlib.reload()`.\n",
    "\n",
    "# Scripts\n",
    "\n",
    "There is a difference between scripts and modules. Scripts are *.py* files that are meant to be run from the command-line. Modules on the other hand are meant to support other modules or scripts. To ensure a *.py* file is run as a script, or to modify it's behavior depending on weather it is run as a script or a module we use the following code:"
   ]
  },
  {
   "cell_type": "code",
   "execution_count": 5,
   "metadata": {
    "collapsed": true
   },
   "outputs": [],
   "source": [
    "if __name__ == '__main':\n",
    "    print('module used as script')"
   ]
  },
  {
   "cell_type": "markdown",
   "metadata": {},
   "source": [
    "This states that if the `*__name__` of the module is set to `'__main__'`, then we run the code. `'__main__'` is the name of the scope in which top-level code executes. \n",
    "\n",
    "If we want to run a module as a script we need to type:\n",
    "\n",
    "<pre>python custom_module.py</pre>\n",
    "\n",
    "from the command line.\n",
    "\n",
    "# Module search path\n",
    "\n",
    "When we try to import a module, python searches in 3 locations for it:\n",
    "\n",
    "- The **current working directory** (or the directory containing the input script).\n",
    "- The **`PYTHONPATH`**, which is an OS environmental variable containing a list of directory names.\n",
    "- The installation-dependent default. \n",
    "    - For linux based OS this usually is: `/usr/local/lib/pythonX.X/...`.\n",
    "    - For Windows OS this is the directory where you installed python (most common locations are `C:\\PythonXX`, `C:\\Users\\current_user\\AppData\\Local\\Programs\\Python\\PythonXX\\...`, etc.)"
   ]
  },
  {
   "cell_type": "markdown",
   "metadata": {},
   "source": [
    "# Packages\n",
    "A package is a Python module which can contain submodules or recursively, subpackages. Technically, a package is a Python module with a `__path__` attribute.\n",
    "\n",
    "In order to access a submodule from a module, we need to use the dotted syntax we saw before!\n",
    "\n",
    "Naming can become troublesome when using packages:\n",
    "```python\n",
    "import package.subpackage.subsubpackage.module\n",
    "package.subpackage.subsubpackage.module.function()\n",
    "package.subpackage.subsubpackage.module.another_function()\n",
    "```\n",
    "This is **not** efficient for your code.\n",
    "\n",
    "Either use:\n",
    "\n",
    "```python\n",
    "from package.subpackage.subsubpackage import module\n",
    "module.function()\n",
    "module.another_function()\n",
    "```\n",
    " Or\n",
    " ```python\n",
    "import package.subpackage.subsubpackage.module as mod\n",
    "mod.function()\n",
    "mod.another_function()\n",
    "```"
   ]
  }
 ],
 "metadata": {
  "kernelspec": {
   "display_name": "Python 3",
   "language": "python",
   "name": "python3"
  },
  "language_info": {
   "codemirror_mode": {
    "name": "ipython",
    "version": 3
   },
   "file_extension": ".py",
   "mimetype": "text/x-python",
   "name": "python",
   "nbconvert_exporter": "python",
   "pygments_lexer": "ipython3",
   "version": "3.6.3"
  }
 },
 "nbformat": 4,
 "nbformat_minor": 1
}
